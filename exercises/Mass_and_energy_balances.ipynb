{
 "cells": [
  {
   "cell_type": "markdown",
   "id": "342bf332",
   "metadata": {},
   "source": [
    " # Mass and energy balances"
   ]
  },
  {
   "cell_type": "markdown",
   "id": "554cf3b4",
   "metadata": {},
   "source": [
    "Mixing, splitting, reactions, and heat exchange are common within a chemical process. In this problem set, we will employ Stream objects to perform mass and energy balances for corn ethanol production at a conventional dry-grind plant. We will only model 4 steps:\n",
    "    \n",
    "    1. Mixing milled corn with water (32 % dry solids).\n",
    "       - Find the amount of dilution water required.\n",
    "       \n",
    "    2. Cooking (mix with superheated steam to 210 degC).\n",
    "       - Find the amount of steam required.\n",
    "       \n",
    "    3. Liquefaction (Starch + H2O -> Glucose at 87 degC).\n",
    "       - Find the duty from step 2 to 3\n",
    "       \n",
    "    4. Fermentation (Glucose -> 2Ethanol + 2CO2 at 32 degC; 90 % theoretical yield).\n",
    "       - Find the duty from step 3 to 4\n"
   ]
  },
  {
   "cell_type": "markdown",
   "id": "eefb18df",
   "metadata": {},
   "source": [
    "Before using BioSTEAM, let's first note down these assumptions:"
   ]
  },
  {
   "cell_type": "code",
   "execution_count": null,
   "id": "31149f4e",
   "metadata": {},
   "outputs": [],
   "source": [
    "solids_content = 0.32\n",
    "T_cooking = 210 + 273.15 # K\n",
    "T_steam = T_cooking + 10 # K\n",
    "T_liquefaction = 87 + 273.15 # K\n",
    "T_fermentation = 32 + 273.15 # K\n",
    "liquefaction_yield = 1.0 # 100 %\n",
    "fermentation_yield = 0.9 # 100 %"
   ]
  },
  {
   "cell_type": "markdown",
   "id": "8a78d094",
   "metadata": {},
   "source": [
    "First, we need to define the chemicals. Let's assume the corn kernel is composed of starch (62%), fiber (19%), water (15%), and oil (4%). Model the missing components, streams, and reactions in the code:"
   ]
  },
  {
   "cell_type": "code",
   "execution_count": null,
   "id": "45583c2c",
   "metadata": {},
   "outputs": [],
   "source": [
    "import biosteam as bst\n",
    "\n",
    "## Define chemicals ##\n",
    "\n",
    "Water = None # Hint: bst.Chemical will load any chemical by name\n",
    "Oil = bst.Chemical('Oil', search_ID='Tripalmitin', phase='l')\n",
    "Starch = bst.Chemical(\n",
    "    'Starch',\n",
    "    search_db=False, # Do not search database\n",
    "    phase='s', # Phase will not change even if stream is liquid\n",
    "    formula=\"C6H10O5\", # Glucose monomer minus water\n",
    "    Cp=1.364, # Heat capacity [J / g / K]\n",
    "    Hf=-975709, # Heat of formation [J / mol]\n",
    "    default=True, # Default the rest\n",
    ")\n",
    "Fiber = None # Hint: Define fiber with the same asssumptions as starch\n",
    "Glucose = bst.Chemical('Glucose', phase='s')\n",
    "bst.settings.set_thermo([Water, Starch, Fiber, Oil, Glucose, 'Ethanol', 'CO2'])\n",
    "\n",
    "## Create streams ##\n",
    "\n",
    "steam = bst.Stream(\n",
    "    phase='g', T=508.99, P=3.11e+06,\n",
    "    Water=1, units='kmol/hr'\n",
    ")\n",
    "dilution_water = None # Hint: Create an empty stream, the flow rate will be adjusted later.\n",
    "corn = None # Hint: Use units='kg/hr'\n",
    "\n",
    "## Create reactions ##\n",
    "\n",
    "liquefaction = bst.Reaction(\n",
    "    'Starch + Water -> Glucose', reactant='Starch', X=liquefaction_yield\n",
    ")\n",
    "fermentation = None # Hint: Follow example above"
   ]
  },
  {
   "cell_type": "markdown",
   "id": "57872a0d",
   "metadata": {},
   "source": [
    "Finally we can perform the mass and energy balances for this problem:"
   ]
  },
  {
   "cell_type": "code",
   "execution_count": null,
   "id": "abfe6c1a",
   "metadata": {},
   "outputs": [],
   "source": [
    "import numpy as np\n",
    "from numpy.testing import assert_allclose\n",
    "\n",
    "# Step 1: Mixing mass balance\n",
    "initial_moisture = corn.imass['Water']\n",
    "solids = (corn.F_mass - initial_moisture) \n",
    "dilution_water.imass['Water'] = None # Hint: Use `solids_content` and `solids`\n",
    "slurry = corn + dilution_water\n",
    "assert_allclose(slurry.get_mass_fraction('Water'), solids_content)\n",
    "\n",
    "# Step 2: Cooking energy balance\n",
    "# H - Enthalpy flow [kJ / hr]    h - Specific enthalpy [kJ / kmol]\n",
    "# H_slurry(T_slurry) + h_steam(T_steam) * x = H_slurry(T_cooking) + h_water(T_cooking) * x\n",
    "# x = (H_slurry(T_slurry) - H_slurry(T_cooking)) / (h_water(T_cooking) - h_steam(T_steam))\n",
    "water = steam.copy()\n",
    "water.phase = 'l'\n",
    "hot_slurry = slurry.copy()\n",
    "hot_slurry.T = water.T = T_cooking\n",
    "steam.imass['Water'] = None # Hint: Use energy balance above\n",
    "cooked_slurry = slurry + steam\n",
    "cooked_slurry.phase = 'l'\n",
    "assert_allclose(cooked_slurry.T, T_cooking)\n",
    "\n",
    "# Step 3: Liquefaction reaction\n",
    "liquified_slurry = cooked_slurry.copy()\n",
    "liquified_slurry.T = T_liquefaction\n",
    "liquefaction(liquified_slurry) # Reaction alters stream flow rates isothermally\n",
    "assert_allclose(liquified_slurry.imol['Glucose'], cooked_slurry.imol['Starch'])\n",
    "\n",
    "# Step 4: Fermentation reaction\n",
    "fermentation_broth = None # Hint: follow steps in liquifaction\n",
    "assert_allclose(fermentation_broth.imass['Ethanol', 'CO2'].sum(), liquified_slurry.imass['Glucose'])\n",
    "fermentation_broth.vle(T=T_fermentation, P=101325)"
   ]
  },
  {
   "cell_type": "markdown",
   "id": "064c902a",
   "metadata": {},
   "source": [
    "Let's compute our answers:"
   ]
  },
  {
   "cell_type": "code",
   "execution_count": null,
   "id": "cfd72d45",
   "metadata": {},
   "outputs": [],
   "source": [
    "print(f'Amount of dilution water required: {dilution_water.F_mass / corn.F_mass:.3g} kg')\n",
    "print(f'Amount of steam required: {steam.F_mass / corn.F_mass:.3g} kg')\n",
    "print(f'Duty from step 2 to 3: {(liquified_slurry.H - cooked_slurry.H) / corn.F_mass:.3g} kJ')\n",
    "print(f'Duty from step 3 to 4: {(fermentation_broth.H - liquified_slurry.H) / corn.F_mass: .3g} kJ')"
   ]
  }
 ],
 "metadata": {
  "kernelspec": {
   "display_name": "Python 3 (ipykernel)",
   "language": "python",
   "name": "python3"
  },
  "language_info": {
   "codemirror_mode": {
    "name": "ipython",
    "version": 3
   },
   "file_extension": ".py",
   "mimetype": "text/x-python",
   "name": "python",
   "nbconvert_exporter": "python",
   "pygments_lexer": "ipython3",
   "version": "3.11.4"
  }
 },
 "nbformat": 4,
 "nbformat_minor": 5
}
