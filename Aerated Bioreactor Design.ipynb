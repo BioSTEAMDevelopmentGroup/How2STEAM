{
 "cells": [
  {
   "cell_type": "markdown",
   "id": "830404c0",
   "metadata": {},
   "source": [
    "# Aerated Bioreactor Design for Oleochemical Production"
   ]
  },
  {
   "cell_type": "markdown",
   "id": "9bf93c98",
   "metadata": {},
   "source": [
    "The oleochemical industry is focusing renewable feedstocks and more sustainable pathways of production. Microbial pathways are generally not market competitive for the production of commodity oleochemicals, but technological breakthroughs in metabolic engineering are making microbial pathways a promising platform. In this case study, we discuss how to model an aerobic fermentation system for producing microbial oil, which can be further upgraded to sustainable aviation fuel or other oleochemicals. The aerobic fermentation system (including the compressor, reactor, agitator, and heat exchange equipment) constitutes the major cost driver in the minimum oil selling price."
   ]
  },
  {
   "cell_type": "markdown",
   "id": "e7869174",
   "metadata": {},
   "source": [
    "The goals of this case study are to:\n",
    "* Understand the design basis of sizing an aerated bioreactor in BioSTEAM.\n",
    "* Put in practice BioSTEAM's design algorithms for microbial oil production.\n",
    "* Leverage senstivity analysis for uncovering key economic drivers. "
   ]
  },
  {
   "cell_type": "markdown",
   "id": "35b02a8c",
   "metadata": {},
   "source": [
    "## Design basis"
   ]
  },
  {
   "cell_type": "markdown",
   "id": "6df2671c",
   "metadata": {},
   "source": [
    "### Configuration"
   ]
  },
  {
   "cell_type": "markdown",
   "id": "ac7b5c03",
   "metadata": {},
   "source": [
    "In this case study, we implement an industry-relevant configuration consisting of a stirred tank reactor, a heat exchanger loop, and a compressor (Figure 1). If you feedstock is in the form of diluted sugars (e.g., lignocellusic hydrolysate), you may need to concentrated your feed to achieve the a specified titer. This can be done efficiently through multi-effect evaporation, whereby the steam from the first effect is used to boil the next effect using a vacuum system. Alternatively, if you wish to operate at lower titers, you can dilute the sugars. Here we include both possibilities to be able to evaluate a spectrum of titers. Due to the high risk of bacterial contamination, we choose to operate in batch mode. Fed-batch configurations are also possible and can be modeled in a similar fashion. "
   ]
  },
  {
   "cell_type": "markdown",
   "id": "ef11ac8a",
   "metadata": {},
   "source": [
    "![Aerated bioreactor configuration](aerated_bioreactor_configuration.svg)"
   ]
  },
  {
   "cell_type": "markdown",
   "id": "eede55aa",
   "metadata": {},
   "source": [
    "### Mass transfer and mixing"
   ]
  },
  {
   "cell_type": "markdown",
   "id": "46450baa",
   "metadata": {},
   "source": [
    "Aerobic processes demand an oxygen uptake rate (OUR) which is satisfied by the oxygen transfer rate (OTR) under quasi steady-state. The basic mass tranfer equation is:\n",
    "\n",
    "$$ OTR = k_La(C_{out} - C) $$\n",
    "\n",
    "For tall vessels (>1 m tall) the log-mean driving force is more accurate. Due to the oxygen partial pressure gradient, the local concentration and the saturation concentration are different at the top and bottom of the reactor:\n",
    "\n",
    "$$ OTR = k_La \\frac{(C_{sat} - C)_{out} - (C_{sat} - C)_{in}}{ln\\Big(\\large \\frac{(C_{sat} - C)_{out}}{(C_{sat} - C)_{in}} \\Big)} $$\n",
    "\n",
    "The $k_La$ can be correlated to the superficail gas velocity, $U_S$, and the agitator power per unit volume, $P$, as follows:\n",
    "\n",
    "$$ k_La = AP^BU_S^C $$\n",
    "\n",
    "Where A, B, and C are correlation coefficients dependent on the agitator system, broth type, and size dimensions. The detailed design of the agitator is not relevant at this stage of the analysis, but the correlation coefficients will be a function of the agitator design.\n",
    "\n",
    "**Assumptions**\n",
    "\n",
    "* Assume a dissolved oxygen concentration of 50% saturation. Note that the flow rate of air (or agitation power) required to achieve an oxygen uptake rate equal to the oxygen transfer rate will depend on the oxygen saturation.\n",
    "* Set the power consumed by the agitator to 0.985 kW∙m3, a heuristic value common for industrial homogeneous reactions and comparable to estimates in Aspen plus. Note that is also possible to minimize power consumption by varying flow rate, but this would also lead to a greater capital cost for the compressor.\n",
    "* Assume the Van't Riet’s non-viscous mass transfer correlation is applicable to estimate the overall mass transfer coefficient, kLa (lumped together with the specific interfacial area). "
   ]
  },
  {
   "cell_type": "code",
   "execution_count": 1,
   "id": "fb989aee",
   "metadata": {},
   "outputs": [],
   "source": [
    "theta_O2 = 0.5 # Dissolved oxygen concentration [% saturation]\n",
    "agitation_power = 0.985 # [kW / m3]\n",
    "kLa_coefficients = \"Van't Riet\" # Name of method"
   ]
  },
  {
   "cell_type": "markdown",
   "id": "3e7b43fc",
   "metadata": {},
   "source": [
    "### Heat transfer"
   ]
  },
  {
   "cell_type": "markdown",
   "id": "2d7acda2",
   "metadata": {},
   "source": [
    "The heat exchanger loop provides additional mixing with the trade-off of temperature gradients throughout the loop. The fluid at the inlet of the heat exchanger is at the reactor operating temperature while the outlet fluid will be at a lower temperature, which depends on the flow rate. We can specify the outlet temperature (which cannot be too low to avoid inactivation of the yeast) and solve for the recirculation flow rate:\n",
    "\n",
    "$$F = \\frac{Duty}{C_pT_{outlet} - C_pT_{inlet}} $$\n",
    "\n",
    "The detailed design of the heat exchanger follows by-the-book design and consting algorithms, but is not discussed here.\n",
    "\n",
    "**Assumptions**\n",
    "\n",
    "* The fermentation temperature is 32 $^\\circ$C\n",
    "* Assume the temperature of the heat exchanger outlet does not drop by more than 8 $^\\circ$C\n",
    "* Assume the aerobic fermenter has a high heat-production rate of 110 kcal per mol of O2 consumed."
   ]
  },
  {
   "cell_type": "code",
   "execution_count": 2,
   "id": "86c182b0",
   "metadata": {},
   "outputs": [],
   "source": [
    "T_operation = 273.15 + 32 # [K]\n",
    "Q_O2_consumption = -110 * 4184 # [kJ/kmol]\n",
    "dT_hx_loop = 8 # degC"
   ]
  },
  {
   "cell_type": "markdown",
   "id": "5047e5b2",
   "metadata": {},
   "source": [
    "## Compressor"
   ]
  },
  {
   "cell_type": "markdown",
   "id": "6a6f775e",
   "metadata": {},
   "source": [
    "The compressor is needed to pressurize air to make up for the liquid head and losses from the sparger ring and piping. Currently, BioSTEAM only accounts for the liquid head. The outlet from the compressor has an increased temperature due to thermodynamic inefficiencies. For this reason, a cooler is also needed to brin the temperature back down."
   ]
  },
  {
   "cell_type": "markdown",
   "id": "4aeeb760",
   "metadata": {},
   "source": [
    "### Reaction stoichiometry"
   ]
  },
  {
   "cell_type": "markdown",
   "id": "48aaf095",
   "metadata": {},
   "source": [
    "The production of microbial oil is an aerobic process that can be modeled as the sum of 3 stoichiometric reactions: oil production from sugar, combustion of glucose (respiration), and cell growth. The substrate not converted to cell mass or oil is assumed to be consumed for respiration. Given the yield of triolein, Yp (wt %), and the fraction of biomass produced over the total substrate not consumed for oil production, Yb (wt %,), the extent of each reaction can be calculated. \n",
    "\n",
    "| Reaction            | Stoichiometry (by mol)                                             | Reaction extent               |\n",
    "| ------------------- | ------------------------------------------------------------------- | ----------------------------- |\n",
    "| Production:         | $$ Glucose \\rightarrow 0.235\\ H_2O + 2.53\\ O_2  + 0.118\\ Tripalmitin $$ | $$ X_p=\\frac{Y_p}{0.527}   $$ |\n",
    "| <sup>a</sup>Growth: | $$ Glucose \\rightarrow 1.7\\ H_2O + 0.655\\ CO_2 + 5.35\\ Yeast      $$ | $$ X_b= (1-X_p ) \\cdot Y_b $$ |\n",
    "| Respiration:        | $$ Glucose + 6 O_2 \\rightarrow 6 H_2O + 6 CO_2                    $$ | $$ X_r=1-X_p-X_b           $$ | \n",
    "\n",
    "<center><sup>a</sup>The molecular formula of yeast is assumed to be $CH_{1.61}O_{0.56}$</center>\n",
    "\n",
    "**Assumptions**\n",
    "\n",
    "* The maximum volume of each reactor vessel is 200 $\\text{m}^\\text{3}$.\n",
    "* Titer is 27.4 g∙L<sup>-1</sup>\n",
    "* Productivity is 0.31 g∙L<sup>-1</sup>∙h<sup>-1</sup> \n",
    "* Yield is 18 wt %\n",
    "* Ratio of biomass produced over total substrate not consumed for oil production is 43 wt %"
   ]
  },
  {
   "cell_type": "code",
   "execution_count": 3,
   "id": "316be086",
   "metadata": {},
   "outputs": [],
   "source": [
    "V_max = 200 # [m3]\n",
    "titer = 27.4 # [g / L]\n",
    "productivity = 0.31 # [g / L / h]\n",
    "lipid_yield = 0.18 # [by wt]\n",
    "Y_b = 0.43 # [by wt]"
   ]
  },
  {
   "cell_type": "markdown",
   "id": "d3fc7974",
   "metadata": {},
   "source": [
    "## Bioreactor modeling in BioSTEAM\n",
    "\n",
    "With an introductory understanding of the design principles, we can now model our configuration. The first step we will take is to create the chemicals and formulate the reactions:"
   ]
  },
  {
   "cell_type": "code",
   "execution_count": 29,
   "id": "cb205e5c",
   "metadata": {},
   "outputs": [
    {
     "name": "stdout",
     "output_type": "stream",
     "text": [
      "ParallelReaction (by mol):\n",
      "index  stoichiometry                                         reactant    X[%]\n",
      "[0]    Glucose -> 0.235 Water + 2.53 O2 + 0.118 Tripalmitin  Glucose    34.14\n",
      "[1]    Glucose -> 1.7 Water + 0.655 CO2 + 5.35 Yeast         Glucose    35.26\n",
      "[2]    Glucose + 6 O2 -> 6 Water + 6 CO2                     Glucose    30.60\n"
     ]
    }
   ],
   "source": [
    "import biosteam as bst\n",
    "bst.nbtutorial()\n",
    "bst.settings.set_thermo([\n",
    "    bst.Chemical('Glucose', phase='l'),\n",
    "    bst.Chemical('Water'),\n",
    "    bst.Chemical('CO2'),\n",
    "    bst.Chemical('O2'),\n",
    "    bst.Chemical('N2'),\n",
    "    bst.Chemical('Tripalmitin', phase='l', Hf=-2468.7),\n",
    "    bst.Chemical('Yeast', \n",
    "        phase='s',\n",
    "        search_db=False,\n",
    "        formula='CH1.61O0.56',\n",
    "        rho=1540, # kg/m3\n",
    "        Cp=1.5, # J/g\n",
    "        default=True, # Default other properties\n",
    "    )\n",
    "])\n",
    "chemicals = bst.settings.chemicals\n",
    "chemicals.set_alias('Tripalmitin', 'Lipid')\n",
    "chemicals.Lipid.V.method = 'HTCOSTALD'\n",
    "production = bst.Reaction(\n",
    "    \"Glucose -> H2O + O2 + Lipid\", reactant='Glucose', X=1,\n",
    "    correct_atomic_balance=True,\n",
    ")\n",
    "production.product_yield('Lipid', basis='wt', product_yield=lipid_yield)\n",
    "growth = bst.Reaction(\n",
    "    'Glucose -> H2O + CO2 + Yeast', 'Glucose', (1 - lipid_yield) * Y_b, \n",
    "    correct_atomic_balance=True\n",
    ")\n",
    "respiration = bst.Reaction(\n",
    "    'Glucose + O2 -> CO2 + H2O', 'Glucose', 1. - growth.X - production.X,\n",
    "    correct_atomic_balance=True\n",
    ")\n",
    "reactions = bst.ParallelReaction([production, growth, respiration])\n",
    "reactions.show()"
   ]
  },
  {
   "cell_type": "markdown",
   "id": "34a3aeeb",
   "metadata": {},
   "source": [
    "Now let's create our aerated bioreactor:"
   ]
  },
  {
   "cell_type": "code",
   "execution_count": 30,
   "id": "0ef742a3",
   "metadata": {},
   "outputs": [
    {
     "data": {
      "text/html": [
       "\n",
       "        <iframe\n",
       "            width=\"100%\"\n",
       "            height=\"400px\"\n",
       "            src=\"data:text/html;charset=utf-8,%3C%21DOCTYPE%20html%3E%3Chtml%3E%3Chead%3E%3Clink%20rel%3D%22stylesheet%22%20href%3D%22https%3A//unpkg.com/tippy.js%406.3.7/themes/translucent.css%22%3E%3Clink%20rel%3D%22stylesheet%22%20href%3D%22https%3A//rawcdn.githack.com/BioSTEAMDevelopmentGroup/biosteam/e065aca079c216d72b75949bbcbb74a3bbddb75d/biosteam/digraph/digraph.css%22%3E%3Cscript%20src%3D%22https%3A//unpkg.com/%40popperjs/core%402%22%3E%3C/script%3E%3Cscript%20src%3D%22https%3A//unpkg.com/tippy.js%406%22%3E%3C/script%3E%3Cscript%20src%3D%22https%3A//rawcdn.githack.com/BioSTEAMDevelopmentGroup/biosteam/e065aca079c216d72b75949bbcbb74a3bbddb75d/biosteam/digraph/digraph.js%22%3E%3C/script%3E%3C/head%3E%3Cbody%3E%3Csvg%20width%3D%22914pt%22%20height%3D%22258pt%22%20viewBox%3D%220.00%200.00%20914.14%20258.21%22%3E%0A%3Cg%20id%3D%22graph0%22%20class%3D%22graph%22%20transform%3D%22scale%281%201%29%20rotate%280%29%20translate%284%20254.21%29%22%3E%0A%3Cpolygon%20fill%3D%22%23ffffff%22%20fill-opacity%3D%220.666667%22%20stroke%3D%22transparent%22%20points%3D%22-4%2C4%20-4%2C-254.21%20910.14%2C-254.21%20910.14%2C4%20-4%2C4%22%3E%3C/polygon%3E%0A%0A%3Cg%20id%3D%22edge1%22%20class%3D%22edge%22%20data-tippy-content%3D%22%28empty%29%22%3E%0A%3Cpath%20fill%3D%22none%22%20stroke%3D%22%234e4e4e%22%20stroke-dasharray%3D%225%2C2%22%20d%3D%22M469.55%2C-150.36C482.15%2C-158.22%20496.84%2C-166.84%20510.72%2C-173.71%20526.78%2C-181.65%20544.43%2C-189.24%20561.36%2C-195.99%22%3E%3C/path%3E%0A%3Cpolygon%20fill%3D%22%234e4e4e%22%20stroke%3D%22%234e4e4e%22%20points%3D%22560.09%2C-199.25%20570.67%2C-199.66%20562.65%2C-192.74%20560.09%2C-199.25%22%3E%3C/polygon%3E%0A%3Cg%20id%3D%22a_edge1-label%22%3E%3Ca%20title%3D%22%28empty%29%22%3E%0A%3Ctext%20text-anchor%3D%22middle%22%20x%3D%22536.72%22%20y%3D%22-199.51%22%20font-family%3D%22Arial%22%20font-size%3D%2214.00%22%20fill%3D%22%234e4e4e%22%3E%20s.876%3C/text%3E%0A%3C/a%3E%0A%3C/g%3E%0A%3C/g%3E%0A%0A%3Cg%20id%3D%22edge5%22%20class%3D%22edge%22%20data-tippy-content%3D%22%28empty%29%22%3E%0A%3Cpath%20fill%3D%22none%22%20stroke%3D%22%234e4e4e%22%20stroke-dasharray%3D%225%2C2%22%20d%3D%22M502.79%2C-141.21C541.4%2C-147.46%20591.15%2C-153.71%20635.72%2C-153.71%22%3E%3C/path%3E%0A%3Cg%20id%3D%22a_edge5-label%22%3E%3Ca%20title%3D%22%28empty%29%22%3E%0A%3Ctext%20text-anchor%3D%22middle%22%20x%3D%22536.72%22%20y%3D%22-153.51%22%20font-family%3D%22Arial%22%20font-size%3D%2214.00%22%20fill%3D%22%234e4e4e%22%3E%20vent%3C/text%3E%0A%3C/a%3E%0A%3C/g%3E%0A%3C/g%3E%0A%0A%3Cg%20id%3D%22edge9%22%20class%3D%22edge%22%20data-tippy-content%3D%22%28empty%29%22%3E%0A%3Cpath%20fill%3D%22none%22%20stroke%3D%22%234e4e4e%22%20stroke-dasharray%3D%225%2C2%22%20d%3D%22M502.73%2C-114.71C541.31%2C-107.71%20591.06%2C-100.71%20635.72%2C-100.71%22%3E%3C/path%3E%0A%3Cg%20id%3D%22a_edge9-label%22%3E%3Ca%20title%3D%22%28empty%29%22%3E%0A%3Ctext%20text-anchor%3D%22middle%22%20x%3D%22536.72%22%20y%3D%22-117.51%22%20font-family%3D%22Arial%22%20font-size%3D%2214.00%22%20fill%3D%22%234e4e4e%22%3E%20effluent%3C/text%3E%0A%3C/a%3E%0A%3C/g%3E%0A%3C/g%3E%0A%0A%3Cg%20id%3D%22edge7%22%20class%3D%22edge%22%20data-tippy-content%3D%22%28empty%29%22%3E%0A%3Cpath%20fill%3D%22none%22%20stroke%3D%22%234e4e4e%22%20stroke-dasharray%3D%225%2C2%22%20d%3D%22M170.84%2C-185.71C185.78%2C-185.71%20201.62%2C-185.71%20216.09%2C-185.71%22%3E%3C/path%3E%0A%3Cpolygon%20fill%3D%22%234e4e4e%22%20stroke%3D%22%234e4e4e%22%20points%3D%22216.36%2C-189.21%20226.36%2C-185.71%20216.36%2C-182.21%20216.36%2C-189.21%22%3E%3C/polygon%3E%0A%3Cg%20id%3D%22a_edge7-label%22%3E%3Ca%20title%3D%22%28empty%29%22%3E%0A%3Ctext%20text-anchor%3D%22middle%22%20x%3D%22198.46%22%20y%3D%22-189.51%22%20font-family%3D%22Arial%22%20font-size%3D%2214.00%22%20fill%3D%22%234e4e4e%22%3E%20s.879%3C/text%3E%0A%3C/a%3E%0A%3C/g%3E%0A%3C/g%3E%0A%0A%3Cg%20id%3D%22edge2%22%20class%3D%22edge%22%20data-tippy-content%3D%22%28empty%29%22%3E%0A%3Cpath%20fill%3D%22none%22%20stroke%3D%22%234e4e4e%22%20stroke-dasharray%3D%225%2C2%22%20d%3D%22M310.74%2C-171.77C326.44%2C-166.32%20344.93%2C-159.89%20362.77%2C-153.7%22%3E%3C/path%3E%0A%3Cpolygon%20fill%3D%22%234e4e4e%22%20stroke%3D%22%234e4e4e%22%20points%3D%22364.3%2C-156.87%20372.59%2C-150.29%20362%2C-150.26%20364.3%2C-156.87%22%3E%3C/polygon%3E%0A%3Cg%20id%3D%22a_edge2-label%22%3E%3Ca%20title%3D%22%28empty%29%22%3E%0A%3Ctext%20text-anchor%3D%22middle%22%20x%3D%22340.72%22%20y%3D%22-171.51%22%20font-family%3D%22Arial%22%20font-size%3D%2214.00%22%20fill%3D%22%234e4e4e%22%3E%20s.880%3C/text%3E%0A%3C/a%3E%0A%3C/g%3E%0A%3C/g%3E%0A%0A%3Cg%20id%3D%22edge3%22%20class%3D%22edge%22%20data-tippy-content%3D%22%28empty%29%22%3E%0A%3Cpath%20fill%3D%22none%22%20stroke%3D%22%234e4e4e%22%20stroke-dasharray%3D%225%2C2%22%20d%3D%22M765.69%2C-58.06C711.88%2C-50.55%20635.56%2C-45.2%20570.72%2C-60.71%20537.36%2C-68.69%20502.92%2C-86.41%20477.3%2C-101.77%22%3E%3C/path%3E%0A%3Cpolygon%20fill%3D%22%234e4e4e%22%20stroke%3D%22%234e4e4e%22%20points%3D%22475.33%2C-98.87%20468.63%2C-107.08%20478.99%2C-104.84%20475.33%2C-98.87%22%3E%3C/polygon%3E%0A%3Cg%20id%3D%22a_edge3-label%22%3E%3Ca%20title%3D%22%28empty%29%22%3E%0A%3Ctext%20text-anchor%3D%22middle%22%20x%3D%22639.72%22%20y%3D%22-64.51%22%20font-family%3D%22Arial%22%20font-size%3D%2214.00%22%20fill%3D%22%234e4e4e%22%3E%20s.878%3C/text%3E%0A%3C/a%3E%0A%3C/g%3E%0A%3C/g%3E%0A%0A%3Cg%20id%3D%22edge8%22%20class%3D%22edge%22%20data-tippy-content%3D%22%28empty%29%22%3E%0A%3Cpath%20fill%3D%22none%22%20stroke%3D%22%234e4e4e%22%20stroke-dasharray%3D%225%2C2%22%20d%3D%22M682.65%2C-197.15C691.41%2C-191.28%20700.48%2C-184.94%20708.72%2C-178.71%20730.91%2C-161.94%20754.26%2C-142.44%20774.74%2C-124.66%22%3E%3C/path%3E%0A%3Cpolygon%20fill%3D%22%234e4e4e%22%20stroke%3D%22%234e4e4e%22%20points%3D%22777.2%2C-127.15%20782.44%2C-117.94%20772.6%2C-121.88%20777.2%2C-127.15%22%3E%3C/polygon%3E%0A%3Cg%20id%3D%22a_edge8-label%22%3E%3Ca%20title%3D%22%28empty%29%22%3E%0A%3Ctext%20text-anchor%3D%22middle%22%20x%3D%22736.72%22%20y%3D%22-174.51%22%20font-family%3D%22Arial%22%20font-size%3D%2214.00%22%20fill%3D%22%234e4e4e%22%3E%20s.877%3C/text%3E%0A%3C/a%3E%0A%3C/g%3E%0A%3C/g%3E%0A%0A%3Cg%20id%3D%22edge4%22%20class%3D%22edge%22%20data-tippy-content%3D%22%28empty%29%22%3E%0A%3Cpath%20fill%3D%22none%22%20stroke%3D%22%234e4e4e%22%20stroke-dasharray%3D%225%2C2%22%20d%3D%22M276.59%2C-100.71C307.12%2C-100.71%20340.46%2C-105.83%20368.63%2C-111.7%22%3E%3C/path%3E%0A%3Cg%20id%3D%22a_edge4-label%22%3E%3Ca%20title%3D%22%28empty%29%22%3E%0A%3Ctext%20text-anchor%3D%22middle%22%20x%3D%22340.72%22%20y%3D%22-114.51%22%20font-family%3D%22Arial%22%20font-size%3D%2214.00%22%20fill%3D%22%234e4e4e%22%3E%20feed%3C/text%3E%0A%3C/a%3E%0A%3C/g%3E%0A%3C/g%3E%0A%0A%3Cg%20id%3D%22edge6%22%20class%3D%22edge%22%20data-tippy-content%3D%22%28empty%29%22%3E%0A%3Cpath%20fill%3D%22none%22%20stroke%3D%22%234e4e4e%22%20stroke-dasharray%3D%225%2C2%22%20d%3D%22M11%2C-185.71C22.28%2C-185.71%2034.3%2C-185.71%2045.88%2C-185.71%22%3E%3C/path%3E%0A%3Cg%20id%3D%22a_edge6-label%22%3E%3Ca%20title%3D%22%28empty%29%22%3E%0A%3Ctext%20text-anchor%3D%22middle%22%20x%3D%2228.5%22%20y%3D%22-189.51%22%20font-family%3D%22Arial%22%20font-size%3D%2214.00%22%20fill%3D%22%234e4e4e%22%3E%20air%3C/text%3E%0A%3C/a%3E%0A%3C/g%3E%0A%3C/g%3E%0A%0A%3Cg%20id%3D%22node1%22%20class%3D%22node%22%20data-tippy-content%3D%22No%20capital%20costs%20or%20utilities%22%3E%0A%3Cg%20id%3D%22a_node1%22%3E%3Ca%20title%3D%22%20No%20capital%20costs%20or%20utilities%22%3E%0A%3Cdefs%3E%0A%3ClinearGradient%20id%3D%22l_0%22%20gradientUnits%3D%22userSpaceOnUse%22%20x1%3D%22368.72%22%20y1%3D%22-128.71%22%20x2%3D%22502.72%22%20y2%3D%22-128.71%22%3E%0A%3Cstop%20offset%3D%220%22%20style%3D%22stop-color%3Awhite%3Bstop-opacity%3A1.%3B%22%3E%3C/stop%3E%0A%3Cstop%20offset%3D%221%22%20style%3D%22stop-color%3A%23cdcdcd%3Bstop-opacity%3A1.%3B%22%3E%3C/stop%3E%0A%3C/linearGradient%3E%0A%3C/defs%3E%0A%3Cpolygon%20fill%3D%22url%28%23l_0%29%22%20stroke%3D%22%234e4e4e%22%20points%3D%22502.72%2C-150.21%20368.72%2C-150.21%20368.72%2C-107.21%20502.72%2C-107.21%20502.72%2C-150.21%22%3E%3C/polygon%3E%0A%3Ctext%20text-anchor%3D%22middle%22%20x%3D%22435.72%22%20y%3D%22-132.51%22%20font-family%3D%22Arial%22%20font-size%3D%2214.00%22%3EAB1%3C/text%3E%0A%3Ctext%20text-anchor%3D%22middle%22%20x%3D%22435.72%22%20y%3D%22-117.51%22%20font-family%3D%22Arial%22%20font-size%3D%2214.00%22%3EAerated%20bioreactor%3C/text%3E%0A%3C/a%3E%0A%3C/g%3E%0A%3C/g%3E%0A%0A%3Cg%20id%3D%22node2%22%20class%3D%22node%22%20data-tippy-content%3D%22No%20capital%20costs%20or%20utilities%22%3E%0A%3Cg%20id%3D%22a_node2%22%3E%3Ca%20title%3D%22%20No%20capital%20costs%20or%20utilities%22%3E%0A%3Cdefs%3E%0A%3ClinearGradient%20id%3D%22l_1%22%20gradientUnits%3D%22userSpaceOnUse%22%20x1%3D%2245.77%22%20y1%3D%22-185.71%22%20x2%3D%22170.68%22%20y2%3D%22-185.71%22%3E%0A%3Cstop%20offset%3D%220%22%20style%3D%22stop-color%3Awhite%3Bstop-opacity%3A1.%3B%22%3E%3C/stop%3E%0A%3Cstop%20offset%3D%221%22%20style%3D%22stop-color%3A%23cdcdcd%3Bstop-opacity%3A1.%3B%22%3E%3C/stop%3E%0A%3C/linearGradient%3E%0A%3C/defs%3E%0A%3Cpolygon%20fill%3D%22url%28%23l_1%29%22%20stroke%3D%22%234e4e4e%22%20points%3D%22170.68%2C-154.17%20170.68%2C-217.25%2045.77%2C-239.71%2045.77%2C-131.71%20170.68%2C-154.17%22%3E%3C/polygon%3E%0A%3Ctext%20text-anchor%3D%22middle%22%20x%3D%22108.23%22%20y%3D%22-197.01%22%20font-family%3D%22Arial%22%20font-size%3D%2214.00%22%3EAB1%3C/text%3E%0A%3Ctext%20text-anchor%3D%22middle%22%20x%3D%22108.23%22%20y%3D%22-182.01%22%20font-family%3D%22Arial%22%20font-size%3D%2214.00%22%3ECompressor%3C/text%3E%0A%3Ctext%20text-anchor%3D%22middle%22%20x%3D%22108.23%22%20y%3D%22-167.01%22%20font-family%3D%22Arial%22%20font-size%3D%2214.00%22%3EAuxiliary%3C/text%3E%0A%3C/a%3E%0A%3C/g%3E%0A%3C/g%3E%0A%0A%3Cg%20id%3D%22node3%22%20class%3D%22node%22%20data-tippy-content%3D%22No%20capital%20costs%20or%20utilities%22%3E%0A%3Cg%20id%3D%22a_node3%22%3E%3Ca%20title%3D%22%20No%20capital%20costs%20or%20utilities%22%3E%0A%3Cdefs%3E%0A%3ClinearGradient%20id%3D%22l_2%22%20gradientUnits%3D%22userSpaceOnUse%22%20x1%3D%22226.32%22%20y1%3D%22-185.71%22%20x2%3D%22312.86%22%20y2%3D%22-185.71%22%3E%0A%3Cstop%20offset%3D%220%22%20style%3D%22stop-color%3Awhite%3Bstop-opacity%3A1.%3B%22%3E%3C/stop%3E%0A%3Cstop%20offset%3D%221%22%20style%3D%22stop-color%3A%23cdcdcd%3Bstop-opacity%3A1.%3B%22%3E%3C/stop%3E%0A%3C/linearGradient%3E%0A%3C/defs%3E%0A%3Cellipse%20fill%3D%22url%28%23l_2%29%22%20stroke%3D%22%234e4e4e%22%20cx%3D%22269.59%22%20cy%3D%22-185.71%22%20rx%3D%2243.27%22%20ry%3D%2243.27%22%3E%3C/ellipse%3E%0A%3Ctext%20text-anchor%3D%22middle%22%20x%3D%22269.59%22%20y%3D%22-197.01%22%20font-family%3D%22Arial%22%20font-size%3D%2214.00%22%3EAB1%3C/text%3E%0A%3Ctext%20text-anchor%3D%22middle%22%20x%3D%22269.59%22%20y%3D%22-182.01%22%20font-family%3D%22Arial%22%20font-size%3D%2214.00%22%3EAir%20cooler%3C/text%3E%0A%3Ctext%20text-anchor%3D%22middle%22%20x%3D%22269.59%22%20y%3D%22-167.01%22%20font-family%3D%22Arial%22%20font-size%3D%2214.00%22%3EAuxiliary%3C/text%3E%0A%3C/a%3E%0A%3C/g%3E%0A%3C/g%3E%0A%0A%3Cg%20id%3D%22node4%22%20class%3D%22node%22%20data-tippy-content%3D%22No%20capital%20costs%20or%20utilities%22%3E%0A%3Cg%20id%3D%22a_node4%22%3E%3Ca%20title%3D%22%20No%20capital%20costs%20or%20utilities%22%3E%0A%3Cdefs%3E%0A%3ClinearGradient%20id%3D%22l_3%22%20gradientUnits%3D%22userSpaceOnUse%22%20x1%3D%22764.51%22%20y1%3D%22-70.71%22%20x2%3D%22906.35%22%20y2%3D%22-70.71%22%3E%0A%3Cstop%20offset%3D%220%22%20style%3D%22stop-color%3Awhite%3Bstop-opacity%3A1.%3B%22%3E%3C/stop%3E%0A%3Cstop%20offset%3D%221%22%20style%3D%22stop-color%3A%23cdcdcd%3Bstop-opacity%3A1.%3B%22%3E%3C/stop%3E%0A%3C/linearGradient%3E%0A%3C/defs%3E%0A%3Cellipse%20fill%3D%22url%28%23l_3%29%22%20stroke%3D%22%234e4e4e%22%20cx%3D%22835.43%22%20cy%3D%22-70.71%22%20rx%3D%2270.92%22%20ry%3D%2270.92%22%3E%3C/ellipse%3E%0A%3Ctext%20text-anchor%3D%22middle%22%20x%3D%22835.43%22%20y%3D%22-82.01%22%20font-family%3D%22Arial%22%20font-size%3D%2214.00%22%3EAB1%3C/text%3E%0A%3Ctext%20text-anchor%3D%22middle%22%20x%3D%22835.43%22%20y%3D%22-67.01%22%20font-family%3D%22Arial%22%20font-size%3D%2214.00%22%3EHeat%20exchanger%3C/text%3E%0A%3Ctext%20text-anchor%3D%22middle%22%20x%3D%22835.43%22%20y%3D%22-52.01%22%20font-family%3D%22Arial%22%20font-size%3D%2214.00%22%3EAuxiliary%3C/text%3E%0A%3C/a%3E%0A%3C/g%3E%0A%3C/g%3E%0A%0A%3Cg%20id%3D%22node5%22%20class%3D%22node%22%20data-tippy-content%3D%22No%20capital%20costs%20or%20utilities%22%3E%0A%3Cg%20id%3D%22a_node5%22%3E%3Ca%20title%3D%22%20No%20capital%20costs%20or%20utilities%22%3E%0A%3Cdefs%3E%0A%3ClinearGradient%20id%3D%22l_4%22%20gradientUnits%3D%22userSpaceOnUse%22%20x1%3D%22570.72%22%20y1%3D%22-223.71%22%20x2%3D%22708.72%22%20y2%3D%22-223.71%22%3E%0A%3Cstop%20offset%3D%220%22%20style%3D%22stop-color%3Awhite%3Bstop-opacity%3A1.%3B%22%3E%3C/stop%3E%0A%3Cstop%20offset%3D%221%22%20style%3D%22stop-color%3A%23cdcdcd%3Bstop-opacity%3A1.%3B%22%3E%3C/stop%3E%0A%3C/linearGradient%3E%0A%3C/defs%3E%0A%3Cpolygon%20fill%3D%22url%28%23l_4%29%22%20stroke%3D%22%234e4e4e%22%20points%3D%22708.72%2C-250.21%20570.72%2C-250.21%20570.72%2C-197.21%20708.72%2C-197.21%20708.72%2C-250.21%22%3E%3C/polygon%3E%0A%3Ctext%20text-anchor%3D%22middle%22%20x%3D%22639.72%22%20y%3D%22-235.01%22%20font-family%3D%22Arial%22%20font-size%3D%2214.00%22%3EAB1%3C/text%3E%0A%3Ctext%20text-anchor%3D%22middle%22%20x%3D%22639.72%22%20y%3D%22-220.01%22%20font-family%3D%22Arial%22%20font-size%3D%2214.00%22%3ERecirculation%20pump%3C/text%3E%0A%3Ctext%20text-anchor%3D%22middle%22%20x%3D%22639.72%22%20y%3D%22-205.01%22%20font-family%3D%22Arial%22%20font-size%3D%2214.00%22%3EAuxiliary%3C/text%3E%0A%3C/a%3E%0A%3C/g%3E%0A%3C/g%3E%0A%0A%3Cg%20id%3D%22node6%22%20class%3D%22node%22%20data-tippy-content%3D%22feed%22%3E%0A%3Cpolygon%20fill%3D%22%23f98f60%22%20stroke%3D%22%234e4e4e%22%20points%3D%22269.59%2C-106.21%20264.09%2C-100.71%20269.59%2C-95.21%20275.09%2C-100.71%20269.59%2C-106.21%22%3E%3C/polygon%3E%0A%3C/g%3E%0A%0A%3Cg%20id%3D%22node7%22%20class%3D%22node%22%20data-tippy-content%3D%22vent%22%3E%0A%3Cpolygon%20fill%3D%22%23f98f60%22%20stroke%3D%22%234e4e4e%22%20points%3D%22645.22%2C-153.71%20636.97%2C-160.71%20636.97%2C-146.71%20645.22%2C-153.71%22%3E%3C/polygon%3E%0A%3C/g%3E%0A%0A%3Cg%20id%3D%22node8%22%20class%3D%22node%22%20data-tippy-content%3D%22air%22%3E%0A%3Cpolygon%20fill%3D%22%23f98f60%22%20stroke%3D%22%234e4e4e%22%20points%3D%225.5%2C-191.21%200%2C-185.71%205.5%2C-180.21%2011%2C-185.71%205.5%2C-191.21%22%3E%3C/polygon%3E%0A%3C/g%3E%0A%0A%3Cg%20id%3D%22node9%22%20class%3D%22node%22%20data-tippy-content%3D%22effluent%22%3E%0A%3Cpolygon%20fill%3D%22%23f98f60%22%20stroke%3D%22%234e4e4e%22%20points%3D%22645.22%2C-100.71%20636.97%2C-107.71%20636.97%2C-93.71%20645.22%2C-100.71%22%3E%3C/polygon%3E%0A%3C/g%3E%0A%3C/g%3E%0A%3C/svg%3E%3C/body%3E%3C/html%3E\"\n",
       "            frameborder=\"0\"\n",
       "            allowfullscreen\n",
       "            allowtransparency=\"true\"\n",
       "        ></iframe>\n",
       "        "
      ],
      "text/plain": [
       "<IPython.lib.display.IFrame at 0x26d8f68e140>"
      ]
     },
     "metadata": {},
     "output_type": "display_data"
    }
   ],
   "source": [
    "effluent = bst.Stream('effluent')\n",
    "AB1 = bst.AeratedBioreactor('AB1',\n",
    "    ins=['feed', bst.Stream('air', phase='g')],\n",
    "    outs=['vent', effluent],\n",
    "    V_max=V_max, Q_O2_consumption=Q_O2_consumption,\n",
    "    dT_hx_loop=dT_hx_loop, T=T_operation,\n",
    "    batch=True, reactions=reactions,\n",
    "    kW_per_m3=agitation_power,\n",
    "    tau=titer/productivity,\n",
    ")\n",
    "\n",
    "performance = {\n",
    "    'titer': titer,\n",
    "    'productivity': productivity,\n",
    "    'yield': lipid_yield,\n",
    "}\n",
    "\n",
    "@AB1.add_specification(run=True)\n",
    "def update_reaction_time():\n",
    "    AB1.tau = performance['titer'] / performance['productivity']\n",
    "\n",
    "AB1.diagram()"
   ]
  },
  {
   "cell_type": "markdown",
   "id": "de280c1e",
   "metadata": {},
   "source": [
    "The bioreactor system already comes with all the auxiliary units for aeration and heat transfer. All what is left is to add the concentration/dilution system. We create the multi-effect evaporator assuming 5 effects. The required vapor fraction of the first effect will be solved for in a specification:"
   ]
  },
  {
   "cell_type": "code",
   "execution_count": 34,
   "id": "e3cafc1c",
   "metadata": {},
   "outputs": [
    {
     "data": {
      "text/html": [
       "\n",
       "        <iframe\n",
       "            width=\"100%\"\n",
       "            height=\"600px\"\n",
       "            src=\"data:text/html;charset=utf-8,%3C%21DOCTYPE%20html%3E%3Chtml%3E%3Chead%3E%3Clink%20rel%3D%22stylesheet%22%20href%3D%22https%3A//unpkg.com/tippy.js%406.3.7/themes/translucent.css%22%3E%3Clink%20rel%3D%22stylesheet%22%20href%3D%22https%3A//rawcdn.githack.com/BioSTEAMDevelopmentGroup/biosteam/e065aca079c216d72b75949bbcbb74a3bbddb75d/biosteam/digraph/digraph.css%22%3E%3Cscript%20src%3D%22https%3A//unpkg.com/%40popperjs/core%402%22%3E%3C/script%3E%3Cscript%20src%3D%22https%3A//unpkg.com/tippy.js%406%22%3E%3C/script%3E%3Cscript%20src%3D%22https%3A//rawcdn.githack.com/BioSTEAMDevelopmentGroup/biosteam/e065aca079c216d72b75949bbcbb74a3bbddb75d/biosteam/digraph/digraph.js%22%3E%3C/script%3E%3C/head%3E%3Cbody%3E%3Csvg%20width%3D%221097pt%22%20height%3D%22331pt%22%20viewBox%3D%220.00%200.00%201096.84%20330.93%22%3E%0A%3Cg%20id%3D%22graph0%22%20class%3D%22graph%22%20transform%3D%22scale%281%201%29%20rotate%280%29%20translate%284%20326.93%29%22%3E%0A%3Cpolygon%20fill%3D%22%23ffffff%22%20fill-opacity%3D%220.666667%22%20stroke%3D%22transparent%22%20points%3D%22-4%2C4%20-4%2C-326.93%201092.84%2C-326.93%201092.84%2C4%20-4%2C4%22%3E%3C/polygon%3E%0A%0A%3Cg%20id%3D%22edge5%22%20class%3D%22edge%22%20data-tippy-content%3D%22Temperature%3A%20298.15%20K%3Cbr%26gt%3BPressure%3A%20101325%20Pa%3Cbr%26gt%3BLiquid%20flow%3A%20480%20kmol/hr%22%3E%0A%3Cpath%20fill%3D%22none%22%20stroke%3D%22%234e4e4e%22%20d%3D%22M251.15%2C-58.52C280.99%2C-67.32%20315.29%2C-78%20346%2C-88.93%20357.06%2C-92.87%20368.84%2C-97.49%20379.79%2C-101.98%22%3E%3C/path%3E%0A%3Cpolygon%20fill%3D%22%234e4e4e%22%20stroke%3D%22%234e4e4e%22%20points%3D%22378.6%2C-105.27%20389.17%2C-105.87%20381.28%2C-98.81%20378.6%2C-105.27%22%3E%3C/polygon%3E%0A%3Cg%20id%3D%22a_edge5-label%22%3E%3Ca%20title%3D%22%20Temperature%3A%20298.15%20K%3Cbr%26gt%3BPressure%3A%20101325%20Pa%3Cbr%26gt%3BLiquid%20flow%3A%20480%20kmol/hr%22%3E%0A%3Ctext%20text-anchor%3D%22middle%22%20x%3D%22303%22%20y%3D%22-107.73%22%20font-family%3D%22Arial%22%20font-size%3D%2214.00%22%20fill%3D%22%234e4e4e%22%3E%20evaporated%3C/text%3E%0A%3Ctext%20text-anchor%3D%22middle%22%20x%3D%22303%22%20y%3D%22-92.73%22%20font-family%3D%22Arial%22%20font-size%3D%2214.00%22%20fill%3D%22%234e4e4e%22%3E%20feed%3C/text%3E%0A%3C/a%3E%0A%3C/g%3E%0A%3C/g%3E%0A%0A%3Cg%20id%3D%22edge12%22%20class%3D%22edge%22%20data-tippy-content%3D%22%28empty%29%22%3E%0A%3Cpath%20fill%3D%22none%22%20stroke%3D%22%234e4e4e%22%20stroke-dasharray%3D%225%2C2%22%20d%3D%22M222.72%2C-15.39C234.68%2C-11.06%20247.61%2C-7.16%20260%2C-4.93%20330.32%2C7.72%20349.26%2C-8.93%20420.71%2C-8.93%22%3E%3C/path%3E%0A%3Cg%20id%3D%22a_edge12-label%22%3E%3Ca%20title%3D%22%28empty%29%22%3E%0A%3Ctext%20text-anchor%3D%22middle%22%20x%3D%22303%22%20y%3D%22-8.73%22%20font-family%3D%22Arial%22%20font-size%3D%2214.00%22%20fill%3D%22%234e4e4e%22%3E%20condensate%3C/text%3E%0A%3C/a%3E%0A%3C/g%3E%0A%3C/g%3E%0A%0A%3Cg%20id%3D%22edge6%22%20class%3D%22edge%22%20data-tippy-content%3D%22Temperature%3A%20298.15%20K%3Cbr%26gt%3BPressure%3A%20101325%20Pa%3Cbr%26gt%3BLiquid%20flow%3A%20509%20kmol/hr%22%3E%0A%3Cpath%20fill%3D%22none%22%20stroke%3D%22%234e4e4e%22%20stroke-width%3D%221.6%22%20d%3D%22M495.42%2C-120.93C529.31%2C-120.93%20562.8%2C-140.88%20586.1%2C-158.84%22%3E%3C/path%3E%0A%3Cpolygon%20fill%3D%22%234e4e4e%22%20stroke%3D%22%234e4e4e%22%20stroke-width%3D%221.6%22%20points%3D%22584.21%2C-161.81%20594.2%2C-165.32%20588.58%2C-156.34%20584.21%2C-161.81%22%3E%3C/polygon%3E%0A%3Cg%20id%3D%22a_edge6-label%22%3E%3Ca%20title%3D%22%20Temperature%3A%20298.15%20K%3Cbr%26gt%3BPressure%3A%20101325%20Pa%3Cbr%26gt%3BLiquid%20flow%3A%20509%20kmol/hr%22%3E%0A%3Ctext%20text-anchor%3D%22middle%22%20x%3D%22523.42%22%20y%3D%22-135.73%22%20font-family%3D%22Arial%22%20font-size%3D%2214.00%22%20fill%3D%22%234e4e4e%22%3E%20feed%3C/text%3E%0A%3C/a%3E%0A%3C/g%3E%0A%3C/g%3E%0A%0A%3Cg%20id%3D%22edge1%22%20class%3D%22edge%22%20data-tippy-content%3D%22Temperature%3A%20305.15%20K%3Cbr%26gt%3BPressure%3A%20101325%20Pa%3Cbr%26gt%3BLiquid%20flow%3A%20886%20kmol/hr%22%3E%0A%3Cpath%20fill%3D%22none%22%20stroke%3D%22%234e4e4e%22%20stroke-width%3D%222.2%22%20d%3D%22M653.98%2C-208.56C666.26%2C-215.96%20680.3%2C-224.09%20693.42%2C-230.93%20709.57%2C-239.36%20727.19%2C-247.81%20744.05%2C-255.54%22%3E%3C/path%3E%0A%3Cpolygon%20fill%3D%22%234e4e4e%22%20stroke%3D%22%234e4e4e%22%20stroke-width%3D%222.2%22%20points%3D%22742.77%2C-258.81%20753.32%2C-259.76%20745.67%2C-252.44%20742.77%2C-258.81%22%3E%3C/polygon%3E%0A%3Cg%20id%3D%22a_edge1-label%22%3E%3Ca%20title%3D%22%20Temperature%3A%20305.15%20K%3Cbr%26gt%3BPressure%3A%20101325%20Pa%3Cbr%26gt%3BLiquid%20flow%3A%20886%20kmol/hr%22%3E%0A%3Ctext%20text-anchor%3D%22middle%22%20x%3D%22719.42%22%20y%3D%22-257.73%22%20font-family%3D%22Arial%22%20font-size%3D%2214.00%22%20fill%3D%22%234e4e4e%22%3E%20s.876%3C/text%3E%0A%3C/a%3E%0A%3C/g%3E%0A%3C/g%3E%0A%0A%3Cg%20id%3D%22edge7%22%20class%3D%22edge%22%20data-tippy-content%3D%22Temperature%3A%20305.15%20K%3Cbr%26gt%3BPressure%3A%20101325%20Pa%3Cbr%26gt%3BGas%20flow%3A%20405%20kmol/hr%22%3E%0A%3Cpath%20fill%3D%22none%22%20stroke%3D%22%234e4e4e%22%20stroke-width%3D%222.2%22%20d%3D%22M685.49%2C-199.43C724.1%2C-205.68%20773.85%2C-211.93%20818.42%2C-211.93%22%3E%3C/path%3E%0A%3Cg%20id%3D%22a_edge7-label%22%3E%3Ca%20title%3D%22%20Temperature%3A%20305.15%20K%3Cbr%26gt%3BPressure%3A%20101325%20Pa%3Cbr%26gt%3BGas%20flow%3A%20405%20kmol/hr%22%3E%0A%3Ctext%20text-anchor%3D%22middle%22%20x%3D%22719.42%22%20y%3D%22-210.73%22%20font-family%3D%22Arial%22%20font-size%3D%2214.00%22%20fill%3D%22%234e4e4e%22%3E%20vent%3C/text%3E%0A%3C/a%3E%0A%3C/g%3E%0A%3C/g%3E%0A%0A%3Cg%20id%3D%22edge13%22%20class%3D%22edge%22%20data-tippy-content%3D%22Temperature%3A%20305.15%20K%3Cbr%26gt%3BPressure%3A%20101325%20Pa%3Cbr%26gt%3BLiquid%20flow%3A%20527%20kmol/hr%22%3E%0A%3Cpath%20fill%3D%22none%22%20stroke%3D%22%234e4e4e%22%20d%3D%22M685.43%2C-172.93C724.01%2C-165.93%20773.76%2C-158.93%20818.42%2C-158.93%22%3E%3C/path%3E%0A%3Cg%20id%3D%22a_edge13-label%22%3E%3Ca%20title%3D%22%20Temperature%3A%20305.15%20K%3Cbr%26gt%3BPressure%3A%20101325%20Pa%3Cbr%26gt%3BLiquid%20flow%3A%20527%20kmol/hr%22%3E%0A%3Ctext%20text-anchor%3D%22middle%22%20x%3D%22719.42%22%20y%3D%22-174.73%22%20font-family%3D%22Arial%22%20font-size%3D%2214.00%22%20fill%3D%22%234e4e4e%22%3E%20effluent%3C/text%3E%0A%3C/a%3E%0A%3C/g%3E%0A%3C/g%3E%0A%0A%3Cg%20id%3D%22edge9%22%20class%3D%22edge%22%20data-tippy-content%3D%22Temperature%3A%20386.27%20K%3Cbr%26gt%3BPressure%3A%20207580%20Pa%3Cbr%26gt%3BGas%20flow%3A%20385%20kmol/hr%22%3E%0A%3Cpath%20fill%3D%22none%22%20stroke%3D%22%234e4e4e%22%20stroke-width%3D%221.6%22%20d%3D%22M235.41%2C-253.93C277.03%2C-253.93%20331.47%2C-253.93%20371.1%2C-253.93%22%3E%3C/path%3E%0A%3Cpolygon%20fill%3D%22%234e4e4e%22%20stroke%3D%22%234e4e4e%22%20stroke-width%3D%221.6%22%20points%3D%22371.35%2C-257.43%20381.35%2C-253.93%20371.35%2C-250.43%20371.35%2C-257.43%22%3E%3C/polygon%3E%0A%3Cg%20id%3D%22a_edge9-label%22%3E%3Ca%20title%3D%22%20Temperature%3A%20386.27%20K%3Cbr%26gt%3BPressure%3A%20207580%20Pa%3Cbr%26gt%3BGas%20flow%3A%20385%20kmol/hr%22%3E%0A%3Ctext%20text-anchor%3D%22middle%22%20x%3D%22303%22%20y%3D%22-257.73%22%20font-family%3D%22Arial%22%20font-size%3D%2214.00%22%20fill%3D%22%234e4e4e%22%3E%20s.879%3C/text%3E%0A%3C/a%3E%0A%3C/g%3E%0A%3C/g%3E%0A%0A%3Cg%20id%3D%22edge2%22%20class%3D%22edge%22%20data-tippy-content%3D%22Temperature%3A%20305.15%20K%3Cbr%26gt%3BPressure%3A%20207580%20Pa%3Cbr%26gt%3BGas%20flow%3A%20385%20kmol/hr%22%3E%0A%3Cpath%20fill%3D%22none%22%20stroke%3D%22%234e4e4e%22%20stroke-width%3D%221.6%22%20d%3D%22M465.9%2C-239.89C489.18%2C-231.75%20519.16%2C-221.28%20546.3%2C-211.79%22%3E%3C/path%3E%0A%3Cpolygon%20fill%3D%22%234e4e4e%22%20stroke%3D%22%234e4e4e%22%20stroke-width%3D%221.6%22%20points%3D%22547.48%2C-215.09%20555.76%2C-208.48%20545.17%2C-208.48%20547.48%2C-215.09%22%3E%3C/polygon%3E%0A%3Cg%20id%3D%22a_edge2-label%22%3E%3Ca%20title%3D%22%20Temperature%3A%20305.15%20K%3Cbr%26gt%3BPressure%3A%20207580%20Pa%3Cbr%26gt%3BGas%20flow%3A%20385%20kmol/hr%22%3E%0A%3Ctext%20text-anchor%3D%22middle%22%20x%3D%22523.42%22%20y%3D%22-229.73%22%20font-family%3D%22Arial%22%20font-size%3D%2214.00%22%20fill%3D%22%234e4e4e%22%3E%20s.880%3C/text%3E%0A%3C/a%3E%0A%3C/g%3E%0A%3C/g%3E%0A%0A%3Cg%20id%3D%22edge3%22%20class%3D%22edge%22%20data-tippy-content%3D%22Temperature%3A%20297.15%20K%3Cbr%26gt%3BPressure%3A%20101325%20Pa%3Cbr%26gt%3BLiquid%20flow%3A%20886%20kmol/hr%22%3E%0A%3Cpath%20fill%3D%22none%22%20stroke%3D%22%234e4e4e%22%20stroke-width%3D%222.2%22%20d%3D%22M948.39%2C-116.28C894.58%2C-108.78%20818.25%2C-103.42%20753.42%2C-118.93%20720.06%2C-126.91%20685.61%2C-144.64%20660%2C-159.99%22%3E%3C/path%3E%0A%3Cpolygon%20fill%3D%22%234e4e4e%22%20stroke%3D%22%234e4e4e%22%20stroke-width%3D%222.2%22%20points%3D%22658.03%2C-157.09%20651.33%2C-165.3%20661.68%2C-163.06%20658.03%2C-157.09%22%3E%3C/polygon%3E%0A%3Cg%20id%3D%22a_edge3-label%22%3E%3Ca%20title%3D%22%20Temperature%3A%20297.15%20K%3Cbr%26gt%3BPressure%3A%20101325%20Pa%3Cbr%26gt%3BLiquid%20flow%3A%20886%20kmol/hr%22%3E%0A%3Ctext%20text-anchor%3D%22middle%22%20x%3D%22822.42%22%20y%3D%22-122.73%22%20font-family%3D%22Arial%22%20font-size%3D%2214.00%22%20fill%3D%22%234e4e4e%22%3E%20s.878%3C/text%3E%0A%3C/a%3E%0A%3C/g%3E%0A%3C/g%3E%0A%0A%3Cg%20id%3D%22edge10%22%20class%3D%22edge%22%20data-tippy-content%3D%22Temperature%3A%20305.15%20K%3Cbr%26gt%3BPressure%3A%20101325%20Pa%3Cbr%26gt%3BLiquid%20flow%3A%20886%20kmol/hr%22%3E%0A%3Cpath%20fill%3D%22none%22%20stroke%3D%22%234e4e4e%22%20stroke-width%3D%222.2%22%20d%3D%22M868.69%2C-254.89C876.34%2C-248.97%20884.15%2C-242.83%20891.42%2C-236.93%20913.02%2C-219.42%20936.23%2C-199.73%20956.76%2C-182.02%22%3E%3C/path%3E%0A%3Cpolygon%20fill%3D%22%234e4e4e%22%20stroke%3D%22%234e4e4e%22%20stroke-width%3D%222.2%22%20points%3D%22959.21%2C-184.52%20964.48%2C-175.33%20954.63%2C-179.23%20959.21%2C-184.52%22%3E%3C/polygon%3E%0A%3Cg%20id%3D%22a_edge10-label%22%3E%3Ca%20title%3D%22%20Temperature%3A%20305.15%20K%3Cbr%26gt%3BPressure%3A%20101325%20Pa%3Cbr%26gt%3BLiquid%20flow%3A%20886%20kmol/hr%22%3E%0A%3Ctext%20text-anchor%3D%22middle%22%20x%3D%22919.42%22%20y%3D%22-231.73%22%20font-family%3D%22Arial%22%20font-size%3D%2214.00%22%20fill%3D%22%234e4e4e%22%3E%20s.877%3C/text%3E%0A%3C/a%3E%0A%3C/g%3E%0A%3C/g%3E%0A%0A%3Cg%20id%3D%22edge4%22%20class%3D%22edge%22%20data-tippy-content%3D%22Temperature%3A%20298.15%20K%3Cbr%26gt%3BPressure%3A%20101325%20Pa%3Cbr%26gt%3BLiquid%20flow%3A%20480%20kmol/hr%22%3E%0A%3Cpath%20fill%3D%22none%22%20stroke%3D%22%234e4e4e%22%20d%3D%22M11%2C-36.93C37.97%2C-36.93%2067.49%2C-36.93%2093.8%2C-36.93%22%3E%3C/path%3E%0A%3Cg%20id%3D%22a_edge4-label%22%3E%3Ca%20title%3D%22%20Temperature%3A%20298.15%20K%3Cbr%26gt%3BPressure%3A%20101325%20Pa%3Cbr%26gt%3BLiquid%20flow%3A%20480%20kmol/hr%22%3E%0A%3Ctext%20text-anchor%3D%22middle%22%20x%3D%2252.5%22%20y%3D%22-40.73%22%20font-family%3D%22Arial%22%20font-size%3D%2214.00%22%20fill%3D%22%234e4e4e%22%3E%20feedstock%3C/text%3E%0A%3C/a%3E%0A%3C/g%3E%0A%3C/g%3E%0A%0A%3Cg%20id%3D%22edge8%22%20class%3D%22edge%22%20data-tippy-content%3D%22Temperature%3A%20305.15%20K%3Cbr%26gt%3BPressure%3A%20101325%20Pa%3Cbr%26gt%3BGas%20flow%3A%20385%20kmol/hr%22%3E%0A%3Cpath%20fill%3D%22none%22%20stroke%3D%22%234e4e4e%22%20stroke-width%3D%221.6%22%20d%3D%22M11%2C-253.93C43.84%2C-253.93%2080.45%2C-253.93%20110.46%2C-253.93%22%3E%3C/path%3E%0A%3Cg%20id%3D%22a_edge8-label%22%3E%3Ca%20title%3D%22%20Temperature%3A%20305.15%20K%3Cbr%26gt%3BPressure%3A%20101325%20Pa%3Cbr%26gt%3BGas%20flow%3A%20385%20kmol/hr%22%3E%0A%3Ctext%20text-anchor%3D%22middle%22%20x%3D%2252.5%22%20y%3D%22-257.73%22%20font-family%3D%22Arial%22%20font-size%3D%2214.00%22%20fill%3D%22%234e4e4e%22%3E%20air%3C/text%3E%0A%3C/a%3E%0A%3C/g%3E%0A%3C/g%3E%0A%0A%3Cg%20id%3D%22edge11%22%20class%3D%22edge%22%20data-tippy-content%3D%22Temperature%3A%20298.15%20K%3Cbr%26gt%3BPressure%3A%20101325%20Pa%3Cbr%26gt%3BLiquid%20flow%3A%2028.5%20kmol/hr%22%3E%0A%3Cpath%20fill%3D%22none%22%20stroke%3D%22%234e4e4e%22%20d%3D%22M180%2C-135.93C254.61%2C-135.93%20341.82%2C-128.84%20389.04%2C-124.41%22%3E%3C/path%3E%0A%3Cg%20id%3D%22a_edge11-label%22%3E%3Ca%20title%3D%22%20Temperature%3A%20298.15%20K%3Cbr%26gt%3BPressure%3A%20101325%20Pa%3Cbr%26gt%3BLiquid%20flow%3A%2028.5%20kmol/hr%22%3E%0A%3Ctext%20text-anchor%3D%22middle%22%20x%3D%22303%22%20y%3D%22-136.73%22%20font-family%3D%22Arial%22%20font-size%3D%2214.00%22%20fill%3D%22%234e4e4e%22%3E%20dilution%20water%3C/text%3E%0A%3C/a%3E%0A%3C/g%3E%0A%3C/g%3E%0A%0A%3Cg%20id%3D%22node1%22%20class%3D%22node%22%20data-tippy-content%3D%22No%20capital%20costs%20or%20utilities%22%3E%0A%3Cg%20id%3D%22a_node1%22%3E%3Ca%20title%3D%22%20No%20capital%20costs%20or%20utilities%22%3E%0A%3Cdefs%3E%0A%3ClinearGradient%20id%3D%22l_0%22%20gradientUnits%3D%22userSpaceOnUse%22%20x1%3D%2294%22%20y1%3D%22-36.93%22%20x2%3D%22252%22%20y2%3D%22-36.93%22%3E%0A%3Cstop%20offset%3D%220%22%20style%3D%22stop-color%3Awhite%3Bstop-opacity%3A1.%3B%22%3E%3C/stop%3E%0A%3Cstop%20offset%3D%221%22%20style%3D%22stop-color%3A%23cdcdcd%3Bstop-opacity%3A1.%3B%22%3E%3C/stop%3E%0A%3C/linearGradient%3E%0A%3C/defs%3E%0A%3Cpolygon%20fill%3D%22url%28%23l_0%29%22%20stroke%3D%22%234e4e4e%22%20points%3D%22252%2C-58.43%2094%2C-58.43%2094%2C-15.43%20252%2C-15.43%20252%2C-58.43%22%3E%3C/polygon%3E%0A%3Ctext%20text-anchor%3D%22middle%22%20x%3D%22173%22%20y%3D%22-40.73%22%20font-family%3D%22Arial%22%20font-size%3D%2214.00%22%3EE1%3C/text%3E%0A%3Ctext%20text-anchor%3D%22middle%22%20x%3D%22173%22%20y%3D%22-25.73%22%20font-family%3D%22Arial%22%20font-size%3D%2214.00%22%3EMulti-effect%20evaporator%3C/text%3E%0A%3C/a%3E%0A%3C/g%3E%0A%3C/g%3E%0A%0A%3Cg%20id%3D%22node2%22%20class%3D%22node%22%20data-tippy-content%3D%22No%20capital%20costs%20or%20utilities%22%3E%0A%3Cg%20id%3D%22a_node2%22%3E%3Ca%20title%3D%22%20No%20capital%20costs%20or%20utilities%22%3E%0A%3Cdefs%3E%0A%3ClinearGradient%20id%3D%22l_1%22%20gradientUnits%3D%22userSpaceOnUse%22%20x1%3D%22389.25%22%20y1%3D%22-120.93%22%20x2%3D%22495.63%22%20y2%3D%22-120.93%22%3E%0A%3Cstop%20offset%3D%220%22%20style%3D%22stop-color%3Awhite%3Bstop-opacity%3A1.%3B%22%3E%3C/stop%3E%0A%3Cstop%20offset%3D%221%22%20style%3D%22stop-color%3A%23cdcdcd%3Bstop-opacity%3A1.%3B%22%3E%3C/stop%3E%0A%3C/linearGradient%3E%0A%3C/defs%3E%0A%3Cpolygon%20fill%3D%22url%28%23l_1%29%22%20stroke%3D%22%234e4e4e%22%20points%3D%22495.63%2C-120.93%20389.25%2C-174.92%20389.25%2C-66.95%20495.63%2C-120.93%22%3E%3C/polygon%3E%0A%3Ctext%20text-anchor%3D%22middle%22%20x%3D%22424.71%22%20y%3D%22-124.73%22%20font-family%3D%22Arial%22%20font-size%3D%2214.00%22%3EM1%3C/text%3E%0A%3Ctext%20text-anchor%3D%22middle%22%20x%3D%22424.71%22%20y%3D%22-109.73%22%20font-family%3D%22Arial%22%20font-size%3D%2214.00%22%3EMixer%3C/text%3E%0A%3C/a%3E%0A%3C/g%3E%0A%3C/g%3E%0A%0A%3Cg%20id%3D%22node3%22%20class%3D%22node%22%20data-tippy-content%3D%22Electricity%20consumption%3A%202.45e%2B04%20kW%3Cbr%26gt%3BCooling%20duty%3A%20-4.64e%2B03%20MJ/hr%3Cbr%26gt%3BUtility%20cost%3A%201.94e%2B03%20USD/hr%3Cbr%26gt%3BPurchase%20cost%3A%206%2C550%2C596%20USD%3Cbr%26gt%3BInstalled%20equipment%20cost%3A%2010%2C273%2C752%20USD%22%3E%0A%3Cg%20id%3D%22a_node3%22%3E%3Ca%20title%3D%22%20Electricity%20consumption%3A%202.45e%2B04%20kW%3Cbr%26gt%3BCooling%20duty%3A%20-4.64e%2B03%20MJ/hr%3Cbr%26gt%3BUtility%20cost%3A%201.94e%2B03%20USD/hr%3Cbr%26gt%3BPurchase%20cost%3A%206%2C550%2C596%20USD%3Cbr%26gt%3BInstalled%20equipment%20cost%3A%2010%2C273%2C752%20USD%22%3E%0A%3Cdefs%3E%0A%3ClinearGradient%20id%3D%22l_2%22%20gradientUnits%3D%22userSpaceOnUse%22%20x1%3D%22551.42%22%20y1%3D%22-186.93%22%20x2%3D%22685.42%22%20y2%3D%22-186.93%22%3E%0A%3Cstop%20offset%3D%220%22%20style%3D%22stop-color%3Awhite%3Bstop-opacity%3A1.%3B%22%3E%3C/stop%3E%0A%3Cstop%20offset%3D%221%22%20style%3D%22stop-color%3A%23cdcdcd%3Bstop-opacity%3A1.%3B%22%3E%3C/stop%3E%0A%3C/linearGradient%3E%0A%3C/defs%3E%0A%3Cpolygon%20fill%3D%22url%28%23l_2%29%22%20stroke%3D%22%234e4e4e%22%20points%3D%22685.42%2C-208.43%20551.42%2C-208.43%20551.42%2C-165.43%20685.42%2C-165.43%20685.42%2C-208.43%22%3E%3C/polygon%3E%0A%3Ctext%20text-anchor%3D%22middle%22%20x%3D%22618.42%22%20y%3D%22-190.73%22%20font-family%3D%22Arial%22%20font-size%3D%2214.00%22%3EAB1%3C/text%3E%0A%3Ctext%20text-anchor%3D%22middle%22%20x%3D%22618.42%22%20y%3D%22-175.73%22%20font-family%3D%22Arial%22%20font-size%3D%2214.00%22%3EAerated%20bioreactor%3C/text%3E%0A%3C/a%3E%0A%3C/g%3E%0A%3C/g%3E%0A%0A%3Cg%20id%3D%22node4%22%20class%3D%22node%22%20data-tippy-content%3D%22Electricity%20consumption%3A%20318%20kW%3Cbr%26gt%3BUtility%20cost%3A%2024.9%20USD/hr%3Cbr%26gt%3BPurchase%20cost%3A%20307%2C467%20USD%3Cbr%26gt%3BInstalled%20equipment%20cost%3A%20661%2C054%20USD%22%3E%0A%3Cg%20id%3D%22a_node4%22%3E%3Ca%20title%3D%22%20Electricity%20consumption%3A%20318%20kW%3Cbr%26gt%3BUtility%20cost%3A%2024.9%20USD/hr%3Cbr%26gt%3BPurchase%20cost%3A%20307%2C467%20USD%3Cbr%26gt%3BInstalled%20equipment%20cost%3A%20661%2C054%20USD%22%3E%0A%3Cdefs%3E%0A%3ClinearGradient%20id%3D%22l_3%22%20gradientUnits%3D%22userSpaceOnUse%22%20x1%3D%22110.54%22%20y1%3D%22-253.93%22%20x2%3D%22235.46%22%20y2%3D%22-253.93%22%3E%0A%3Cstop%20offset%3D%220%22%20style%3D%22stop-color%3Awhite%3Bstop-opacity%3A1.%3B%22%3E%3C/stop%3E%0A%3Cstop%20offset%3D%221%22%20style%3D%22stop-color%3A%23cdcdcd%3Bstop-opacity%3A1.%3B%22%3E%3C/stop%3E%0A%3C/linearGradient%3E%0A%3C/defs%3E%0A%3Cpolygon%20fill%3D%22url%28%23l_3%29%22%20stroke%3D%22%234e4e4e%22%20points%3D%22235.46%2C-222.4%20235.46%2C-285.47%20110.54%2C-307.93%20110.54%2C-199.93%20235.46%2C-222.4%22%3E%3C/polygon%3E%0A%3Ctext%20text-anchor%3D%22middle%22%20x%3D%22173%22%20y%3D%22-265.23%22%20font-family%3D%22Arial%22%20font-size%3D%2214.00%22%3EAB1%3C/text%3E%0A%3Ctext%20text-anchor%3D%22middle%22%20x%3D%22173%22%20y%3D%22-250.23%22%20font-family%3D%22Arial%22%20font-size%3D%2214.00%22%3ECompressor%3C/text%3E%0A%3Ctext%20text-anchor%3D%22middle%22%20x%3D%22173%22%20y%3D%22-235.23%22%20font-family%3D%22Arial%22%20font-size%3D%2214.00%22%3EAuxiliary%3C/text%3E%0A%3C/a%3E%0A%3C/g%3E%0A%3C/g%3E%0A%0A%3Cg%20id%3D%22node5%22%20class%3D%22node%22%20data-tippy-content%3D%22Cooling%20duty%3A%20-915%20MJ/hr%3Cbr%26gt%3BUtility%20cost%3A%204.58%20USD/hr%3Cbr%26gt%3BPurchase%20cost%3A%205%2C275%20USD%3Cbr%26gt%3BInstalled%20equipment%20cost%3A%207%2C736%20USD%22%3E%0A%3Cg%20id%3D%22a_node5%22%3E%3Ca%20title%3D%22%20Cooling%20duty%3A%20-915%20MJ/hr%3Cbr%26gt%3BUtility%20cost%3A%204.58%20USD/hr%3Cbr%26gt%3BPurchase%20cost%3A%205%2C275%20USD%3Cbr%26gt%3BInstalled%20equipment%20cost%3A%207%2C736%20USD%22%3E%0A%3Cellipse%20fill%3D%22%2360c1cf%22%20stroke%3D%22transparent%22%20cx%3D%22424.71%22%20cy%3D%22-253.93%22%20rx%3D%2243.27%22%20ry%3D%2243.27%22%3E%3C/ellipse%3E%0A%3Ctext%20text-anchor%3D%22middle%22%20x%3D%22424.71%22%20y%3D%22-265.23%22%20font-family%3D%22Arial%22%20font-size%3D%2214.00%22%20fill%3D%22white%22%3EAB1%3C/text%3E%0A%3Ctext%20text-anchor%3D%22middle%22%20x%3D%22424.71%22%20y%3D%22-250.23%22%20font-family%3D%22Arial%22%20font-size%3D%2214.00%22%20fill%3D%22white%22%3EAir%20cooler%3C/text%3E%0A%3Ctext%20text-anchor%3D%22middle%22%20x%3D%22424.71%22%20y%3D%22-235.23%22%20font-family%3D%22Arial%22%20font-size%3D%2214.00%22%20fill%3D%22white%22%3EAuxiliary%3C/text%3E%0A%3C/a%3E%0A%3C/g%3E%0A%3C/g%3E%0A%0A%3Cg%20id%3D%22node6%22%20class%3D%22node%22%20data-tippy-content%3D%22Cooling%20duty%3A%20-532%20MJ/hr%3Cbr%26gt%3BUtility%20cost%3A%202.66%20USD/hr%3Cbr%26gt%3BPurchase%20cost%3A%2022%2C109%20USD%3Cbr%26gt%3BInstalled%20equipment%20cost%3A%2070%2C986%20USD%22%3E%0A%3Cg%20id%3D%22a_node6%22%3E%3Ca%20title%3D%22%20Cooling%20duty%3A%20-532%20MJ/hr%3Cbr%26gt%3BUtility%20cost%3A%202.66%20USD/hr%3Cbr%26gt%3BPurchase%20cost%3A%2022%2C109%20USD%3Cbr%26gt%3BInstalled%20equipment%20cost%3A%2070%2C986%20USD%22%3E%0A%3Cellipse%20fill%3D%22%2360c1cf%22%20stroke%3D%22transparent%22%20cx%3D%221018.13%22%20cy%3D%22-128.93%22%20rx%3D%2270.92%22%20ry%3D%2270.92%22%3E%3C/ellipse%3E%0A%3Ctext%20text-anchor%3D%22middle%22%20x%3D%221018.13%22%20y%3D%22-147.73%22%20font-family%3D%22Arial%22%20font-size%3D%2214.00%22%20fill%3D%22white%22%3EAB1%3C/text%3E%0A%3Ctext%20text-anchor%3D%22middle%22%20x%3D%221018.13%22%20y%3D%22-132.73%22%20font-family%3D%22Arial%22%20font-size%3D%2214.00%22%20fill%3D%22white%22%3EHeat%20exchanger%3C/text%3E%0A%3Ctext%20text-anchor%3D%22middle%22%20x%3D%221018.13%22%20y%3D%22-117.73%22%20font-family%3D%22Arial%22%20font-size%3D%2214.00%22%20fill%3D%22white%22%3EAuxiliary%3C/text%3E%0A%3Ctext%20text-anchor%3D%22middle%22%20x%3D%221018.13%22%20y%3D%22-102.73%22%20font-family%3D%22Arial%22%20font-size%3D%2214.00%22%20fill%3D%22white%22%3E1%20of%207%3C/text%3E%0A%3C/a%3E%0A%3C/g%3E%0A%3C/g%3E%0A%0A%3Cg%20id%3D%22node7%22%20class%3D%22node%22%20data-tippy-content%3D%22Electricity%20consumption%3A%204.46%20kW%3Cbr%26gt%3BUtility%20cost%3A%200.349%20USD/hr%3Cbr%26gt%3BPurchase%20cost%3A%204%2C948%20USD%3Cbr%26gt%3BInstalled%20equipment%20cost%3A%2016%2C328%20USD%22%3E%0A%3Cg%20id%3D%22a_node7%22%3E%3Ca%20title%3D%22%20Electricity%20consumption%3A%204.46%20kW%3Cbr%26gt%3BUtility%20cost%3A%200.349%20USD/hr%3Cbr%26gt%3BPurchase%20cost%3A%204%2C948%20USD%3Cbr%26gt%3BInstalled%20equipment%20cost%3A%2016%2C328%20USD%22%3E%0A%3Cdefs%3E%0A%3ClinearGradient%20id%3D%22l_4%22%20gradientUnits%3D%22userSpaceOnUse%22%20x1%3D%22753.42%22%20y1%3D%22-288.93%22%20x2%3D%22891.42%22%20y2%3D%22-288.93%22%3E%0A%3Cstop%20offset%3D%220%22%20style%3D%22stop-color%3Awhite%3Bstop-opacity%3A1.%3B%22%3E%3C/stop%3E%0A%3Cstop%20offset%3D%221%22%20style%3D%22stop-color%3A%23cdcdcd%3Bstop-opacity%3A1.%3B%22%3E%3C/stop%3E%0A%3C/linearGradient%3E%0A%3C/defs%3E%0A%3Cpolygon%20fill%3D%22url%28%23l_4%29%22%20stroke%3D%22%234e4e4e%22%20points%3D%22891.42%2C-322.93%20753.42%2C-322.93%20753.42%2C-254.93%20891.42%2C-254.93%20891.42%2C-322.93%22%3E%3C/polygon%3E%0A%3Ctext%20text-anchor%3D%22middle%22%20x%3D%22822.42%22%20y%3D%22-307.73%22%20font-family%3D%22Arial%22%20font-size%3D%2214.00%22%3EAB1%3C/text%3E%0A%3Ctext%20text-anchor%3D%22middle%22%20x%3D%22822.42%22%20y%3D%22-292.73%22%20font-family%3D%22Arial%22%20font-size%3D%2214.00%22%3ERecirculation%20pump%3C/text%3E%0A%3Ctext%20text-anchor%3D%22middle%22%20x%3D%22822.42%22%20y%3D%22-277.73%22%20font-family%3D%22Arial%22%20font-size%3D%2214.00%22%3EAuxiliary%3C/text%3E%0A%3Ctext%20text-anchor%3D%22middle%22%20x%3D%22822.42%22%20y%3D%22-262.73%22%20font-family%3D%22Arial%22%20font-size%3D%2214.00%22%3E1%20of%207%3C/text%3E%0A%3C/a%3E%0A%3C/g%3E%0A%3C/g%3E%0A%0A%3Cg%20id%3D%22node8%22%20class%3D%22node%22%20data-tippy-content%3D%22feedstock%22%3E%0A%3Cpolygon%20fill%3D%22%23f98f60%22%20stroke%3D%22%234e4e4e%22%20points%3D%225.5%2C-42.43%200%2C-36.93%205.5%2C-31.43%2011%2C-36.93%205.5%2C-42.43%22%3E%3C/polygon%3E%0A%3C/g%3E%0A%0A%3Cg%20id%3D%22node9%22%20class%3D%22node%22%20data-tippy-content%3D%22vent%22%3E%0A%3Cpolygon%20fill%3D%22%23f98f60%22%20stroke%3D%22%234e4e4e%22%20points%3D%22827.92%2C-211.93%20819.67%2C-218.93%20819.67%2C-204.93%20827.92%2C-211.93%22%3E%3C/polygon%3E%0A%3C/g%3E%0A%0A%3Cg%20id%3D%22node10%22%20class%3D%22node%22%20data-tippy-content%3D%22air%22%3E%0A%3Cpolygon%20fill%3D%22%23f98f60%22%20stroke%3D%22%234e4e4e%22%20points%3D%225.5%2C-259.43%200%2C-253.93%205.5%2C-248.43%2011%2C-253.93%205.5%2C-259.43%22%3E%3C/polygon%3E%0A%3C/g%3E%0A%0A%3Cg%20id%3D%22node11%22%20class%3D%22node%22%20data-tippy-content%3D%22dilution%20water%22%3E%0A%3Cpolygon%20fill%3D%22%23f98f60%22%20stroke%3D%22%234e4e4e%22%20points%3D%22173%2C-141.43%20167.5%2C-135.93%20173%2C-130.43%20178.5%2C-135.93%20173%2C-141.43%22%3E%3C/polygon%3E%0A%3C/g%3E%0A%0A%3Cg%20id%3D%22node12%22%20class%3D%22node%22%20data-tippy-content%3D%22condensate%22%3E%0A%3Cpolygon%20fill%3D%22%23f98f60%22%20stroke%3D%22%234e4e4e%22%20points%3D%22430.21%2C-8.93%20421.96%2C-15.93%20421.96%2C-1.93%20430.21%2C-8.93%22%3E%3C/polygon%3E%0A%3C/g%3E%0A%0A%3Cg%20id%3D%22node13%22%20class%3D%22node%22%20data-tippy-content%3D%22effluent%22%3E%0A%3Cpolygon%20fill%3D%22%23f98f60%22%20stroke%3D%22%234e4e4e%22%20points%3D%22827.92%2C-158.93%20819.67%2C-165.93%20819.67%2C-151.93%20827.92%2C-158.93%22%3E%3C/polygon%3E%0A%3C/g%3E%0A%3C/g%3E%0A%3C/svg%3E%3C/body%3E%3C/html%3E\"\n",
       "            frameborder=\"0\"\n",
       "            allowfullscreen\n",
       "            allowtransparency=\"true\"\n",
       "        ></iframe>\n",
       "        "
      ],
      "text/plain": [
       "<IPython.lib.display.IFrame at 0x26d9029fd00>"
      ]
     },
     "metadata": {},
     "output_type": "display_data"
    }
   ],
   "source": [
    "from flexsolve import wegstein as itersolve\n",
    "\n",
    "feedstock = bst.Stream('feedstock',\n",
    "    Water=0.85, Glucose=0.15, \n",
    "    total_flow=1e4, units='kg/hr'\n",
    ")\n",
    "E1 = bst.MultiEffectEvaporator('E1',\n",
    "    ins=feedstock, outs=('evaporated_feed', 'condensate'), \n",
    "    V=0, V_definition='First-effect',\n",
    "    P=(101325, 73581, 50892, 32777, 20000),\n",
    ")\n",
    "dilution_water = bst.Stream('dilution_water')\n",
    "M1 = bst.Mixer('M1',\n",
    "    ins=(E1-0, dilution_water), outs=AB1.ins[0]\n",
    ")\n",
    "simulation_path = E1.path_until(AB1, inclusive=True)\n",
    "\n",
    "def get_titer(): # g/L or kg/m3\n",
    "    product_mass_flow = effluent.imass['Lipid'] # effluent.get_flow('kg / hr', 'Lipid')\n",
    "    volumetric_flow_rate = effluent.F_vol # effluent.get_total_flow('m3/hr')\n",
    "    return product_mass_flow / volumetric_flow_rate\n",
    "\n",
    "def adjust_dilution_water(water):\n",
    "    dilution_water.imass['Water'] = water\n",
    "    for unit in simulation_path: unit._run()\n",
    "    target = performance['titer']\n",
    "    current = get_titer()\n",
    "    rho = chemicals.Water.rho('l', T=T_operation, P=101325) # kg / m3\n",
    "    return water + (1./target - 1./current) * effluent.imass['Lipid'] * rho\n",
    "    \n",
    "@E1.add_bounded_numerical_specification(x0=0, x1=0.15, ytol=1e-3, xtol=1e-6, maxiter=20)\n",
    "def evaporation(V):\n",
    "    E1.V = V\n",
    "    if V == 0: \n",
    "        needed_water = itersolve(adjust_dilution_water, 0, xtol=1e-3)\n",
    "        if needed_water > 0: return performance['titer'] - get_titer()\n",
    "    dilution_water.empty()\n",
    "    for unit in simulation_path: unit._run()\n",
    "    return performance['titer'] - get_titer()\n",
    "\n",
    "microbial_lipids_sys = bst.main_flowsheet.create_system('microbial_lipids_sys')\n",
    "microbial_lipids_sys.simulate()\n",
    "microbial_lipids_sys.diagram(auxiliaries=True)"
   ]
  },
  {
   "cell_type": "code",
   "execution_count": 33,
   "id": "c38fdce8",
   "metadata": {},
   "outputs": [
    {
     "data": {
      "text/html": [
       "<div>\n",
       "<style scoped>\n",
       "    .dataframe tbody tr th:only-of-type {\n",
       "        vertical-align: middle;\n",
       "    }\n",
       "\n",
       "    .dataframe tbody tr th {\n",
       "        vertical-align: top;\n",
       "    }\n",
       "\n",
       "    .dataframe thead th {\n",
       "        text-align: right;\n",
       "    }\n",
       "</style>\n",
       "<table border=\"1\" class=\"dataframe\">\n",
       "  <thead>\n",
       "    <tr style=\"text-align: right;\">\n",
       "      <th></th>\n",
       "      <th>Aerated bioreactor</th>\n",
       "      <th>Units</th>\n",
       "      <th>AB1</th>\n",
       "    </tr>\n",
       "  </thead>\n",
       "  <tbody>\n",
       "    <tr>\n",
       "      <th rowspan=\"2\" valign=\"top\">Electricity</th>\n",
       "      <th>Power</th>\n",
       "      <td>kW</td>\n",
       "      <td>2.45e+04</td>\n",
       "    </tr>\n",
       "    <tr>\n",
       "      <th>Cost</th>\n",
       "      <td>USD/hr</td>\n",
       "      <td>1.92e+03</td>\n",
       "    </tr>\n",
       "    <tr>\n",
       "      <th rowspan=\"3\" valign=\"top\">Chilled water</th>\n",
       "      <th>Duty</th>\n",
       "      <td>kJ/hr</td>\n",
       "      <td>-4.64e+06</td>\n",
       "    </tr>\n",
       "    <tr>\n",
       "      <th>Flow</th>\n",
       "      <td>kmol/hr</td>\n",
       "      <td>3.1e+03</td>\n",
       "    </tr>\n",
       "    <tr>\n",
       "      <th>Cost</th>\n",
       "      <td>USD/hr</td>\n",
       "      <td>23.2</td>\n",
       "    </tr>\n",
       "    <tr>\n",
       "      <th rowspan=\"10\" valign=\"top\">Design</th>\n",
       "      <th>Reactor volume</th>\n",
       "      <td>m3</td>\n",
       "      <td>192</td>\n",
       "    </tr>\n",
       "    <tr>\n",
       "      <th>Batch time</th>\n",
       "      <td></td>\n",
       "      <td>107</td>\n",
       "    </tr>\n",
       "    <tr>\n",
       "      <th>Loading time</th>\n",
       "      <td></td>\n",
       "      <td>15.2</td>\n",
       "    </tr>\n",
       "    <tr>\n",
       "      <th>Residence time</th>\n",
       "      <td>hr</td>\n",
       "      <td>88.4</td>\n",
       "    </tr>\n",
       "    <tr>\n",
       "      <th>Vessel type</th>\n",
       "      <td></td>\n",
       "      <td>Vertical</td>\n",
       "    </tr>\n",
       "    <tr>\n",
       "      <th>Length</th>\n",
       "      <td>ft</td>\n",
       "      <td>42.7</td>\n",
       "    </tr>\n",
       "    <tr>\n",
       "      <th>Diameter</th>\n",
       "      <td>ft</td>\n",
       "      <td>14.2</td>\n",
       "    </tr>\n",
       "    <tr>\n",
       "      <th>Weight</th>\n",
       "      <td>lb</td>\n",
       "      <td>4.49e+04</td>\n",
       "    </tr>\n",
       "    <tr>\n",
       "      <th>Wall thickness</th>\n",
       "      <td>in</td>\n",
       "      <td>0.48</td>\n",
       "    </tr>\n",
       "    <tr>\n",
       "      <th>Vessel material</th>\n",
       "      <td></td>\n",
       "      <td>Stainless steel 316</td>\n",
       "    </tr>\n",
       "    <tr>\n",
       "      <th rowspan=\"8\" valign=\"top\">Purchase cost</th>\n",
       "      <th>Vertical pressure vessel (x7)</th>\n",
       "      <td>USD</td>\n",
       "      <td>1.96e+06</td>\n",
       "    </tr>\n",
       "    <tr>\n",
       "      <th>Platform and ladders (x7)</th>\n",
       "      <td>USD</td>\n",
       "      <td>3.11e+05</td>\n",
       "    </tr>\n",
       "    <tr>\n",
       "      <th>Compressor - Compressor(s)</th>\n",
       "      <td>USD</td>\n",
       "      <td>3.07e+05</td>\n",
       "    </tr>\n",
       "    <tr>\n",
       "      <th>Air cooler - Double pipe</th>\n",
       "      <td>USD</td>\n",
       "      <td>5.28e+03</td>\n",
       "    </tr>\n",
       "    <tr>\n",
       "      <th>Heat exchanger - Floating head (x7)</th>\n",
       "      <td>USD</td>\n",
       "      <td>1.55e+05</td>\n",
       "    </tr>\n",
       "    <tr>\n",
       "      <th>Recirculation pump - Pump (x7)</th>\n",
       "      <td>USD</td>\n",
       "      <td>3.08e+04</td>\n",
       "    </tr>\n",
       "    <tr>\n",
       "      <th>Recirculation pump - Motor (x7)</th>\n",
       "      <td>USD</td>\n",
       "      <td>3.79e+03</td>\n",
       "    </tr>\n",
       "    <tr>\n",
       "      <th>Agitator - Agitator (x7)</th>\n",
       "      <td>USD</td>\n",
       "      <td>3.78e+06</td>\n",
       "    </tr>\n",
       "    <tr>\n",
       "      <th>Total purchase cost</th>\n",
       "      <th></th>\n",
       "      <td>USD</td>\n",
       "      <td>6.55e+06</td>\n",
       "    </tr>\n",
       "    <tr>\n",
       "      <th>Utility cost</th>\n",
       "      <th></th>\n",
       "      <td>USD/hr</td>\n",
       "      <td>1.94e+03</td>\n",
       "    </tr>\n",
       "  </tbody>\n",
       "</table>\n",
       "</div>"
      ],
      "text/plain": [
       "Aerated bioreactor                                         Units                  AB1\n",
       "Electricity         Power                                     kW             2.45e+04\n",
       "                    Cost                                  USD/hr             1.92e+03\n",
       "Chilled water       Duty                                   kJ/hr            -4.64e+06\n",
       "                    Flow                                 kmol/hr              3.1e+03\n",
       "                    Cost                                  USD/hr                 23.2\n",
       "Design              Reactor volume                            m3                  192\n",
       "                    Batch time                                                    107\n",
       "                    Loading time                                                 15.2\n",
       "                    Residence time                            hr                 88.4\n",
       "                    Vessel type                                              Vertical\n",
       "                    Length                                    ft                 42.7\n",
       "                    Diameter                                  ft                 14.2\n",
       "                    Weight                                    lb             4.49e+04\n",
       "                    Wall thickness                            in                 0.48\n",
       "                    Vessel material                               Stainless steel 316\n",
       "Purchase cost       Vertical pressure vessel (x7)            USD             1.96e+06\n",
       "                    Platform and ladders (x7)                USD             3.11e+05\n",
       "                    Compressor - Compressor(s)               USD             3.07e+05\n",
       "                    Air cooler - Double pipe                 USD             5.28e+03\n",
       "                    Heat exchanger - Floating head (x7)      USD             1.55e+05\n",
       "                    Recirculation pump - Pump (x7)           USD             3.08e+04\n",
       "                    Recirculation pump - Motor (x7)          USD             3.79e+03\n",
       "                    Agitator - Agitator (x7)                 USD             3.78e+06\n",
       "Total purchase cost                                          USD             6.55e+06\n",
       "Utility cost                                              USD/hr             1.94e+03"
      ]
     },
     "execution_count": 33,
     "metadata": {},
     "output_type": "execute_result"
    }
   ],
   "source": [
    "AB1.results()"
   ]
  },
  {
   "cell_type": "markdown",
   "id": "129918b1",
   "metadata": {},
   "source": [
    "Now that we have a working model, let's leverage it to evaluate a landscape of potential fermentation scenarios:"
   ]
  },
  {
   "cell_type": "code",
   "execution_count": null,
   "id": "f1c35d8c",
   "metadata": {},
   "outputs": [],
   "source": [
    "productivity = np.array([\n",
    "    0.5 * productivity,\n",
    "    productivity,\n",
    "    2 * productivity,\n",
    "])\n",
    "X, Y, Z = generate_contour_data(\n",
    "    evaluate_titer_yield_productivity,\n",
    "    xlim=[0.5 * titer, 1.5 * titer],\n",
    "    ylim=[0.5 * lipid_yield, 1.5 * lipid_yield],\n",
    "    args=(\n",
    "        productivity,\n",
    "    ),\n",
    "    file='fermentation_performance_data',\n",
    "    load=load,\n",
    "    n=10,\n",
    ")\n",
    "\n",
    "# Plot contours\n",
    "xlabel = 'Microbial oil recovery [%]'\n",
    "ylabel = \"Microb. oil yield [wt. %]\"\n",
    "units = r'$g \\cdot L^{-1} \\cdot h^{-1}$'\n",
    "ylabels = [f\"{ylabel}\\nat {round(i, 2)} {units}\" for i in productivity]\n",
    "xticks = [50, 60, 70, 80, 90]\n",
    "yticks = rounded_linspace(\n",
    "    100 * perf.min_lipid_yield_glucose, 100 * perf.max_lipid_yield_glucose, 5, \n",
    ")\n",
    "titles = ['Mechanical oil recovery', 'Integrated oil recovery']\n",
    "metric_bar = MetricBar(\n",
    "    metric.name, format_units(metric.units), plt.cm.get_cmap('viridis_r'), tickmarks(Z[~np.isnan(Z)], 5, 1, expand=0, p=0.5), 15, 1\n",
    ")\n",
    "fig, axes, CSs, CB, other_axes = plot_contour_single_metric(\n",
    "    X, Y, Z, xlabel, ylabels, xticks, yticks, metric_bar,  titles,\n",
    "    fillcolor=None, styleaxiskw=dict(xtick0=False), label=True,\n",
    ")\n",
    "return fig, other_axes"
   ]
  },
  {
   "cell_type": "code",
   "execution_count": null,
   "id": "edeabd48",
   "metadata": {},
   "outputs": [],
   "source": []
  },
  {
   "cell_type": "code",
   "execution_count": null,
   "id": "eecf3ac7",
   "metadata": {},
   "outputs": [],
   "source": [
    "[i for i in chemicals.Lipid.V.l.ranked_methods if i in chemicals.Lipid.V.l.all_methods]\n"
   ]
  },
  {
   "cell_type": "code",
   "execution_count": null,
   "id": "4b3e8565",
   "metadata": {},
   "outputs": [],
   "source": [
    "chemicals.Lipid.V.l.plot_T_dependent_property()"
   ]
  },
  {
   "cell_type": "code",
   "execution_count": null,
   "id": "6fdad4a4",
   "metadata": {},
   "outputs": [],
   "source": []
  }
 ],
 "metadata": {
  "kernelspec": {
   "display_name": "Python 3 (ipykernel)",
   "language": "python",
   "name": "python3"
  },
  "language_info": {
   "codemirror_mode": {
    "name": "ipython",
    "version": 3
   },
   "file_extension": ".py",
   "mimetype": "text/x-python",
   "name": "python",
   "nbconvert_exporter": "python",
   "pygments_lexer": "ipython3",
   "version": "3.10.9"
  }
 },
 "nbformat": 4,
 "nbformat_minor": 5
}
