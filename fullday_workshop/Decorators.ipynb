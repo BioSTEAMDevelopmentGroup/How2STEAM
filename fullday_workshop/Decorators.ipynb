{
 "cells": [
  {
   "cell_type": "markdown",
   "id": "fede3fcf-71eb-4e7f-a2eb-6eaf1af87b2b",
   "metadata": {},
   "source": [
    "# Decorators\n",
    "\n",
    "Decorators are **syntactic sugar** that lets you **wrap code** to a **function**.\n",
    "\n",
    "![decorators](../images/decorators.png)\n",
    "\n",
    "## Decorators in BioSTEAM\n",
    "We can use decorators to create input **parameters** and output **indicators** to an uncertainty/sensitivity **model**. "
   ]
  },
  {
   "cell_type": "code",
   "execution_count": 1,
   "id": "c3cf90c1-989d-45be-a6cf-aeceebebb6aa",
   "metadata": {},
   "outputs": [
    {
     "name": "stdout",
     "output_type": "stream",
     "text": [
      "Biorefinery(\n",
      "    \u001b[38;2;135;135;135m# dry at 20% moisture content\u001b[0m\n",
      "    feedstock='cornstover',\n",
      "    \u001b[38;2;135;135;135m# final product\u001b[0m\n",
      "    product='ethanol',\n",
      "    \u001b[38;2;135;135;135m# whether to model boiler/cooling tower blowdown to wastewater\u001b[0m\n",
      "    include_blowdown_recycle=False,\n",
      ")\n"
     ]
    }
   ],
   "source": [
    "import biosteam as bst\n",
    "from biorefineries import cellulosic\n",
    "bst.nbtutorial()\n",
    "br = cellulosic.Biorefinery()\n",
    "br"
   ]
  },
  {
   "cell_type": "code",
   "execution_count": 2,
   "id": "80cc351d-da8c-4180-868e-876252e0ec39",
   "metadata": {},
   "outputs": [
    {
     "name": "stdout",
     "output_type": "stream",
     "text": [
      "Model:\n",
      "parameters: None\n",
      "indicators: None\n"
     ]
    }
   ],
   "source": [
    "br.model"
   ]
  },
  {
   "cell_type": "code",
   "execution_count": 4,
   "id": "1eb5b721-afb6-4956-9374-fa9f21d61121",
   "metadata": {},
   "outputs": [
    {
     "data": {
      "text/plain": [
       "<Indicator: MESP (USD/kg)>"
      ]
     },
     "execution_count": 4,
     "metadata": {},
     "output_type": "execute_result"
    }
   ],
   "source": [
    "@br.model.indicator(units='USD/kg')\n",
    "def MESP(): \n",
    "    return br.tea.solve_price(bst.F.ethanol)\n",
    "\n",
    "MESP"
   ]
  },
  {
   "cell_type": "code",
   "execution_count": 5,
   "id": "8c4c8983-2f2c-4615-82c0-e57aec8981ac",
   "metadata": {},
   "outputs": [
    {
     "data": {
      "text/plain": [
       "0.6923643244026552"
      ]
     },
     "execution_count": 5,
     "metadata": {},
     "output_type": "execute_result"
    }
   ],
   "source": [
    "MESP()"
   ]
  },
  {
   "cell_type": "code",
   "execution_count": 6,
   "id": "2cc89a44-1159-4255-b8cf-5c694a798e68",
   "metadata": {},
   "outputs": [
    {
     "name": "stdout",
     "output_type": "stream",
     "text": [
      "Model:\n",
      "parameters: None\n",
      "indicators: MESP [USD/kg]\n"
     ]
    }
   ],
   "source": [
    "br.model"
   ]
  },
  {
   "cell_type": "markdown",
   "id": "80958278-3db1-41d8-bc3f-aaf44c3e0681",
   "metadata": {},
   "source": [
    "## Basics\n",
    "Let's make a decorator that adds 1 to the result of a function."
   ]
  },
  {
   "cell_type": "code",
   "execution_count": 1,
   "id": "640a5f50-48f5-4344-9e8b-1b8ab6a2c5e7",
   "metadata": {},
   "outputs": [
    {
     "data": {
      "text/plain": [
       "3"
      ]
     },
     "execution_count": 1,
     "metadata": {},
     "output_type": "execute_result"
    }
   ],
   "source": [
    "# The function\n",
    "def add_numbers(a, b):\n",
    "    return a + b\n",
    "\n",
    "add_numbers(1, 2)"
   ]
  },
  {
   "cell_type": "code",
   "execution_count": 4,
   "id": "f0d57ee1-e1fb-4fe4-9318-c68ef36bca86",
   "metadata": {},
   "outputs": [
    {
     "data": {
      "text/plain": [
       "4"
      ]
     },
     "execution_count": 4,
     "metadata": {},
     "output_type": "execute_result"
    }
   ],
   "source": [
    "# The decorator\n",
    "def plus_one_decorator(f):\n",
    "    def wrapped_f(a, b):\n",
    "        return f(a, b) + 1\n",
    "    return wrapped_f\n",
    "\n",
    "# The decorated function\n",
    "add_numbers = plus_one_decorator(add_numbers)\n",
    "add_numbers(1, 2)"
   ]
  },
  {
   "cell_type": "code",
   "execution_count": 5,
   "id": "7e40ae5e-3017-4915-9f8c-179911d1f7ad",
   "metadata": {},
   "outputs": [
    {
     "data": {
      "text/plain": [
       "4"
      ]
     },
     "execution_count": 5,
     "metadata": {},
     "output_type": "execute_result"
    }
   ],
   "source": [
    "def plus_one_decorator(f):\n",
    "    def wrapped_f(a, b):\n",
    "        return f(a, b) + 1\n",
    "    return wrapped_f\n",
    "\n",
    "# Syntactic sugar\n",
    "@plus_one_decorator\n",
    "def add_numbers(a, b):\n",
    "    return a + b\n",
    "\n",
    "add_numbers(1, 2)"
   ]
  },
  {
   "cell_type": "markdown",
   "id": "64bda213-4239-4298-9f8c-015c9de9ec54",
   "metadata": {},
   "source": [
    "We can also use decorators to perform **supporting actions** without changing the function output. Let's register functions in a list."
   ]
  },
  {
   "cell_type": "code",
   "execution_count": 7,
   "id": "8b2a8958-ffbe-40ad-b36b-c5f262025429",
   "metadata": {},
   "outputs": [
    {
     "data": {
      "text/plain": [
       "[<function __main__.function(x)>]"
      ]
     },
     "execution_count": 7,
     "metadata": {},
     "output_type": "execute_result"
    }
   ],
   "source": [
    "parameters_list = []\n",
    "\n",
    "def register(f):\n",
    "    function_list.append(f)\n",
    "    return f\n",
    "\n",
    "@register\n",
    "def function(x):\n",
    "    return None\n",
    "\n",
    "function_list"
   ]
  },
  {
   "cell_type": "markdown",
   "id": "c63ab859-347b-4e26-bcd8-632b9621eb3a",
   "metadata": {},
   "source": [
    "Now let's add **metadata** by adding **arguments** to the decorator."
   ]
  },
  {
   "cell_type": "code",
   "execution_count": 13,
   "id": "bcf0613c-9926-4552-9fd3-b63dd42ddba0",
   "metadata": {},
   "outputs": [
    {
     "data": {
      "text/plain": [
       "{'A': <function __main__.function_A(x)>,\n",
       " 'B': <function __main__.function_B(x)>}"
      ]
     },
     "execution_count": 13,
     "metadata": {},
     "output_type": "execute_result"
    }
   ],
   "source": [
    "function_dct = {}\n",
    "def register(f=None, name=None):\n",
    "    if f is None: return lambda f: register(f, name)\n",
    "    function_dct[name] = f\n",
    "    return f\n",
    "\n",
    "@register(name='A')\n",
    "def function_A(x):\n",
    "    return None\n",
    "\n",
    "@register(name='B')\n",
    "def function_B(x):\n",
    "    return None\n",
    "\n",
    "function_dct"
   ]
  },
  {
   "cell_type": "markdown",
   "id": "796dc4ce-992a-4450-93fd-e91228e40eca",
   "metadata": {},
   "source": [
    "Let's contain the metadata in a **callable object** instead."
   ]
  },
  {
   "cell_type": "code",
   "execution_count": 17,
   "id": "ddb5c0b4-309b-4c81-84d2-dab6a8e8f80d",
   "metadata": {},
   "outputs": [
    {
     "data": {
      "text/plain": [
       "[Indicator(function_A, 'A'), Indicator(function_B, 'B')]"
      ]
     },
     "execution_count": 17,
     "metadata": {},
     "output_type": "execute_result"
    }
   ],
   "source": [
    "objs = []\n",
    "\n",
    "class Indicator:\n",
    "    def __init__(self, f, name):\n",
    "        self.name = name\n",
    "        self.f = f\n",
    "\n",
    "    def __call__(self):\n",
    "        return self.f()\n",
    "\n",
    "    def __repr__(self):\n",
    "        return f\"Indicator({self.f.__name__}, {self.name!r})\" \n",
    "\n",
    "def register(f=None, name=None):\n",
    "    if f is None: return lambda f: register(f, name)\n",
    "    objs.append(Indicator(f, name))\n",
    "    return f\n",
    "\n",
    "@register(name='A')\n",
    "def function_A():\n",
    "    return 1\n",
    "\n",
    "@register(name='B')\n",
    "def function_B():\n",
    "    return 2\n",
    "\n",
    "objs"
   ]
  },
  {
   "cell_type": "code",
   "execution_count": 18,
   "id": "07d5bde6-16e2-4fb2-aa15-2a98655a1698",
   "metadata": {},
   "outputs": [
    {
     "data": {
      "text/plain": [
       "[1, 2]"
      ]
     },
     "execution_count": 18,
     "metadata": {},
     "output_type": "execute_result"
    }
   ],
   "source": [
    "[indicator() for indicator in objs]"
   ]
  },
  {
   "cell_type": "code",
   "execution_count": null,
   "id": "05a4d85c-3dff-4934-926b-69cf14440269",
   "metadata": {},
   "outputs": [],
   "source": []
  }
 ],
 "metadata": {
  "kernelspec": {
   "display_name": "Python 3 (ipykernel)",
   "language": "python",
   "name": "python3"
  },
  "language_info": {
   "codemirror_mode": {
    "name": "ipython",
    "version": 3
   },
   "file_extension": ".py",
   "mimetype": "text/x-python",
   "name": "python",
   "nbconvert_exporter": "python",
   "pygments_lexer": "ipython3",
   "version": "3.12.7"
  }
 },
 "nbformat": 4,
 "nbformat_minor": 5
}
