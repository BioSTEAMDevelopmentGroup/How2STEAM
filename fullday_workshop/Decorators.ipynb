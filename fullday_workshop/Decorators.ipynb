{
 "cells": [
  {
   "cell_type": "markdown",
   "id": "fede3fcf-71eb-4e7f-a2eb-6eaf1af87b2b",
   "metadata": {},
   "source": [
    "# Decorators\n",
    "\n",
    "Decorators are syntactic sugar that let's you add code to a function variable."
   ]
  },
  {
   "cell_type": "code",
   "execution_count": null,
   "id": "8b2a8958-ffbe-40ad-b36b-c5f262025429",
   "metadata": {},
   "outputs": [],
   "source": [
    "function_list = []\n",
    "\n",
    "def register(f):\n",
    "    function_list.append(f)\n",
    "    return f\n",
    "\n",
    "@register\n",
    "def function(x):\n",
    "    return None\n",
    "\n",
    "# This is equivalent to:\n",
    "# function = register(function)"
   ]
  },
  {
   "cell_type": "code",
   "execution_count": null,
   "id": "bcf0613c-9926-4552-9fd3-b63dd42ddba0",
   "metadata": {},
   "outputs": [],
   "source": []
  }
 ],
 "metadata": {
  "kernelspec": {
   "display_name": "Python 3 (ipykernel)",
   "language": "python",
   "name": "python3"
  },
  "language_info": {
   "codemirror_mode": {
    "name": "ipython",
    "version": 3
   },
   "file_extension": ".py",
   "mimetype": "text/x-python",
   "name": "python",
   "nbconvert_exporter": "python",
   "pygments_lexer": "ipython3",
   "version": "3.12.7"
  }
 },
 "nbformat": 4,
 "nbformat_minor": 5
}
