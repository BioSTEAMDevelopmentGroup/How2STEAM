{
 "cells": [
  {
   "cell_type": "markdown",
   "id": "71241c0e-7dd3-4cbc-8ad0-7b7526b9732a",
   "metadata": {},
   "source": [
    "# Heat exchanger capital cost\n"
   ]
  },
  {
   "cell_type": "markdown",
   "id": "484f1599-6053-4bf3-8ee0-44f7545830d4",
   "metadata": {},
   "source": [
    "The heat exchanger is costed based on area."
   ]
  },
  {
   "cell_type": "code",
   "execution_count": 6,
   "id": "ffe753fe-6c9c-4fcc-b318-c67d736956be",
   "metadata": {},
   "outputs": [
    {
     "name": "stdout",
     "output_type": "stream",
     "text": [
      "HXutility: hx\n",
      "ins...\n",
      "[0] feed  \n",
      "    phase: 'l', T: 298.15 K, P: 101325 Pa\n",
      "    flow (kmol/hr): Water    500\n",
      "                    Ethanol  600\n",
      "outs...\n",
      "[0] product  \n",
      "    phase: 'l', T: 323.15 K, P: 101325 Pa\n",
      "    flow (kmol/hr): Water    500\n",
      "                    Ethanol  600\n"
     ]
    }
   ],
   "source": [
    "import biosteam as bst\n",
    "bst.nbtutorial()\n",
    "bst.settings.set_thermo(['Water', 'Ethanol'], cache=True)\n",
    "feed = bst.Stream('feed', Water=500, Ethanol=600, units='kmol/hr')\n",
    "hx = bst.HXutility('hx', ins=feed, outs='product', T=50+273.15)\n",
    "hx.simulate()\n",
    "hx.show()"
   ]
  },
  {
   "cell_type": "code",
   "execution_count": 7,
   "id": "3cc181a9-7539-450b-b028-bcf6dadcf863",
   "metadata": {},
   "outputs": [
    {
     "data": {
      "text/html": [
       "<div>\n",
       "<style scoped>\n",
       "    .dataframe tbody tr th:only-of-type {\n",
       "        vertical-align: middle;\n",
       "    }\n",
       "\n",
       "    .dataframe tbody tr th {\n",
       "        vertical-align: top;\n",
       "    }\n",
       "\n",
       "    .dataframe thead th {\n",
       "        text-align: right;\n",
       "    }\n",
       "</style>\n",
       "<table border=\"1\" class=\"dataframe\">\n",
       "  <thead>\n",
       "    <tr style=\"text-align: right;\">\n",
       "      <th></th>\n",
       "      <th>Heat exchanger</th>\n",
       "      <th>Units</th>\n",
       "      <th>hx</th>\n",
       "    </tr>\n",
       "  </thead>\n",
       "  <tbody>\n",
       "    <tr>\n",
       "      <th rowspan=\"3\" valign=\"top\">Low pressure steam</th>\n",
       "      <th>Duty</th>\n",
       "      <td>kJ/hr</td>\n",
       "      <td>2.84e+06</td>\n",
       "    </tr>\n",
       "    <tr>\n",
       "      <th>Flow</th>\n",
       "      <td>kmol/hr</td>\n",
       "      <td>73.4</td>\n",
       "    </tr>\n",
       "    <tr>\n",
       "      <th>Cost</th>\n",
       "      <td>USD/hr</td>\n",
       "      <td>17.4</td>\n",
       "    </tr>\n",
       "    <tr>\n",
       "      <th rowspan=\"6\" valign=\"top\">Design</th>\n",
       "      <th>Area</th>\n",
       "      <td>m²</td>\n",
       "      <td>15.6</td>\n",
       "    </tr>\n",
       "    <tr>\n",
       "      <th>Overall heat transfer coefficient</th>\n",
       "      <td>kg/K/s³</td>\n",
       "      <td>500</td>\n",
       "    </tr>\n",
       "    <tr>\n",
       "      <th>Log-mean temperature difference</th>\n",
       "      <td>K</td>\n",
       "      <td>101</td>\n",
       "    </tr>\n",
       "    <tr>\n",
       "      <th>Fouling correction factor</th>\n",
       "      <td></td>\n",
       "      <td>1</td>\n",
       "    </tr>\n",
       "    <tr>\n",
       "      <th>Operating pressure</th>\n",
       "      <td>kg/m/s²</td>\n",
       "      <td>3.45e+05</td>\n",
       "    </tr>\n",
       "    <tr>\n",
       "      <th>Total tube length</th>\n",
       "      <td>m</td>\n",
       "      <td>6.1</td>\n",
       "    </tr>\n",
       "    <tr>\n",
       "      <th>Purchase cost</th>\n",
       "      <th>Floating head</th>\n",
       "      <td>USD</td>\n",
       "      <td>2.04e+04</td>\n",
       "    </tr>\n",
       "    <tr>\n",
       "      <th>Total purchase cost</th>\n",
       "      <th></th>\n",
       "      <td>USD</td>\n",
       "      <td>2.04e+04</td>\n",
       "    </tr>\n",
       "    <tr>\n",
       "      <th>Utility cost</th>\n",
       "      <th></th>\n",
       "      <td>USD/hr</td>\n",
       "      <td>17.4</td>\n",
       "    </tr>\n",
       "  </tbody>\n",
       "</table>\n",
       "</div>"
      ],
      "text/plain": [
       "Heat exchanger                                           Units       hx\n",
       "Low pressure steam  Duty                                 kJ/hr 2.84e+06\n",
       "                    Flow                               kmol/hr     73.4\n",
       "                    Cost                                USD/hr     17.4\n",
       "Design              Area                                    m²     15.6\n",
       "                    Overall heat transfer coefficient  kg/K/s³      500\n",
       "                    Log-mean temperature difference          K      101\n",
       "                    Fouling correction factor                         1\n",
       "                    Operating pressure                 kg/m/s² 3.45e+05\n",
       "                    Total tube length                        m      6.1\n",
       "Purchase cost       Floating head                          USD 2.04e+04\n",
       "Total purchase cost                                        USD 2.04e+04\n",
       "Utility cost                                            USD/hr     17.4"
      ]
     },
     "execution_count": 7,
     "metadata": {},
     "output_type": "execute_result"
    }
   ],
   "source": [
    "hx.results(basis='SI')"
   ]
  },
  {
   "cell_type": "markdown",
   "id": "f4665d71-1ef8-4228-b3de-b5525d1189e4",
   "metadata": {},
   "source": [
    "Now let's observe how our results change with material:"
   ]
  },
  {
   "cell_type": "code",
   "execution_count": 8,
   "id": "3be1396c-b1d8-40ec-b56d-2f37eda74024",
   "metadata": {},
   "outputs": [
    {
     "data": {
      "text/plain": [
       "'Carbon steel/carbon steel'"
      ]
     },
     "execution_count": 8,
     "metadata": {},
     "output_type": "execute_result"
    }
   ],
   "source": [
    "hx.material"
   ]
  },
  {
   "cell_type": "code",
   "execution_count": 9,
   "id": "93149c23-321c-468e-a1b3-74a377e8f1c9",
   "metadata": {},
   "outputs": [
    {
     "ename": "AttributeError",
     "evalue": "material must be one of the following: 'Carbon steel/carbon steel', 'Carbon steel/brass', 'Carbon steel/stainles steel', 'Carbon steel/Monel', 'Carbon steel/titanium', 'Carbon steel/Cr-Mo steel', 'Cr-Mo steel/Cr-Mo steel', 'Stainless steel/stainless steel', 'Monel/Monel', and 'Titanium/titanium'",
     "output_type": "error",
     "traceback": [
      "\u001b[1;31m---------------------------------------------------------------------------\u001b[0m",
      "\u001b[1;31mKeyError\u001b[0m                                  Traceback (most recent call last)",
      "File \u001b[1;32m~\\code\\biosteam\\biosteam\\units\\heat_exchange.py:119\u001b[0m, in \u001b[0;36mHX.material\u001b[1;34m(self, material)\u001b[0m\n\u001b[0;32m    118\u001b[0m \u001b[38;5;28;01mtry\u001b[39;00m:\n\u001b[1;32m--> 119\u001b[0m     \u001b[38;5;28mself\u001b[39m\u001b[38;5;241m.\u001b[39m_F_Mab \u001b[38;5;241m=\u001b[39m shell_and_tube_material_factor_coefficients[material]\n\u001b[0;32m    120\u001b[0m \u001b[38;5;28;01mexcept\u001b[39;00m \u001b[38;5;167;01mKeyError\u001b[39;00m:\n",
      "\u001b[1;31mKeyError\u001b[0m: 'something nonsensical'",
      "\nDuring handling of the above exception, another exception occurred:\n",
      "\u001b[1;31mAttributeError\u001b[0m                            Traceback (most recent call last)",
      "Cell \u001b[1;32mIn[9], line 1\u001b[0m\n\u001b[1;32m----> 1\u001b[0m hx\u001b[38;5;241m.\u001b[39mmaterial \u001b[38;5;241m=\u001b[39m \u001b[38;5;124m'\u001b[39m\u001b[38;5;124msomething nonsensical\u001b[39m\u001b[38;5;124m'\u001b[39m\n",
      "File \u001b[1;32m~\\code\\biosteam\\biosteam\\units\\heat_exchange.py:121\u001b[0m, in \u001b[0;36mHX.material\u001b[1;34m(self, material)\u001b[0m\n\u001b[0;32m    119\u001b[0m     \u001b[38;5;28mself\u001b[39m\u001b[38;5;241m.\u001b[39m_F_Mab \u001b[38;5;241m=\u001b[39m shell_and_tube_material_factor_coefficients[material]\n\u001b[0;32m    120\u001b[0m \u001b[38;5;28;01mexcept\u001b[39;00m \u001b[38;5;167;01mKeyError\u001b[39;00m:\n\u001b[1;32m--> 121\u001b[0m     \u001b[38;5;28;01mraise\u001b[39;00m \u001b[38;5;167;01mAttributeError\u001b[39;00m(\u001b[38;5;124m\"\u001b[39m\u001b[38;5;124mmaterial must be one of the following: \u001b[39m\u001b[38;5;124m\"\u001b[39m\n\u001b[0;32m    122\u001b[0m                          \u001b[38;5;124mf\u001b[39m\u001b[38;5;124m\"\u001b[39m\u001b[38;5;132;01m{\u001b[39;00mlist_available_names(shell_and_tube_material_factor_coefficients)\u001b[38;5;132;01m}\u001b[39;00m\u001b[38;5;124m\"\u001b[39m)\n\u001b[0;32m    123\u001b[0m \u001b[38;5;28mself\u001b[39m\u001b[38;5;241m.\u001b[39m_material \u001b[38;5;241m=\u001b[39m material\n",
      "\u001b[1;31mAttributeError\u001b[0m: material must be one of the following: 'Carbon steel/carbon steel', 'Carbon steel/brass', 'Carbon steel/stainles steel', 'Carbon steel/Monel', 'Carbon steel/titanium', 'Carbon steel/Cr-Mo steel', 'Cr-Mo steel/Cr-Mo steel', 'Stainless steel/stainless steel', 'Monel/Monel', and 'Titanium/titanium'"
     ]
    }
   ],
   "source": [
    "hx.material = 'something nonsensical'"
   ]
  },
  {
   "cell_type": "code",
   "execution_count": 11,
   "id": "d05242f4-e9a1-4852-b365-8f8dafab4fd6",
   "metadata": {},
   "outputs": [
    {
     "data": {
      "text/html": [
       "<div>\n",
       "<style scoped>\n",
       "    .dataframe tbody tr th:only-of-type {\n",
       "        vertical-align: middle;\n",
       "    }\n",
       "\n",
       "    .dataframe tbody tr th {\n",
       "        vertical-align: top;\n",
       "    }\n",
       "\n",
       "    .dataframe thead th {\n",
       "        text-align: right;\n",
       "    }\n",
       "</style>\n",
       "<table border=\"1\" class=\"dataframe\">\n",
       "  <thead>\n",
       "    <tr style=\"text-align: right;\">\n",
       "      <th></th>\n",
       "      <th>Heat exchanger</th>\n",
       "      <th>Units</th>\n",
       "      <th>hx</th>\n",
       "    </tr>\n",
       "  </thead>\n",
       "  <tbody>\n",
       "    <tr>\n",
       "      <th rowspan=\"3\" valign=\"top\">Low pressure steam</th>\n",
       "      <th>Duty</th>\n",
       "      <td>kJ/hr</td>\n",
       "      <td>2.84e+06</td>\n",
       "    </tr>\n",
       "    <tr>\n",
       "      <th>Flow</th>\n",
       "      <td>kmol/hr</td>\n",
       "      <td>73.4</td>\n",
       "    </tr>\n",
       "    <tr>\n",
       "      <th>Cost</th>\n",
       "      <td>USD/hr</td>\n",
       "      <td>17.4</td>\n",
       "    </tr>\n",
       "    <tr>\n",
       "      <th rowspan=\"6\" valign=\"top\">Design</th>\n",
       "      <th>Area</th>\n",
       "      <td>m²</td>\n",
       "      <td>15.6</td>\n",
       "    </tr>\n",
       "    <tr>\n",
       "      <th>Overall heat transfer coefficient</th>\n",
       "      <td>kg/K/s³</td>\n",
       "      <td>500</td>\n",
       "    </tr>\n",
       "    <tr>\n",
       "      <th>Log-mean temperature difference</th>\n",
       "      <td>K</td>\n",
       "      <td>101</td>\n",
       "    </tr>\n",
       "    <tr>\n",
       "      <th>Fouling correction factor</th>\n",
       "      <td></td>\n",
       "      <td>1</td>\n",
       "    </tr>\n",
       "    <tr>\n",
       "      <th>Operating pressure</th>\n",
       "      <td>kg/m/s²</td>\n",
       "      <td>3.45e+05</td>\n",
       "    </tr>\n",
       "    <tr>\n",
       "      <th>Total tube length</th>\n",
       "      <td>m</td>\n",
       "      <td>6.1</td>\n",
       "    </tr>\n",
       "    <tr>\n",
       "      <th>Purchase cost</th>\n",
       "      <th>Floating head</th>\n",
       "      <td>USD</td>\n",
       "      <td>7.61e+04</td>\n",
       "    </tr>\n",
       "    <tr>\n",
       "      <th>Total purchase cost</th>\n",
       "      <th></th>\n",
       "      <td>USD</td>\n",
       "      <td>7.61e+04</td>\n",
       "    </tr>\n",
       "    <tr>\n",
       "      <th>Utility cost</th>\n",
       "      <th></th>\n",
       "      <td>USD/hr</td>\n",
       "      <td>17.4</td>\n",
       "    </tr>\n",
       "  </tbody>\n",
       "</table>\n",
       "</div>"
      ],
      "text/plain": [
       "Heat exchanger                                           Units       hx\n",
       "Low pressure steam  Duty                                 kJ/hr 2.84e+06\n",
       "                    Flow                               kmol/hr     73.4\n",
       "                    Cost                                USD/hr     17.4\n",
       "Design              Area                                    m²     15.6\n",
       "                    Overall heat transfer coefficient  kg/K/s³      500\n",
       "                    Log-mean temperature difference          K      101\n",
       "                    Fouling correction factor                         1\n",
       "                    Operating pressure                 kg/m/s² 3.45e+05\n",
       "                    Total tube length                        m      6.1\n",
       "Purchase cost       Floating head                          USD 7.61e+04\n",
       "Total purchase cost                                        USD 7.61e+04\n",
       "Utility cost                                            USD/hr     17.4"
      ]
     },
     "execution_count": 11,
     "metadata": {},
     "output_type": "execute_result"
    }
   ],
   "source": [
    "hx.material = 'Stainless steel/stainless steel'\n",
    "hx.simulate()\n",
    "hx.results(basis='SI')"
   ]
  },
  {
   "cell_type": "code",
   "execution_count": null,
   "id": "bf9968b2-f71a-4174-a9ad-a923c0fa94bd",
   "metadata": {},
   "outputs": [],
   "source": []
  }
 ],
 "metadata": {
  "kernelspec": {
   "display_name": "Python 3 (ipykernel)",
   "language": "python",
   "name": "python3"
  },
  "language_info": {
   "codemirror_mode": {
    "name": "ipython",
    "version": 3
   },
   "file_extension": ".py",
   "mimetype": "text/x-python",
   "name": "python",
   "nbconvert_exporter": "python",
   "pygments_lexer": "ipython3",
   "version": "3.12.7"
  }
 },
 "nbformat": 4,
 "nbformat_minor": 5
}
