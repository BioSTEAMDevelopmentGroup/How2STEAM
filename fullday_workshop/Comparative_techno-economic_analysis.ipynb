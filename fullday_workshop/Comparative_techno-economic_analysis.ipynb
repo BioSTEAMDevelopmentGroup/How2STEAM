{
 "cells": [
  {
   "cell_type": "markdown",
   "metadata": {},
   "source": [
    "# Comparative techno-economic analysis\n",
    "\n",
    "Techno-economic analyses (TEAs) of emerging and conceptual technologies rarely provide a good estimate of economic viability. In fact, economic indicators are largely overly optimistic due to biased assumptions and unforeseen expenses. The real power of early-stage TEA is the ability to **compare** technologies under harmonized assumptions and establish key **performance targets** that technologies need to meet for market competitiveness. Performing comparative techno-economic analysis under harmonized assumptions, however, can be challenging due to the complexity of managing many biorefinery codes/files. In this chapter, we demonstrate how BioSTEAM can facilitate the evaluation and comparison of many configuration **scenarios** through ProcessModel objects.\n",
    "\n",
    "\n",
    "## Process models\n",
    "\n",
    "ProcessModel objects allow us to write code for many related configurations with ease. It streamlines the process of creating a model, including:\n",
    "\n",
    "* Defining **scenarios** to compare.\n",
    "* Creating the **thermodynamic property package**.\n",
    "* Forming the **system** from unit operations.\n",
    "* Setting up the evaluation **model**.\n",
    "\n",
    "Additionally, all objects created within the process model (e.g., chemicals, streams, units, systems) can be easily accessed as attributes.\n",
    "\n",
    "The first step is to inherit from the ProcessModel abstract class. An abstract class has missing (or \"abstract\") attributes/methods which the user must define to complete the class. The user must define a `Scenario` dataclass, and `as_scenario`, `create_thermo`, `create_system`, `create_model` methods for the process model to initialize its key components. \n",
    "\n",
    "It may help to look at how ProcessModel objects are created (approximately):\n",
    "    \n",
    "```python\n",
    "def __new__(cls, simulate=None, scenario=None, **kwargs):\n",
    "    if scenario is None:\n",
    "        self.scenario = cls.Scenario(**kwargs)\n",
    "    else:\n",
    "        # The Scenario object can be initialized through the `as_scenario` class method.\n",
    "        self.scenario = cls.as_scenario(scenario)\n",
    "    \n",
    "    # No need to recreate a process model for repeated scenarios.\n",
    "    if scenario in cls.cache: return cls.cache[scenario]\n",
    "    self = super().__new__()\n",
    "    \n",
    "    # The thermodynamic property package is given by the `create_thermo` method.\n",
    "    self.load_thermo(self.create_thermo())\n",
    "    \n",
    "    # If no system is returned by the `create_system` method, a new system is created from flowsheet units.\n",
    "    self.flowsheet = bst.Flowsheet()\n",
    "    system = self.create_system()\n",
    "    if system is None: system = self.flowsheet.create_system()\n",
    "    \n",
    "    # This saves the system as self.system and all units/streams as attributes by ID.\n",
    "    # For example, Stream('feedstock') will be stored as self.feestock.\n",
    "    self.load_system(system) \n",
    "    \n",
    "    # A Model object is loaded from the `create_model` method.\n",
    "    # The model will be stored as self.model and all parameters and indicators as attributes by function name.\n",
    "    # For example: \n",
    "    #\n",
    "    # @model.indicator\n",
    "    # def MSP(): return self.tea.solve_price(self.product)\n",
    "    #\n",
    "    # ^ This becomes self.MSP.\n",
    "    self.load_model(self.create_model())\n",
    "    \n",
    "    if simulate: self.system.simulate()\n",
    "    self.cache[scenario] = self\n",
    "    return self\n",
    "\n",
    "```\n",
    "\n",
    "## Cellulosic ethanol production\n",
    "\n",
    "As a demonstrative case study, we will perform economic analysis of cellulosic ethanol production for two alternative biorefinery configurations: one processing corn stover with dilute acid pretreatment [1] and another processing switch grass with AFEX pretreatment [2]. For simplicity, assumptions on fermentation performance in the switch grass biorefinery are the same as in the corn stover biorefinery."
   ]
  },
  {
   "cell_type": "code",
   "execution_count": null,
   "metadata": {},
   "outputs": [],
   "source": [
    "from biorefineries import cellulosic\n",
    "from biorefineries.ethanol import create_ethanol_purification_system\n",
    "from biorefineries.tea import create_cellulosic_ethanol_tea\n",
    "import biosteam as bst\n",
    "bst.nbtutorial()\n",
    "\n",
    "class CellulosicEthanolBiorefinery(bst.ProcessModel):\n",
    "    # The 'Scenario' class defines arguments to the process model.\n",
    "    # It works very similar to a python dataclass: https://docs.python.org/3/library/dataclasses.html\n",
    "    class Scenario:\n",
    "        # To define an argument, you must include the type, but the default is optional.\n",
    "        # You can also add metadata by tagging along a string that starts with #.\n",
    "        feedstock: str = 'cornstover', '# dry at 20% moisture content'\n",
    "        pretreatment: str = 'dilute acid'\n",
    "    \n",
    "    @classmethod\n",
    "    def as_scenario(cls, scenario):\n",
    "        # Interpret strings in the form of '{feedstock}/{pretreatment}' as a scenario.\n",
    "        feedstock, pretreatment = scenario.split('/')\n",
    "        return cls.Scenario(feedstock, pretreatment)\n",
    "    \n",
    "    def create_thermo(self):\n",
    "        return cellulosic.create_cellulosic_ethanol_chemicals()\n",
    "    \n",
    "    def create_system(self):\n",
    "        # Here we create the units and connect them.\n",
    "        # BioSTEAM can take care of creating the system.\n",
    "        cellulosic.load_process_settings()\n",
    "        scenario = self.scenario # The input parameters to the process model are saved here.\n",
    "        if self.scenario.feedstock == 'cornstover':\n",
    "            feedstock = bst.Stream(\n",
    "                ID='feedstock',\n",
    "                price=0.0516,\n",
    "                total_flow=104229.16,\n",
    "                units='kg/hr',\n",
    "                Water=0.20215,\n",
    "                Sucrose=0.00623,\n",
    "                Extract=0.11846,\n",
    "                Acetate=0.01464,\n",
    "                Ash=0.03986,\n",
    "                Lignin=0.12744,\n",
    "                Protein=0.02507,\n",
    "                Glucan=0.28302,\n",
    "                Xylan=0.15788,\n",
    "                Arabinan=0.01925,\n",
    "                Mannan=0.00485,\n",
    "                Galactan=0.00116,\n",
    "            )\n",
    "        elif self.scenario.feedstock == 'switchgrass':\n",
    "            feedstock = bst.Stream(\n",
    "                ID='feedstock',\n",
    "                total_flow=104229.16,\n",
    "                price=0.08,\n",
    "                units='kg/hr',\n",
    "                Arabinan=0.02789,\n",
    "                Galactan=0.01044,\n",
    "                Glucan=0.2717,\n",
    "                Xylan=0.21215,\n",
    "                Mannan=0.00594,\n",
    "                Lignin=0.17112,\n",
    "                Ash=0.01619,\n",
    "                Extract=0.0756,\n",
    "                Acetate=0.00897,\n",
    "                Water=0.2,\n",
    "            )\n",
    "        else:\n",
    "            raise ValueError('invalid feedstock')\n",
    "        \n",
    "        ethanol = bst.Stream(ID='ethanol', price=0.5)\n",
    "        U101 = cellulosic.units.FeedStockHandling('U101', feedstock)\n",
    "        U101.cost_items['System'].cost = 0.\n",
    "        \n",
    "        if scenario.pretreatment == 'dilute acid':\n",
    "            create_pretreatment_sys = cellulosic.create_dilute_acid_pretreatment_system\n",
    "        elif scenario.pretreatment == 'AFEX':\n",
    "            create_pretreatment_sys = cellulosic.create_ammonia_fiber_expansion_pretreatment_system\n",
    "        else:\n",
    "            raise ValueError('invalid pretreatment')\n",
    "            \n",
    "        pretreatment_sys = create_pretreatment_sys(\n",
    "            ins=U101-0, area=200, mockup=True,\n",
    "        )\n",
    "        fermentation_sys = cellulosic.create_cellulosic_fermentation_system(\n",
    "            ins=pretreatment_sys.get_outlet('pretreated_biomass'), area=300, mockup=True,\n",
    "            # Valid arguments include:\n",
    "            # Integrated Bioprocess (IB)\n",
    "            # Simultaneous Saccharification and Co-Fermentation (SSCF)\n",
    "            # Saccharification and Co-Fermentation (SCF)\n",
    "            kind='IB',\n",
    "        )\n",
    "        ethanol_purification_sys = create_ethanol_purification_system(\n",
    "            ins=fermentation_sys.get_outlet('beer'),\n",
    "            outs=[ethanol], area=400, mockup=True,\n",
    "        )\n",
    "        ethanol, stillage, stripper_bottoms_product = ethanol_purification_sys.outs\n",
    "        water = bst.Stream(Water=1, T=47+273.15, P=3.9*101325, units='kg/hr')\n",
    "        S401 = bst.PressureFilter(400, (stillage, water))\n",
    "        bst.create_all_facilities(\n",
    "            # Certain facilities like the Fire Water Tank (in case there is a fire)\n",
    "            # is sized based on feedstock flow rate\n",
    "            feedstock,\n",
    "            recycle_process_water_streams=[stripper_bottoms_product],\n",
    "            HXN=False, # No heat exchanger network,\n",
    "            area=600,\n",
    "        )\n",
    "    \n",
    "    def create_model(self): # We create the Model object here.\n",
    "        system = self.system # BioSTEAM automaticaly creates the system and saves it as self.system\n",
    "        self.tea = tea = create_cellulosic_ethanol_tea(system)\n",
    "        model = bst.Model(system)\n",
    "        price = self.feedstock.price * 1000 # USD / MT\n",
    "        processing_capacity = self.feedstock.F_mass * tea.operating_hours / 1e6 # 10^3 MT / y\n",
    "        \n",
    "        @model.parameter(\n",
    "            element='feedstock', units='USD/kg', # Metadata for pretty tables/plots\n",
    "            baseline=price, # Baseline price\n",
    "            bounds=(price * 0.9, price * 1.1) # Min/max price\n",
    "        )\n",
    "        def set_feedstock_price(feedstock_price):\n",
    "            self.feedstock.price = feedstock_price / 1000\n",
    "\n",
    "        @model.parameter(\n",
    "            element='feedstock', units='10^3 MT/y',\n",
    "            baseline=processing_capacity,\n",
    "            bounds=(processing_capacity * 0.9, processing_capacity * 1.1)\n",
    "        )\n",
    "        def set_processing_capacity(processing_capacity):\n",
    "            self.feedstock.F_mass = 1e6 * processing_capacity /  tea.operating_hours \n",
    "\n",
    "        @model.indicator(units='USD/gal')\n",
    "        def MESP():\n",
    "            return tea.solve_price(self.ethanol) * 2.98668849 # USD/kg to USD/gal\n",
    "        \n",
    "        return model\n"
   ]
  },
  {
   "cell_type": "markdown",
   "metadata": {},
   "source": [
    "Let's create the cellulosic ethanol biorefinery and explore the process model attributes."
   ]
  },
  {
   "cell_type": "code",
   "execution_count": null,
   "metadata": {},
   "outputs": [],
   "source": [
    "# Create the process model without simulating the system\n",
    "cellulosic_br = CellulosicEthanolBiorefinery(scenario='cornstover/dilute acid', simulate=False)\n",
    "cellulosic_br"
   ]
  },
  {
   "cell_type": "code",
   "execution_count": null,
   "metadata": {
    "tags": [
     "nbval-skip"
    ]
   },
   "outputs": [],
   "source": [
    "# Simulate and look at the diagram\n",
    "cellulosic_br.system.simulate()\n",
    "cellulosic_br.system.diagram('cluster')"
   ]
  },
  {
   "cell_type": "code",
   "execution_count": null,
   "metadata": {
    "tags": [
     "nbval-skip"
    ]
   },
   "outputs": [],
   "source": [
    "# Access any unit operation or stream in the system\n",
    "cellulosic_br.R301.results(basis='SI')"
   ]
  },
  {
   "cell_type": "code",
   "execution_count": null,
   "metadata": {},
   "outputs": [],
   "source": [
    "# Access the model\n",
    "cellulosic_br.model"
   ]
  },
  {
   "cell_type": "code",
   "execution_count": null,
   "metadata": {
    "tags": [
     "nbval-skip"
    ]
   },
   "outputs": [],
   "source": [
    "# Access model parameters and indicators\n",
    "cellulosic_br.set_feedstock_price(0.06)\n",
    "cellulosic_br.MESP()"
   ]
  },
  {
   "cell_type": "markdown",
   "metadata": {},
   "source": [
    "Note how all streams, units, systems, parameters and indicators can be easily accessed. Let's now use the process model to conduct a simple uncertainty analysis on the impact of feedstock price and flow rate on the minimum ethanol selling price for each configuration:"
   ]
  },
  {
   "cell_type": "code",
   "execution_count": null,
   "metadata": {
    "tags": [
     "nbval-skip"
    ]
   },
   "outputs": [],
   "source": [
    "import numpy as np\n",
    "from matplotlib import pyplot as plt\n",
    "from biosteam.plots import plot_montecarlo\n",
    "\n",
    "scenarios = ['cornstover/dilute acid', 'switchgrass/AFEX']\n",
    "biorefineries = []\n",
    "data = []\n",
    "for scenario in scenarios:\n",
    "    br = CellulosicEthanolBiorefinery(scenario=scenario, simulate=False)\n",
    "    samples = br.model.sample(50, 'L')\n",
    "    br.model.load_samples(samples, sort=True)\n",
    "    br.model.evaluate()\n",
    "    biorefineries.append(br)\n",
    "    data.append(br.model.table[br.MESP.index])\n",
    "\n",
    "dct = plot_montecarlo(data=np.array(data), xmarks=[i.replace('/', '\\n') for i in scenarios])\n",
    "plt.ylabel(br.MESP.describe())"
   ]
  },
  {
   "cell_type": "markdown",
   "metadata": {},
   "source": [
    "Using the ProcessModel objects, we were quickly able to define the biorefinery models and configurations and conduct uncertainty and sensitivity analyses. Biorefineries in the [Bioindustrial-Park](https://github.com/BioSTEAMDevelopmentGroup/Bioindustrial-Park) repository leverage ProcessModel objects in this way too.\n",
    "\n",
    "While this dumbed-down uncertainty analysis suggests that one configuration is much more economically viable than the other,  the assumptions behind the analysis are arbitrary and a more rigorous uncertainty analyses would base all assumptions on expert knowledge. "
   ]
  },
  {
   "cell_type": "markdown",
   "metadata": {},
   "source": [
    "### References\n",
    "\n",
    "<a id='References'></a>\n",
    "\n",
    "1. Humbird, D. et al. Process design and economics for biochemical conversion of lignocellulosic biomass to ethanol: Dilute-acid pretreatment and enzymatic hydrolysis of corn stover. http://www.nrel.gov/docs/fy11osti/47764.pdf (2011).\n",
    "\n",
    "2. Serate, J. et al. Controlling microbial contamination during hydrolysis of AFEX-pretreated corn stover and switchgrass: effects on hydrolysate composition, microbial response and fermentation. Biotechnol Biofuels 8, 180 (2015).\n"
   ]
  }
 ],
 "metadata": {
  "celltoolbar": "Tags",
  "kernelspec": {
   "display_name": "Python 3 (ipykernel)",
   "language": "python",
   "name": "python3"
  },
  "language_info": {
   "codemirror_mode": {
    "name": "ipython",
    "version": 3
   },
   "file_extension": ".py",
   "mimetype": "text/x-python",
   "name": "python",
   "nbconvert_exporter": "python",
   "pygments_lexer": "ipython3",
   "version": "3.12.7"
  }
 },
 "nbformat": 4,
 "nbformat_minor": 4
}
