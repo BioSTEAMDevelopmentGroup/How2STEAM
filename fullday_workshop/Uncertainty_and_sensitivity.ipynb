{
 "cells": [
  {
   "cell_type": "markdown",
   "metadata": {
    "editable": true,
    "slideshow": {
     "slide_type": ""
    },
    "tags": []
   },
   "source": [
    "# Uncertainty and sensitivity"
   ]
  },
  {
   "cell_type": "markdown",
   "metadata": {},
   "source": [
    "TEA/LCA is a powerful tool to understand the potential sustainability of a technology. But it can be extremely difficult to navigate uncertainties in design decisions (e.g., refinery size and location), market variability, and technological performance. Evaluating just one representative scenario (under a single set of assumptions) gives an incomplete picture that is not conclusive. This is especially true for conceptual and early-stage technologies, which have higher levels of uncertainty. We need to pair TEA/LCA with rigorous uncertainty/sensitivity analyses to explore the landscape of potential outcomes, identify representative scenarios (through sensitivity analysis), and establish technological performance targets. To learn more about expediting RD&D through modeling, we recommend reading on [quantitive sustainable design (QSD) methodology](https://pubs.rsc.org/en/content/articlelanding/2022/ew/d2ew00431c).\n",
    "\n",
    "![uncertainty](uncertainty_sensitivity_overview.png)"
   ]
  },
  {
   "cell_type": "markdown",
   "metadata": {
    "editable": true,
    "slideshow": {
     "slide_type": ""
    },
    "tags": []
   },
   "source": [
    "As one of its central features, BioSTEAM streamlines TEA/LCA with rigorous uncertainty/sensitivity analyses to empower researchers with the ability to navigate uncertainty and guide RD&D. Using NREL's model for cellulosic ethanol production from cornstover as a conceptual case study, this tutorial will demonstrate how to construct a model and perform Monte Carlo-based uncertainty/sensitivity analyses to establish potential targets for improvement. "
   ]
  },
  {
   "cell_type": "markdown",
   "metadata": {},
   "source": [
    "## Framework"
   ]
  },
  {
   "cell_type": "markdown",
   "metadata": {},
   "source": [
    "BioSTEAM streamlines uncertainty analysis with an object-oriented framework where a [Model](../API/evaluation/Model.txt) object samples from parameter distributions and evaluates sustainability indicators at each new condition. In essence, a Model object sets parameter values, simulates the biorefinery system, and evaluates indicators across an array of samples.\n",
    "\n",
    "![model](model_UML_light.png)"
   ]
  },
  {
   "cell_type": "markdown",
   "metadata": {},
   "source": [
    "On the backend, Model objects cut down simulation time using a number of strategies, including sorting the samples to minimize perturbations to the system between simulation. \n"
   ]
  },
  {
   "cell_type": "markdown",
   "metadata": {},
   "source": [
    "### Probability distributions"
   ]
  },
  {
   "cell_type": "markdown",
   "metadata": {},
   "source": [
    "**Let's first learn how to create common parameter distributions using** [chaospy](https://chaospy.readthedocs.io/en/master/user_guide/quick_tutorial.html)."
   ]
  },
  {
   "cell_type": "markdown",
   "metadata": {},
   "source": [
    "A triangular distribution is typically used when the input parameter is uncertain within given limits, but is heuristically known to take a particular value. Create a triangular distribution:"
   ]
  },
  {
   "cell_type": "code",
   "execution_count": null,
   "metadata": {
    "editable": true,
    "slideshow": {
     "slide_type": ""
    },
    "tags": [
     "nbval-ignore-output"
    ]
   },
   "outputs": [],
   "source": [
    "from warnings import filterwarnings; filterwarnings('ignore') \n",
    "from chaospy import distributions as shape\n",
    "lower_bound = 0\n",
    "most_probable = 0.5\n",
    "upper_bound = 1\n",
    "triang = shape.Triangle(lower_bound, most_probable, upper_bound)\n",
    "print(triang)"
   ]
  },
  {
   "cell_type": "markdown",
   "metadata": {
    "editable": true,
    "slideshow": {
     "slide_type": ""
    },
    "tags": []
   },
   "source": [
    "A uniform distribution is used when the theoretical limits of the parameter is known, but no information is available to discern which values are more probable. Create a uniform distribution:"
   ]
  },
  {
   "cell_type": "code",
   "execution_count": null,
   "metadata": {
    "editable": true,
    "slideshow": {
     "slide_type": ""
    },
    "tags": [
     "nbval-ignore-output"
    ]
   },
   "outputs": [],
   "source": [
    "from chaospy import distributions as shape\n",
    "lower_bound = 0\n",
    "upper_bound = 1\n",
    "unif = shape.Uniform(lower_bound, upper_bound)\n",
    "print(unif)"
   ]
  },
  {
   "cell_type": "markdown",
   "metadata": {},
   "source": [
    "A large set of distributions are available through chaospy, but generally triangular and uniform distributions are the most widely used to describe the uncertainty of parameters in Monte Carlo analyses."
   ]
  },
  {
   "cell_type": "markdown",
   "metadata": {},
   "source": [
    "### Input parameters and sustainability indicators\n",
    "\n",
    "**Parameter and Indicator objects are simply structures BioSTEAM uses to set input parameters and evaluate sustainability/performance indicators.**\n",
    "\n",
    "Parameter objects use a `setter` function to set the parameter value related to an `element` (e.g. unit operation, stream, etc.).  They can have a `distribution` (e.g., triangular, uniform) attribute for Model objects to sample from. Parameters also have `name`, `units` of measure, and `baseline` value attributes for bookkeeping purposes. BioSTEAM incorporates the `element`, `name`, and `units` of measure when creating a DataFrame of Monte Carlo results and parameter distributions. Similarly, an Indicator object uses a `getter` function for to evaluate the indicator value and has `name`, `element`, and `units` of measure attributes for bookkeeping."
   ]
  },
  {
   "cell_type": "markdown",
   "metadata": {},
   "source": [
    "Hopefully things will be become clearer with the following examples using a cellulosic ethanol production process."
   ]
  },
  {
   "cell_type": "markdown",
   "metadata": {},
   "source": [
    "## Creating a Model object"
   ]
  },
  {
   "cell_type": "markdown",
   "metadata": {},
   "source": [
    "**Model objects are used to evaluate indicators given a set of system parameters.**"
   ]
  },
  {
   "cell_type": "markdown",
   "metadata": {},
   "source": [
    "Create a Model object of the cellulosic ethanol:"
   ]
  },
  {
   "cell_type": "code",
   "execution_count": null,
   "metadata": {
    "editable": true,
    "slideshow": {
     "slide_type": ""
    },
    "tags": [
     "nbval-ignore-output"
    ]
   },
   "outputs": [],
   "source": [
    "import biosteam as bst\n",
    "from biorefineries import cellulosic\n",
    "from biorefineries.tea import create_cellulosic_ethanol_tea\n",
    "bst.nbtutorial()\n",
    "chemicals = cellulosic.create_cellulosic_ethanol_chemicals()\n",
    "bst.settings.set_thermo(chemicals)\n",
    "cellulosic.load_process_settings()\n",
    "bst.F.set_flowsheet('cellulosic_ethanol') # F is the main flowsheet\n",
    "system = cellulosic.create_cellulosic_ethanol_system()\n",
    "tea = create_cellulosic_ethanol_tea(system)\n",
    "model = bst.Model(system)"
   ]
  },
  {
   "cell_type": "markdown",
   "metadata": {},
   "source": [
    "The Model object begins with no parameters and no indicators: "
   ]
  },
  {
   "cell_type": "code",
   "execution_count": null,
   "metadata": {
    "editable": true,
    "slideshow": {
     "slide_type": ""
    },
    "tags": []
   },
   "outputs": [],
   "source": [
    "model"
   ]
  },
  {
   "cell_type": "markdown",
   "metadata": {},
   "source": [
    "### Add sustainability/performance indicators"
   ]
  },
  {
   "cell_type": "markdown",
   "metadata": {},
   "source": [
    "**Example:** Add the minimum ethanol selling price (MESP) as an indicator."
   ]
  },
  {
   "cell_type": "code",
   "execution_count": null,
   "metadata": {
    "editable": true,
    "slideshow": {
     "slide_type": ""
    },
    "tags": []
   },
   "outputs": [],
   "source": [
    "@model.indicator(units='USD/kg')\n",
    "def MESP(): return tea.solve_price(bst.F.ethanol)\n",
    "\n",
    "model"
   ]
  },
  {
   "cell_type": "markdown",
   "metadata": {},
   "source": [
    "**Problem:** Add the total capital investment (TCI) as an indicator."
   ]
  },
  {
   "cell_type": "code",
   "execution_count": null,
   "metadata": {},
   "outputs": [],
   "source": [
    "# Hint: tea.TCI / 1e6 is the total capital investment in 10^6 * USD\n",
    "@None\n",
    "def TCI(): return None # total capital investment"
   ]
  },
  {
   "cell_type": "markdown",
   "metadata": {},
   "source": [
    "Note that the decorator uses the function to create an Indicator object and adds it to the model."
   ]
  },
  {
   "cell_type": "markdown",
   "metadata": {},
   "source": [
    "### Add input parameters"
   ]
  },
  {
   "cell_type": "markdown",
   "metadata": {},
   "source": [
    "**Example:** Add fermentation performance parameters and a processing capacity parameter."
   ]
  },
  {
   "cell_type": "code",
   "execution_count": null,
   "metadata": {
    "editable": true,
    "slideshow": {
     "slide_type": ""
    },
    "tags": []
   },
   "outputs": [],
   "source": [
    "fermentation = bst.F.R303\n",
    "ethanol_rxn = fermentation.cofermentation[0]\n",
    "xylose_rxn = fermentation.cofermentation[4]\n",
    "@model.parameter(\n",
    "    element='fermentation',\n",
    "    units='% theoretical', # Metadata (does not affect simulation)\n",
    "    bounds=(85, 95), # Lower and upper bound\n",
    "    distribution='uniform', # Same as shape.Uniform(lower, upper)\n",
    "    baseline=0.5 * (80 + 95), # Baseline assumption\n",
    "    coupled=True, # Optional, tells BioSTEAM this impacts mass/energy balances\n",
    ")\n",
    "def set_glucose_to_ethanol_yield(glucose_to_ethanol_yield):\n",
    "    ethanol_rxn.X = glucose_to_ethanol_yield / 100\n",
    "    \n",
    "@model.parameter(\n",
    "    element='fermentation', units='% theoretical',\n",
    "    bounds=(70, 90), # Baseline defaults to the average of the lower and upper bounds.\n",
    "    distribution='uniform',\n",
    "    coupled=True,\n",
    ")\n",
    "def set_xylose_to_ethanol_yield(xylose_to_ethanol_yield):\n",
    "    xylose_rxn.X = xylose_to_ethanol_yield / 100\n",
    "\n",
    "processing_capacity = feedstock.F_mass * tea.operating_hours / 1e3 # Annual processing capacity MT / y\n",
    "lb = processing_capacity * 0.9\n",
    "ub = processing_capacity * 1.1\n",
    "@model.parameter(\n",
    "    units='MT/yr',\n",
    "    bounds=(lb, ub),\n",
    "    element='Biorefinery',\n",
    "    baseline=processing_capacity,\n",
    "    distribution='triangular', # Defaults to shape.Triangular(lower=lb, midpoint=baseline, upper=ub)\n",
    "    coupled=True,\n",
    ")\n",
    "def set_processing_capacity(processing_capacity):\n",
    "    feedstock.F_mass = 1e3 * processing_capacity / tea.operating_hours\n",
    "    \n",
    "model"
   ]
  },
  {
   "cell_type": "markdown",
   "metadata": {},
   "source": [
    "**Example:** Add feed price as a parameter."
   ]
  },
  {
   "cell_type": "code",
   "execution_count": null,
   "metadata": {},
   "outputs": [],
   "source": [
    "feedstock = bst.F.cornstover # The feedstock stream\n",
    "lb = feedstock.price * 0.9 # Minimum price\n",
    "ub = feedstock.price * 1.1 # Maximum price\n",
    "\n",
    "# Hint: you can set feedstock price in USD/kg by feedstock.price = price\n",
    "@None\n",
    "def set_feed_price(price):\n",
    "    pass\n",
    "    "
   ]
  },
  {
   "cell_type": "markdown",
   "metadata": {},
   "source": [
    "Note that the `model.parameter` decorator uses the function to create a Parameter object and adds it to the model."
   ]
  },
  {
   "cell_type": "markdown",
   "metadata": {},
   "source": [
    "### Overview of the model"
   ]
  },
  {
   "cell_type": "markdown",
   "metadata": {},
   "source": [
    "Get dictionary that contain DataFrame objects of parameter distributions:"
   ]
  },
  {
   "cell_type": "code",
   "execution_count": null,
   "metadata": {
    "editable": true,
    "slideshow": {
     "slide_type": ""
    },
    "tags": []
   },
   "outputs": [],
   "source": [
    "df_dct = model.get_distribution_summary()\n",
    "df_dct['Uniform']"
   ]
  },
  {
   "cell_type": "code",
   "execution_count": null,
   "metadata": {
    "editable": true,
    "slideshow": {
     "slide_type": ""
    },
    "tags": []
   },
   "outputs": [],
   "source": [
    "df_dct['Triangle']"
   ]
  },
  {
   "cell_type": "markdown",
   "metadata": {},
   "source": [
    "Evaluate baseline scenario:"
   ]
  },
  {
   "cell_type": "code",
   "execution_count": null,
   "metadata": {
    "editable": true,
    "slideshow": {
     "slide_type": ""
    },
    "tags": [
     "nbval-ignore-output"
    ]
   },
   "outputs": [],
   "source": [
    "baseline_scenario = model.get_baseline_scenario()\n",
    "baseline_scenario"
   ]
  },
  {
   "cell_type": "code",
   "execution_count": null,
   "metadata": {
    "editable": true,
    "slideshow": {
     "slide_type": ""
    },
    "tags": [
     "nbval-ignore-output"
    ]
   },
   "outputs": [],
   "source": [
    "model(baseline_scenario)"
   ]
  },
  {
   "cell_type": "markdown",
   "metadata": {},
   "source": [
    "### Monte Carlo uncertainty analysis"
   ]
  },
  {
   "cell_type": "markdown",
   "metadata": {},
   "source": [
    "Sample from a joint distribution, and simulate samples:"
   ]
  },
  {
   "cell_type": "code",
   "execution_count": null,
   "metadata": {
    "editable": true,
    "slideshow": {
     "slide_type": ""
    },
    "tags": [
     "nbval-skip"
    ]
   },
   "outputs": [],
   "source": [
    "import numpy as np\n",
    "N_samples = 200\n",
    "rule = 'L' # For Latin-Hypercube sampling\n",
    "np.random.seed(1234) # For consistent results\n",
    "samples = model.sample(N_samples, rule)\n",
    "model.load_samples(samples, sort=True)\n",
    "model.exception_hook = 'raise'\n",
    "model.evaluate(\n",
    "    notify=100 # Also print elapsed time after 50 simulations\n",
    ") "
   ]
  },
  {
   "cell_type": "markdown",
   "metadata": {},
   "source": [
    "All data from simulation is stored in `<Model>.table`:"
   ]
  },
  {
   "cell_type": "code",
   "execution_count": null,
   "metadata": {
    "editable": true,
    "slideshow": {
     "slide_type": ""
    },
    "tags": [
     "nbval-skip"
    ]
   },
   "outputs": [],
   "source": [
    "full_problem_space = model.table.copy() # All evaluations are stored as a pandas DataFrame\n",
    "full_problem_space"
   ]
  },
  {
   "cell_type": "markdown",
   "metadata": {},
   "source": [
    "Create a kernel density scatter plot to visualize the two economic indicators under uncertainty:"
   ]
  },
  {
   "cell_type": "code",
   "execution_count": null,
   "metadata": {
    "editable": true,
    "slideshow": {
     "slide_type": ""
    },
    "tags": [
     "nbval-skip"
    ]
   },
   "outputs": [],
   "source": [
    "import thermosteam as tmo\n",
    "import matplotlib.pyplot as plt\n",
    "format_units = tmo.units_of_measure.format_units\n",
    "ylabel = f\"MESP [{format_units('USD/kg')}]\"\n",
    "xlabel = f\"TCI [{format_units('10^6 USD')}]\"\n",
    "def plot_uncertainty(table): # This function will be useful later\n",
    "    fig, ax, axes = bst.plots.plot_kde(\n",
    "        y=table[MESP.index], \n",
    "        x=table[TCI.index],\n",
    "        ylabel=ylabel,\n",
    "        xlabel=xlabel,\n",
    "        aspect_ratio=1.1,\n",
    "    )\n",
    "plot_uncertainty(model.table)"
   ]
  },
  {
   "cell_type": "markdown",
   "metadata": {},
   "source": [
    "Note that the brighter areas signify that scenario results are more clustered and hence, more probable. "
   ]
  },
  {
   "cell_type": "markdown",
   "metadata": {},
   "source": [
    "## Sensitivity with Spearman's rank order correlation"
   ]
  },
  {
   "cell_type": "markdown",
   "metadata": {},
   "source": [
    "Model objects also presents methods for sensitivity analysis such as Spearman's correlation, a measure of monotonicity between variables:"
   ]
  },
  {
   "cell_type": "code",
   "execution_count": null,
   "metadata": {
    "editable": true,
    "slideshow": {
     "slide_type": ""
    },
    "tags": [
     "nbval-skip"
    ]
   },
   "outputs": [],
   "source": [
    "df_rho, df_p = model.spearman_r()\n",
    "print(df_rho['-', 'MESP [USD/kg]'])"
   ]
  },
  {
   "cell_type": "markdown",
   "metadata": {},
   "source": [
    "Create a tornado plot of Spearman's correlation between all parameters and IRR:"
   ]
  },
  {
   "cell_type": "code",
   "execution_count": null,
   "metadata": {
    "editable": true,
    "slideshow": {
     "slide_type": ""
    },
    "tags": [
     "nbval-skip"
    ]
   },
   "outputs": [],
   "source": [
    "bst.plots.plot_spearman_1d(df_rho['-', 'MESP [USD/kg]'], \n",
    "                           index=[i.describe() for i in model.parameters],\n",
    "                           name='MESP [USD/kg]')"
   ]
  },
  {
   "cell_type": "markdown",
   "metadata": {},
   "source": [
    "## Single point sensitivity"
   ]
  },
  {
   "cell_type": "markdown",
   "metadata": {},
   "source": [
    "A quick way to evaluate sentivity is through single point sensitivity analysis, whereby a metric is evaluated at the baseline and at the lower and upper limits of each parameter. This method ignores the interactions between parameters and their distributions, but can help screen whether a system is sensitive to a given parameter. Model objects also facilitate this analysis:"
   ]
  },
  {
   "cell_type": "code",
   "execution_count": null,
   "metadata": {
    "editable": true,
    "slideshow": {
     "slide_type": ""
    },
    "tags": [
     "nbval-skip"
    ]
   },
   "outputs": [],
   "source": [
    "baseline, lower, upper = model.single_point_sensitivity()\n",
    "print('BASELINE')\n",
    "print('--------')\n",
    "print(baseline)\n",
    "print()\n",
    "print('LOWER')\n",
    "print('-----')\n",
    "print(lower)\n",
    "print()\n",
    "print('UPPER')\n",
    "print('-----')\n",
    "print(upper)"
   ]
  },
  {
   "cell_type": "markdown",
   "metadata": {},
   "source": [
    "Create a tornado plot of the lower and upper values of the IRR:"
   ]
  },
  {
   "cell_type": "code",
   "execution_count": null,
   "metadata": {
    "editable": true,
    "slideshow": {
     "slide_type": ""
    },
    "tags": [
     "nbval-skip"
    ]
   },
   "outputs": [],
   "source": [
    "IRR, utility_cost = model.indicators\n",
    "metric_index = IRR.index\n",
    "index = [i.describe(distribution=False) # Instead of displaying distribution, it displays lower, baseline, and upper values\n",
    "         for i in model.parameters] \n",
    "bst.plots.plot_single_point_sensitivity(100 * baseline[metric_index],\n",
    "                                        100 * lower[metric_index], \n",
    "                                        100 * upper[metric_index],\n",
    "                                        name='MESP [USD/kg]',\n",
    "                                        index=index)"
   ]
  },
  {
   "cell_type": "markdown",
   "metadata": {},
   "source": [
    "Note that blue represents the upper limit while red the lower limit. Also note that local sensitivity (as estimated by the single point sensitivity analysis) is different from the global sensitivity (estimated by Spearman's rank order correlation coefficient of Monte Carlo results)."
   ]
  },
  {
   "cell_type": "markdown",
   "metadata": {},
   "source": [
    "## Scenario analysis"
   ]
  },
  {
   "cell_type": "markdown",
   "metadata": {},
   "source": [
    "Let's have a look at two different potential scenarios: a conservative and a prospective \"improved\" fermentation performance."
   ]
  },
  {
   "cell_type": "code",
   "execution_count": null,
   "metadata": {
    "editable": true,
    "slideshow": {
     "slide_type": ""
    },
    "tags": [
     "nbval-skip"
    ]
   },
   "outputs": [],
   "source": [
    "set_glucose_to_ethanol_yield.active = False\n",
    "set_xylose_to_ethanol_yield.active = False\n",
    "set_glucose_to_ethanol_yield(85)\n",
    "set_xylose_to_ethanol_yield(80)\n",
    "model.evaluate() # Reevaluate at the conservative scenario sub-space\n",
    "conservative_scenario_subspace = model.table.copy()\n",
    "set_glucose_to_ethanol_yield(95)\n",
    "set_xylose_to_ethanol_yield(90)\n",
    "model.evaluate() # Reevaluate at the prospective scenario sub-space\n",
    "prospective_scenario_subspace = model.table.copy()"
   ]
  },
  {
   "cell_type": "code",
   "execution_count": null,
   "metadata": {
    "editable": true,
    "slideshow": {
     "slide_type": ""
    },
    "tags": [
     "nbval-skip"
    ]
   },
   "outputs": [],
   "source": [
    "scenarios = [\n",
    "    'full problem space',\n",
    "    'conservative scenario sub-space',\n",
    "    'prospective scenario sub-space',\n",
    "]\n",
    "data = [\n",
    "    full_problem_space,\n",
    "    conservative_scenario_subspace,\n",
    "    prospective_scenario_subspace,\n",
    "]\n",
    "dct = bst.plots.plot_montecarlo(\n",
    "    data=np.array([i[MESP.index] for i in data]), \n",
    "    xmarks=[i.replace(' ', '\\n') for i in scenarios]\n",
    ")\n",
    "plt.ylabel(ylabel)"
   ]
  },
  {
   "cell_type": "markdown",
   "metadata": {},
   "source": [
    "Note how the targeted improvements to fermentation can benefit economic outcomes. We can also directly compare these key scenario sub-spaces under harmonized assumptions on price and processing capacity."
   ]
  },
  {
   "cell_type": "code",
   "execution_count": null,
   "metadata": {
    "editable": true,
    "slideshow": {
     "slide_type": ""
    },
    "tags": [
     "nbval-skip"
    ]
   },
   "outputs": [],
   "source": [
    "improvement = prospective_scenario_subspace - conservative_scenario_subspace\n",
    "fig, ax, axes = bst.plots.plot_kde(\n",
    "    y=improvement[MESP.index], \n",
    "    x=improvement[TCI.index],\n",
    "    ylabel='$\\Delta$' + ylabel,\n",
    "    xlabel='$\\Delta$' + xlabel,\n",
    "    aspect_ratio=1.1,\n",
    ")"
   ]
  },
  {
   "cell_type": "markdown",
   "metadata": {},
   "source": [
    "Note how the prospective scenario subspace leads to lower MESP and TCI compared to the convervative scenario subspace."
   ]
  }
 ],
 "metadata": {
  "celltoolbar": "Tags",
  "kernelspec": {
   "display_name": "Python 3 (ipykernel)",
   "language": "python",
   "name": "python3"
  },
  "language_info": {
   "codemirror_mode": {
    "name": "ipython",
    "version": 3
   },
   "file_extension": ".py",
   "mimetype": "text/x-python",
   "name": "python",
   "nbconvert_exporter": "python",
   "pygments_lexer": "ipython3",
   "version": "3.12.7"
  }
 },
 "nbformat": 4,
 "nbformat_minor": 4
}
