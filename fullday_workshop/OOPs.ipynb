{
 "cells": [
  {
   "cell_type": "markdown",
   "id": "8dd1099e-00d4-432f-9a06-7afd8af6f106",
   "metadata": {},
   "source": [
    "# Object-oriented programing"
   ]
  },
  {
   "cell_type": "markdown",
   "id": "f4c07aa5-d746-48b0-b38c-4eede846a2c6",
   "metadata": {},
   "source": [
    "**Object-oriented programing** abstracts data (**attributes**) with algorithms (**methods**). "
   ]
  },
  {
   "cell_type": "markdown",
   "id": "4d844cd1-3f67-4d7e-8a45-6d45b2cd4f65",
   "metadata": {},
   "source": [
    "![DoggyWoggy](../images/doggywoggy.jpg)"
   ]
  },
  {
   "cell_type": "code",
   "execution_count": 7,
   "id": "861efcc0-3adb-46ad-aa9e-ec3fa73de130",
   "metadata": {},
   "outputs": [
    {
     "name": "stdout",
     "output_type": "stream",
     "text": [
      "DoggyWoggy(name='Rene', age=2)\n"
     ]
    }
   ],
   "source": [
    "class DoggyWoggy:\n",
    "\n",
    "    # Magic method - Initialization\n",
    "    def __init__(self, name, age):\n",
    "        # Set attributes\n",
    "        self.name = name # Dog's name\n",
    "        self.age = age # Years\n",
    "\n",
    "    # Method\n",
    "    def happy_birthday(self, show_age=False):\n",
    "        self.age = self.age + 1\n",
    "        if show_age: print(self.age)\n",
    "\n",
    "    def bark(self):\n",
    "        print('woof woof!')\n",
    "\n",
    "    # Magic method - Representation\n",
    "    def __repr__(self): \n",
    "        return f\"DoggyWoggy(name={self.name!r}, age={self.age})\"\n",
    "\n",
    "doggy = DoggyWoggy(\n",
    "    name='Rene', \n",
    "    age=2 \n",
    ")\n",
    "print(doggy)"
   ]
  },
  {
   "cell_type": "code",
   "execution_count": 9,
   "id": "9f72cb42-1aa2-447c-9dd7-2497b0e219b8",
   "metadata": {},
   "outputs": [
    {
     "name": "stdout",
     "output_type": "stream",
     "text": [
      "4\n"
     ]
    }
   ],
   "source": [
    "doggy.happy_birthday(show_age=True)"
   ]
  },
  {
   "cell_type": "code",
   "execution_count": 5,
   "id": "4dd77953-0ddf-44f1-a71b-ca91791d9412",
   "metadata": {},
   "outputs": [
    {
     "name": "stdout",
     "output_type": "stream",
     "text": [
      "DoggyWoggy(name='Rene', age=4)\n"
     ]
    }
   ],
   "source": [
    "print(doggy)"
   ]
  },
  {
   "cell_type": "code",
   "execution_count": 6,
   "id": "8d63cc1b-baf2-4afe-8791-2cd3bd93fe8f",
   "metadata": {},
   "outputs": [
    {
     "name": "stdout",
     "output_type": "stream",
     "text": [
      "woof woof!\n"
     ]
    }
   ],
   "source": [
    "doggy.bark()"
   ]
  },
  {
   "cell_type": "markdown",
   "id": "e57a709d-28ce-41cd-81e4-b8fe30c3710e",
   "metadata": {},
   "source": [
    "## Problem\n",
    "Model a surge tank mass balance in Python."
   ]
  },
  {
   "cell_type": "markdown",
   "id": "dbc4437a-9f99-4940-b8a2-894113d4a97b",
   "metadata": {},
   "source": [
    "![SurgeTank](../images/surge_tank.png)"
   ]
  },
  {
   "cell_type": "code",
   "execution_count": 12,
   "id": "2c28fecc-0c4a-47fb-a978-ef0ba10cd925",
   "metadata": {},
   "outputs": [],
   "source": [
    "class Stream:\n",
    "\n",
    "    def __init__(self, ID, water=0):\n",
    "        self.ID = ID\n",
    "        self.water = water\n",
    "\n",
    "    def copy_like(self, other):\n",
    "        # Copy flow rate\n",
    "        water = other.water\n",
    "        self.water = water\n",
    "\n",
    "inlet = Stream(\n",
    "    ID='inlet', # Name for flowsheet\n",
    "    water=2, # Molar flow rate [kg /hr]\n",
    ")\n",
    "outlet = Stream(\n",
    "    ID='outlet', # Name for flowsheet\n",
    ")\n",
    "outlet.copy_like(inlet)\n",
    "assert inlet.water == outlet.water"
   ]
  },
  {
   "cell_type": "markdown",
   "id": "0eb8e580-a1d7-4c31-8955-1b5f4b98608a",
   "metadata": {},
   "source": [
    "Now model it in BioSTEAM."
   ]
  },
  {
   "cell_type": "code",
   "execution_count": 13,
   "id": "92be6acf-04ad-4f15-92d5-14478c4a79bd",
   "metadata": {},
   "outputs": [
    {
     "data": {
      "text/html": [
       "\n",
       "        <iframe\n",
       "            width=\"100%\"\n",
       "            height=\"225px\"\n",
       "            src=\"data:text/html;charset=utf-8,%3C%21DOCTYPE%20html%3E%3Chtml%3E%3Chead%3E%3Clink%20rel%3D%22stylesheet%22%20href%3D%22https%3A//unpkg.com/tippy.js%406.3.7/themes/translucent.css%22%3E%3Clink%20rel%3D%22stylesheet%22%20href%3D%22https%3A//rawcdn.githack.com/BioSTEAMDevelopmentGroup/biosteam/e065aca079c216d72b75949bbcbb74a3bbddb75d/biosteam/digraph/digraph.css%22%3E%3Cscript%20src%3D%22https%3A//unpkg.com/%40popperjs/core%402%22%3E%3C/script%3E%3Cscript%20src%3D%22https%3A//unpkg.com/tippy.js%406%22%3E%3C/script%3E%3Cscript%20src%3D%22https%3A//rawcdn.githack.com/BioSTEAMDevelopmentGroup/biosteam/e065aca079c216d72b75949bbcbb74a3bbddb75d/biosteam/digraph/digraph.js%22%3E%3C/script%3E%3C/head%3E%3Cbody%3E%3Csvg%20width%3D%22221pt%22%20height%3D%2251pt%22%20viewBox%3D%220.00%200.00%20221.00%2051.00%22%3E%0A%3Cg%20id%3D%22graph0%22%20class%3D%22graph%22%20transform%3D%22scale%281%201%29%20rotate%280%29%20translate%284%2047%29%22%3E%0A%3Cpolygon%20fill%3D%22%23ffffff%22%20fill-opacity%3D%220.666667%22%20stroke%3D%22transparent%22%20points%3D%22-4%2C4%20-4%2C-47%20217%2C-47%20217%2C4%20-4%2C4%22%3E%3C/polygon%3E%0A%0A%3Cg%20id%3D%22edge2%22%20class%3D%22edge%22%20data-tippy-content%3D%22Temperature%3A%20298.15%20K%3Cbr%26gt%3BPressure%3A%20101325%20Pa%3Cbr%26gt%3BLiquid%20flow%3A%202%20kmol/hr%22%3E%0A%3Cpath%20fill%3D%22none%22%20stroke%3D%22%234e4e4e%22%20d%3D%22M149.3%2C-21.5C166.32%2C-21.5%20185.79%2C-21.5%20203.5%2C-21.5%22%3E%3C/path%3E%0A%3Cg%20id%3D%22a_edge2-label%22%3E%3Ca%20title%3D%22%20Temperature%3A%20298.15%20K%3Cbr%26gt%3BPressure%3A%20101325%20Pa%3Cbr%26gt%3BLiquid%20flow%3A%202%20kmol/hr%22%3E%0A%3Ctext%20text-anchor%3D%22middle%22%20x%3D%22175.5%22%20y%3D%22-25.3%22%20font-family%3D%22Arial%22%20font-size%3D%2214.00%22%20fill%3D%22%234e4e4e%22%3E%20outlet%3C/text%3E%0A%3C/a%3E%0A%3C/g%3E%0A%3C/g%3E%0A%0A%3Cg%20id%3D%22edge1%22%20class%3D%22edge%22%20data-tippy-content%3D%22Temperature%3A%20298.15%20K%3Cbr%26gt%3BPressure%3A%20101325%20Pa%3Cbr%26gt%3BLiquid%20flow%3A%202%20kmol/hr%22%3E%0A%3Cpath%20fill%3D%22none%22%20stroke%3D%22%234e4e4e%22%20d%3D%22M11%2C-21.5C25.61%2C-21.5%2041.55%2C-21.5%2055.92%2C-21.5%22%3E%3C/path%3E%0A%3Cg%20id%3D%22a_edge1-label%22%3E%3Ca%20title%3D%22%20Temperature%3A%20298.15%20K%3Cbr%26gt%3BPressure%3A%20101325%20Pa%3Cbr%26gt%3BLiquid%20flow%3A%202%20kmol/hr%22%3E%0A%3Ctext%20text-anchor%3D%22middle%22%20x%3D%2233.5%22%20y%3D%22-25.3%22%20font-family%3D%22Arial%22%20font-size%3D%2214.00%22%20fill%3D%22%234e4e4e%22%3E%20inlet%3C/text%3E%0A%3C/a%3E%0A%3C/g%3E%0A%3C/g%3E%0A%0A%3Cg%20id%3D%22node1%22%20class%3D%22node%22%20data-tippy-content%3D%22Purchase%20cost%3A%2074%2C371%20USD%3Cbr%26gt%3BInstalled%20equipment%20cost%3A%20122%2C712%20USD%22%3E%0A%3Cg%20id%3D%22a_node1%22%3E%3Ca%20title%3D%22%20Purchase%20cost%3A%2074%2C371%20USD%3Cbr%26gt%3BInstalled%20equipment%20cost%3A%20122%2C712%20USD%22%3E%0A%3Cdefs%3E%0A%3ClinearGradient%20id%3D%22l_0%22%20gradientUnits%3D%22userSpaceOnUse%22%20x1%3D%2256%22%20y1%3D%22-21.5%22%20x2%3D%22149%22%20y2%3D%22-21.5%22%3E%0A%3Cstop%20offset%3D%220%22%20style%3D%22stop-color%3A%23fcfcfc%3Bstop-opacity%3A1.%3B%22%3E%3C/stop%3E%0A%3Cstop%20offset%3D%221%22%20style%3D%22stop-color%3A%23e6e6e6%3Bstop-opacity%3A1.%3B%22%3E%3C/stop%3E%0A%3C/linearGradient%3E%0A%3C/defs%3E%0A%3Cpolygon%20fill%3D%22url%28%23l_0%29%22%20stroke%3D%22%234e4e4e%22%20points%3D%22149%2C-43%2056%2C-43%2056%2C0%20149%2C0%20149%2C-43%22%3E%3C/polygon%3E%0A%3Ctext%20text-anchor%3D%22middle%22%20x%3D%22102.5%22%20y%3D%22-25.3%22%20font-family%3D%22Arial%22%20font-size%3D%2214.00%22%3Etank%3C/text%3E%0A%3Ctext%20text-anchor%3D%22middle%22%20x%3D%22102.5%22%20y%3D%22-10.3%22%20font-family%3D%22Arial%22%20font-size%3D%2214.00%22%3EStorage%20tank%3C/text%3E%0A%3C/a%3E%0A%3C/g%3E%0A%3C/g%3E%0A%0A%3Cg%20id%3D%22node2%22%20class%3D%22node%22%20data-tippy-content%3D%22171217121268%22%3E%0A%3Cpolygon%20fill%3D%22%23f98f60%22%20stroke%3D%22%234e4e4e%22%20points%3D%225.5%2C-27%200%2C-21.5%205.5%2C-16%2011%2C-21.5%205.5%2C-27%22%3E%3C/polygon%3E%0A%3C/g%3E%0A%0A%3Cg%20id%3D%22node3%22%20class%3D%22node%22%20data-tippy-content%3D%22171217305604%22%3E%0A%3Cpolygon%20fill%3D%22%23f98f60%22%20stroke%3D%22%234e4e4e%22%20points%3D%22213%2C-21.5%20204.75%2C-28.5%20204.75%2C-14.5%20213%2C-21.5%22%3E%3C/polygon%3E%0A%3C/g%3E%0A%3C/g%3E%0A%3C/svg%3E%3C/body%3E%3C/html%3E\"\n",
       "            frameborder=\"0\"\n",
       "            allowfullscreen\n",
       "            allowtransparency=\"true\"\n",
       "        ></iframe>\n",
       "        "
      ],
      "text/plain": [
       "<IPython.lib.display.IFrame at 0x27dd28d9b80>"
      ]
     },
     "metadata": {},
     "output_type": "display_data"
    }
   ],
   "source": [
    "import biosteam as bst\n",
    "bst.nbtutorial()\n",
    "bst.settings.set_thermo(['Water', 'Butanol'])\n",
    "inlet = bst.Stream('inlet', Water=2)\n",
    "outlet = bst.Stream('outlet')\n",
    "tank =bst.StorageTank('tank', ins=inlet, outs=outlet)\n",
    "tank.simulate()\n",
    "tank.diagram()"
   ]
  },
  {
   "cell_type": "code",
   "execution_count": 14,
   "id": "361ed5ec-254d-4a20-ad57-85605f21f579",
   "metadata": {},
   "outputs": [
    {
     "name": "stdout",
     "output_type": "stream",
     "text": [
      "StorageTank: tank\n",
      "ins...\n",
      "[0] inlet  \n",
      "    phase: 'l', T: 298.15 K, P: 101325 Pa\n",
      "    flow (kmol/hr): Water  2\n",
      "outs...\n",
      "[0] outlet  \n",
      "    phase: 'l', T: 298.15 K, P: 101325 Pa\n",
      "    flow (kmol/hr): Water  2\n"
     ]
    }
   ],
   "source": [
    "tank.show()"
   ]
  },
  {
   "cell_type": "code",
   "execution_count": 15,
   "id": "274d511a-fe15-4657-8a93-cf0b25d7300c",
   "metadata": {},
   "outputs": [
    {
     "data": {
      "text/html": [
       "<div>\n",
       "<style scoped>\n",
       "    .dataframe tbody tr th:only-of-type {\n",
       "        vertical-align: middle;\n",
       "    }\n",
       "\n",
       "    .dataframe tbody tr th {\n",
       "        vertical-align: top;\n",
       "    }\n",
       "\n",
       "    .dataframe thead th {\n",
       "        text-align: right;\n",
       "    }\n",
       "</style>\n",
       "<table border=\"1\" class=\"dataframe\">\n",
       "  <thead>\n",
       "    <tr style=\"text-align: right;\">\n",
       "      <th></th>\n",
       "      <th>Storage tank</th>\n",
       "      <th>Units</th>\n",
       "      <th>tank</th>\n",
       "    </tr>\n",
       "  </thead>\n",
       "  <tbody>\n",
       "    <tr>\n",
       "      <th rowspan=\"2\" valign=\"top\">Design</th>\n",
       "      <th>Residence time</th>\n",
       "      <td>hr</td>\n",
       "      <td>672</td>\n",
       "    </tr>\n",
       "    <tr>\n",
       "      <th>Total volume</th>\n",
       "      <td>m^3</td>\n",
       "      <td>24.3</td>\n",
       "    </tr>\n",
       "    <tr>\n",
       "      <th>Purchase cost</th>\n",
       "      <th>Tank</th>\n",
       "      <td>USD</td>\n",
       "      <td>7.44e+04</td>\n",
       "    </tr>\n",
       "    <tr>\n",
       "      <th>Total purchase cost</th>\n",
       "      <th></th>\n",
       "      <td>USD</td>\n",
       "      <td>7.44e+04</td>\n",
       "    </tr>\n",
       "    <tr>\n",
       "      <th>Utility cost</th>\n",
       "      <th></th>\n",
       "      <td>USD/hr</td>\n",
       "      <td>0</td>\n",
       "    </tr>\n",
       "  </tbody>\n",
       "</table>\n",
       "</div>"
      ],
      "text/plain": [
       "Storage tank                         Units     tank\n",
       "Design              Residence time      hr      672\n",
       "                    Total volume       m^3     24.3\n",
       "Purchase cost       Tank               USD 7.44e+04\n",
       "Total purchase cost                    USD 7.44e+04\n",
       "Utility cost                        USD/hr        0"
      ]
     },
     "execution_count": 15,
     "metadata": {},
     "output_type": "execute_result"
    }
   ],
   "source": [
    "tank.results()"
   ]
  },
  {
   "cell_type": "code",
   "execution_count": null,
   "id": "6b153a86-b4e9-4f19-9623-447a72263464",
   "metadata": {},
   "outputs": [],
   "source": []
  }
 ],
 "metadata": {
  "kernelspec": {
   "display_name": "Python 3 (ipykernel)",
   "language": "python",
   "name": "python3"
  },
  "language_info": {
   "codemirror_mode": {
    "name": "ipython",
    "version": 3
   },
   "file_extension": ".py",
   "mimetype": "text/x-python",
   "name": "python",
   "nbconvert_exporter": "python",
   "pygments_lexer": "ipython3",
   "version": "3.12.7"
  }
 },
 "nbformat": 4,
 "nbformat_minor": 5
}
