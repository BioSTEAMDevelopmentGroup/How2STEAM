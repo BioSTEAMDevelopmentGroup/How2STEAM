{
 "cells": [
  {
   "cell_type": "markdown",
   "id": "8dd1099e-00d4-432f-9a06-7afd8af6f106",
   "metadata": {},
   "source": [
    "# Object-oriented programing"
   ]
  },
  {
   "cell_type": "markdown",
   "id": "03473329-854a-4f66-ba85-22c84788004f",
   "metadata": {},
   "source": [
    "## Functional programming"
   ]
  },
  {
   "cell_type": "markdown",
   "id": "8bd46ed8-9e1b-4abc-9a06-086d76b64bd1",
   "metadata": {},
   "source": [
    "**Data** and **algorithms** are separate. Codding without abstractions feels dull."
   ]
  },
  {
   "cell_type": "markdown",
   "id": "0ea90d97-472c-4eec-8f07-a8141f249cbd",
   "metadata": {},
   "source": [
    "![NotSoFunDog](../images/doggy_no_abstraction.png)"
   ]
  },
  {
   "cell_type": "code",
   "execution_count": null,
   "id": "5bf432d0-4381-40c6-b2e6-a7c3f8f8b46f",
   "metadata": {},
   "outputs": [],
   "source": [
    "dog_data = {}\n",
    "\n",
    "def initialize_dog_data(name, age):\n",
    "    dog_data['name'] = name\n",
    "    dog_data['age'] = age\n",
    "\n",
    "def increase_age(data):\n",
    "    data['age'] += 1\n",
    "\n",
    "initialize_dog_data('Rene', 2)\n",
    "dog_data"
   ]
  },
  {
   "cell_type": "code",
   "execution_count": null,
   "id": "b9447923-3aca-4b3b-bebc-5bc185166e76",
   "metadata": {},
   "outputs": [],
   "source": [
    "increase_age(dog_data)\n",
    "dog_data"
   ]
  },
  {
   "cell_type": "markdown",
   "id": "f4c07aa5-d746-48b0-b38c-4eede846a2c6",
   "metadata": {},
   "source": [
    "## Object-oriented programming\n",
    "**Abstract** data and algorithms into an **object** with **attributes** and **methods**. "
   ]
  },
  {
   "cell_type": "markdown",
   "id": "4d844cd1-3f67-4d7e-8a45-6d45b2cd4f65",
   "metadata": {},
   "source": [
    "![DoggyWoggy](../images/doggywoggy.jpg)"
   ]
  },
  {
   "cell_type": "code",
   "execution_count": null,
   "id": "861efcc0-3adb-46ad-aa9e-ec3fa73de130",
   "metadata": {},
   "outputs": [],
   "source": [
    "class DoggyWoggy:\n",
    "\n",
    "    # Magic method - Initialization\n",
    "    def __init__(self, name, age):\n",
    "        # Set attributes\n",
    "        self.name = name # Dog's name\n",
    "        self.age = age # Years\n",
    "\n",
    "    # Method\n",
    "    def happy_birthday(self, show_age=False):\n",
    "        self.age = self.age + 1\n",
    "        if show_age: print(self.age)\n",
    "\n",
    "    def bark(self):\n",
    "        print('woof woof!')\n",
    "\n",
    "    # Magic method - Representation\n",
    "    def __repr__(self): \n",
    "        return f\"DoggyWoggy(name={self.name!r}, age={self.age})\"\n",
    "\n",
    "doggy = DoggyWoggy(\n",
    "    name='Rene', \n",
    "    age=2 \n",
    ")\n",
    "print(doggy)"
   ]
  },
  {
   "cell_type": "code",
   "execution_count": null,
   "id": "9f72cb42-1aa2-447c-9dd7-2497b0e219b8",
   "metadata": {},
   "outputs": [],
   "source": [
    "doggy.happy_birthday(show_age=True)"
   ]
  },
  {
   "cell_type": "code",
   "execution_count": null,
   "id": "4dd77953-0ddf-44f1-a71b-ca91791d9412",
   "metadata": {},
   "outputs": [],
   "source": [
    "print(doggy)"
   ]
  },
  {
   "cell_type": "code",
   "execution_count": null,
   "id": "8d63cc1b-baf2-4afe-8791-2cd3bd93fe8f",
   "metadata": {},
   "outputs": [],
   "source": [
    "doggy.bark()"
   ]
  },
  {
   "cell_type": "markdown",
   "id": "b3751510-f6a8-4b91-92a7-2cc16dbde178",
   "metadata": {},
   "source": [
    "## Python objects"
   ]
  },
  {
   "cell_type": "markdown",
   "id": "86a35d9d-e34b-452a-8a3b-a82658ef1be8",
   "metadata": {},
   "source": [
    "Every data-type in Python is an object."
   ]
  },
  {
   "cell_type": "code",
   "execution_count": null,
   "id": "9914b548-8e66-4406-9154-ad15eb045e55",
   "metadata": {},
   "outputs": [],
   "source": [
    "lst = [0, 1, 2, 'a', 'b']\n",
    "lst"
   ]
  },
  {
   "cell_type": "code",
   "execution_count": null,
   "id": "fda07e64-5cb2-4365-968d-208daf016f58",
   "metadata": {},
   "outputs": [],
   "source": [
    "lst.append('c')\n",
    "lst"
   ]
  },
  {
   "cell_type": "code",
   "execution_count": null,
   "id": "ab666ded-3ad3-4105-8f67-b2a042d14eb1",
   "metadata": {},
   "outputs": [],
   "source": [
    "name = 'Rene'\n",
    "name.startswith('Re')"
   ]
  },
  {
   "cell_type": "markdown",
   "id": "e57a709d-28ce-41cd-81e4-b8fe30c3710e",
   "metadata": {},
   "source": [
    "## Problem\n",
    "Model a tank mass balance in Python."
   ]
  },
  {
   "cell_type": "markdown",
   "id": "dbc4437a-9f99-4940-b8a2-894113d4a97b",
   "metadata": {},
   "source": [
    "![SurgeTank](../images/surge_tank.png)"
   ]
  },
  {
   "cell_type": "code",
   "execution_count": null,
   "id": "2c28fecc-0c4a-47fb-a978-ef0ba10cd925",
   "metadata": {},
   "outputs": [],
   "source": [
    "class Stream:\n",
    "\n",
    "    def __init__(self, ID, water=0):\n",
    "        # Set self.ID, self.water\n",
    "        pass\n",
    "\n",
    "    def copy_like(self, other):\n",
    "        # Copy flow rate\n",
    "        pass\n",
    "\n",
    "    def __repr__(self): \n",
    "        return f\"Stream(ID={self.ID!r}, water={self.water})\"\n",
    "\n",
    "inlet = Stream(\n",
    "    ID='inlet', # Name for flowsheet\n",
    "    water=2, # Molar flow rate [kg /hr]\n",
    ")\n",
    "outlet = Stream(\n",
    "    ID='outlet', # Name for flowsheet\n",
    ")\n",
    "outlet.copy_like(inlet)\n",
    "assert inlet.water == outlet.water\n",
    "print(outlet)"
   ]
  },
  {
   "cell_type": "markdown",
   "id": "6ec6b2ad-f2b0-4461-8b79-fcf2e119e9e4",
   "metadata": {},
   "source": [
    "## BioSTEAM example\n",
    "Now model it in BioSTEAM."
   ]
  },
  {
   "cell_type": "code",
   "execution_count": null,
   "id": "92be6acf-04ad-4f15-92d5-14478c4a79bd",
   "metadata": {},
   "outputs": [],
   "source": [
    "import biosteam as bst\n",
    "bst.nbtutorial()\n",
    "bst.settings.set_thermo(['Water', 'Butanol'])\n",
    "inlet = bst.Stream('inlet', Water=2)\n",
    "outlet = bst.Stream('outlet')\n",
    "tank = bst.StorageTank('tank', ins=inlet, outs=outlet)\n",
    "tank.simulate()\n",
    "tank.diagram()"
   ]
  },
  {
   "cell_type": "code",
   "execution_count": null,
   "id": "361ed5ec-254d-4a20-ad57-85605f21f579",
   "metadata": {},
   "outputs": [],
   "source": [
    "tank.show()"
   ]
  },
  {
   "cell_type": "code",
   "execution_count": null,
   "id": "274d511a-fe15-4657-8a93-cf0b25d7300c",
   "metadata": {},
   "outputs": [],
   "source": [
    "tank.results()"
   ]
  },
  {
   "cell_type": "markdown",
   "id": "5ecacd23-682a-4193-8b9d-53fb47a10fd5",
   "metadata": {},
   "source": [
    "## Python data model\n",
    "We can define how objects **interact** through **magic methods**. Let's now define what happens when we \"add\" two streams. "
   ]
  },
  {
   "cell_type": "code",
   "execution_count": null,
   "id": "6b153a86-b4e9-4f19-9623-447a72263464",
   "metadata": {},
   "outputs": [],
   "source": [
    "class Stream:\n",
    "\n",
    "    def __init__(self, flow):\n",
    "        self.flow = flow\n",
    "\n",
    "    def __add__(self, other):\n",
    "        return Stream(self.flow + other.flow)\n",
    "\n",
    "    def __repr__(self):\n",
    "        return f\"Stream(water={self.flow})\"\n",
    "\n",
    "Stream(2) + Stream(3)"
   ]
  },
  {
   "cell_type": "markdown",
   "id": "5cb25a32-cb1d-4fb6-be2a-9c1c46c00288",
   "metadata": {},
   "source": [
    "## BioSTEAM Problem\n",
    "Try adding two streams together."
   ]
  },
  {
   "cell_type": "code",
   "execution_count": null,
   "id": "d8800cc8-22d4-4cdd-9aaf-c631add71dae",
   "metadata": {},
   "outputs": [],
   "source": [
    "import biosteam as bst\n",
    "bst.nbtutorial()\n",
    "bst.settings.set_thermo(['Water', 'Enzyme', 'Starch'])\n",
    "slurry = bst.Stream('slurry', Water=100, Starch=20, total_flow=100, units='kg/hr', T=350)\n",
    "enzyme = bst.Stream('enzyme', Enzyme=0.150, Water= 0.850, total_flow=0.01, units='kg/hr')\n",
    "mixed = None # Add water and enzyme\n",
    "mixed.show()"
   ]
  },
  {
   "cell_type": "markdown",
   "id": "cbf75de8-8528-4c3e-a10a-d63aec8b87c6",
   "metadata": {},
   "source": [
    "Try mixing these two streams with a mixer object:"
   ]
  },
  {
   "cell_type": "code",
   "execution_count": null,
   "id": "6749f237-60bf-4048-8860-0798ae06b3cf",
   "metadata": {},
   "outputs": [],
   "source": [
    "mixer = bst.Mixer(ins=[slurry, enzyme], outs='mixture')\n",
    "# simulate\n",
    "# diagram"
   ]
  },
  {
   "cell_type": "code",
   "execution_count": null,
   "id": "bf26fe8e-0b07-4301-a029-f472cb54cc7f",
   "metadata": {},
   "outputs": [],
   "source": []
  }
 ],
 "metadata": {
  "kernelspec": {
   "display_name": "Python 3 (ipykernel)",
   "language": "python",
   "name": "python3"
  },
  "language_info": {
   "codemirror_mode": {
    "name": "ipython",
    "version": 3
   },
   "file_extension": ".py",
   "mimetype": "text/x-python",
   "name": "python",
   "nbconvert_exporter": "python",
   "pygments_lexer": "ipython3",
   "version": "3.12.7"
  }
 },
 "nbformat": 4,
 "nbformat_minor": 5
}
