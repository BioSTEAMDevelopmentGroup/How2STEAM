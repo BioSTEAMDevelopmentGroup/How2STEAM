{
 "cells": [
  {
   "cell_type": "markdown",
   "id": "ef5af16a",
   "metadata": {},
   "source": [
    "# Life cycle assessment"
   ]
  },
  {
   "cell_type": "markdown",
   "id": "4be88dc1",
   "metadata": {},
   "source": [
    "For a sustainable bioeconomy, it is critical to assess the environmental impact of a production process. In this tutorial, we will conduct a cradle-to-biorefinery-gate LCA of a sugarcane biorefinery that produces electricity and ethanol. We focus on the global warning potential (GWP) because it is central to policy implementation.\n",
    "\n",
    "![sugarcane_biorefinery](sugarcane_light.png)"
   ]
  },
  {
   "cell_type": "markdown",
   "id": "55d03495-eab9-4b96-bb05-0f112caf3d90",
   "metadata": {},
   "source": [
    "## Example"
   ]
  },
  {
   "cell_type": "markdown",
   "id": "6e734ebd",
   "metadata": {},
   "source": [
    "A biorefinery system defines the life cycle inventory. Apart from the model itself, only the characterization factors for inputs and outputs are needed to perform LCA. These can be retrieved from standard public models like the Greenhouse Gases, Regulated Emissions, and Energy Use in Transportation (Argonne GREET Model). Here we load a sugarcane to ethanol biorefinery, define characterization factors from GREET, and perform LCA using energy based, revenue base, and displacement allocation methods (i.e. system expansion)."
   ]
  },
  {
   "cell_type": "markdown",
   "id": "a6552fc1",
   "metadata": {},
   "source": [
    "Define the impact indicator and the characterization factors:"
   ]
  },
  {
   "cell_type": "code",
   "execution_count": null,
   "id": "f7b4a80e",
   "metadata": {},
   "outputs": [],
   "source": [
    "### Load system\n",
    "import biosteam as bst\n",
    "from warnings import filterwarnings; filterwarnings('ignore') \n",
    "from biorefineries import cane\n",
    "sc = cane.Biorefinery('S1') # Sugarcane conventional ethanol\n",
    "system = sc.system\n",
    "\n",
    "### Set characterization factors on a per kg basis, as available in GREET 2020\n",
    "\n",
    "# Key for GWP characterization factor; we make it informative\n",
    "# but any value can work, even just a number.\n",
    "# Note that the impact assessment methodology used in GREET is the\n",
    "# Tool for the Reduction and Assessment of Chemical and other \n",
    "# Environmental Impacts (TRACI)\n",
    "GWP = 'GWP 100yr' \n",
    "bst.settings.define_impact_indicator(key=GWP, units='kg*CO2e')\n",
    "\n",
    "# Sugarcane for ethanol production, adjusted for moisture content (0.75 originally, 0.70 in the model).\n",
    "sc.sugarcane.set_CF(GWP, 0.02931 * 0.30 / 0.25, basis='kg', units='kg*CO2e') \n",
    "\n",
    "# Production of phosphoric acid from P2O5\n",
    "sc.H3PO4.set_CF(GWP, 1.) # Basis defaults to kg; units default to defined units\n",
    "\n",
    "# NG-Fired Simple-Cycle Gas Turbine CHP Plant, no transmission included\n",
    "bst.settings.set_electricity_CF(GWP, 0.36, basis='kWhr', units='kg*CO2e')\n",
    "\n",
    "# Lime production from lime stone, adjusted for dilution\n",
    "lime_dilution = 1 - sc.lime.get_mass_composition('Water')\n",
    "sc.lime.set_CF(GWP, 1.28 * lime_dilution)\n",
    "\n",
    "# Gasoline blendstock from Crude Oil for US Refineries\n",
    "sc.denaturant.set_CF(GWP, 0.84)\n",
    "\n",
    "# Assume all other feeds are negligible."
   ]
  },
  {
   "cell_type": "markdown",
   "id": "4b45cd58",
   "metadata": {},
   "source": [
    "Compute the GWP per kg of ethanol using displacement and energy allocation:"
   ]
  },
  {
   "cell_type": "code",
   "execution_count": null,
   "id": "4cb5b7e7",
   "metadata": {},
   "outputs": [],
   "source": [
    "# Displacement allocation [kg-CO2e / kg-ethanol]\n",
    "ethanol_production = system.get_mass_flow(sc.ethanol) \n",
    "GWP_ethanol_displacement_per_kg = system.get_net_impact(key=GWP, displace=True) / ethanol_production\n",
    "\n",
    "# Energy allocation by gasoline gallon equivalent (GGE)\n",
    "allocation_factors = system.get_property_allocation_factors(\n",
    "    name='energy', products={sc.ethanol}\n",
    ") # kg-CO2e / GGE\n",
    "\n",
    "GWP_total = system.get_net_impact(key=GWP, displace=False)\n",
    "\n",
    "GWP_ethanol_energy = (\n",
    "    GWP_total * allocation_factors['Advanced ethanol'] \n",
    ") # kg-CO2e / yr\n",
    "\n",
    "GWP_ethanol_energy_per_kg = GWP_ethanol / ethanol_production # kg-CO2e / kg sugarcane ethanol\n",
    "\n",
    "print(\n",
    "    \"Cradle to biorefinery gate GWP of sugarcane ethanol:\\n \"\n",
    "    f\"Displacement allocation: {GWP_ethanol_displacement_per_kg:.2f} [kg CO2e / kg]\\n \"\n",
    "    f\"Energy allocation: {GWP_ethanol_energy_per_kg:.2f} [kg CO2e / kg]\\n \"\n",
    ")"
   ]
  },
  {
   "cell_type": "markdown",
   "id": "518658db",
   "metadata": {},
   "source": [
    "Note that biogenic emissions do not contribute any GWP while that non-biogenic emissions associated to the bioreinfery do. In this example, all emissions are biogenic. The GWP computed here using energy allocation is very close to the value available in the [Ecoinvent life cycle inventory](https://ecoinvent.org/) (2020 database) for a modern autonomous sugarcane ethanol plant in Brazil (value not shown here to avoid proprietary issues)."
   ]
  },
  {
   "cell_type": "markdown",
   "id": "56642593",
   "metadata": {},
   "source": [
    "## Life cycle inventory and impact breakdown"
   ]
  },
  {
   "cell_type": "markdown",
   "id": "9a8e9776",
   "metadata": {},
   "source": [
    "A breakdown of the inventory and impacts comes in handy for inpecting values and verifying results. The `biosteam.report` module includes a few helpful functions for this:"
   ]
  },
  {
   "cell_type": "code",
   "execution_count": null,
   "id": "85290edd",
   "metadata": {
    "tags": [
     "nbval-ignore-output"
    ]
   },
   "outputs": [],
   "source": [
    "from biosteam import report\n",
    "report.lca_inventory_table(\n",
    "    systems=[system], \n",
    "    key=GWP,\n",
    "    items=[sc.ethanol], # For including products without characterization factors\n",
    ")"
   ]
  },
  {
   "cell_type": "code",
   "execution_count": null,
   "id": "1fe890ee",
   "metadata": {
    "tags": [
     "nbval-ignore-output"
    ]
   },
   "outputs": [],
   "source": [
    "report.lca_displacement_allocation_table(\n",
    "    systems=[system], \n",
    "    key=GWP,\n",
    "    items=[sc.ethanol], # For dividing yearly impact by ethanol production  \n",
    ")"
   ]
  },
  {
   "cell_type": "code",
   "execution_count": null,
   "id": "d588975f",
   "metadata": {
    "tags": [
     "nbval-ignore-output"
    ]
   },
   "outputs": [],
   "source": [
    "report.lca_property_allocation_factor_table(\n",
    "    systems=[system],\n",
    "    property='energy',\n",
    "    products=[sc.ethanol],\n",
    ")"
   ]
  },
  {
   "cell_type": "code",
   "execution_count": null,
   "id": "fc0728e0",
   "metadata": {
    "tags": [
     "nbval-ignore-output"
    ]
   },
   "outputs": [],
   "source": [
    "report.lca_displacement_allocation_factor_table(\n",
    "    systems=[system],\n",
    "    items=[sc.ethanol],\n",
    "    key=GWP,\n",
    ")"
   ]
  },
  {
   "cell_type": "markdown",
   "id": "157902db-7216-44c8-ab40-23a8cc71365d",
   "metadata": {},
   "source": [
    "## Problem\n",
    "Compute the GWP per kg of ethanol using revenue allocation:"
   ]
  },
  {
   "cell_type": "code",
   "execution_count": null,
   "id": "2fff400f-f83d-442b-88ad-e2b424604023",
   "metadata": {},
   "outputs": [],
   "source": [
    "# Hint: here is a list of allocation methods with units\n",
    "bst.settings.allocation_properties"
   ]
  },
  {
   "cell_type": "code",
   "execution_count": null,
   "id": "b5e19db2-f74f-4f8f-9206-084d9c335e9e",
   "metadata": {},
   "outputs": [],
   "source": [
    "# Economic/revenue allocation\n",
    "allocation_factors = system.get_property_allocation_factors(\n",
    "    name=None, products={sc.ethanol}\n",
    ") # kg-CO2e / GGE\n",
    "\n",
    "GWP_total = system.get_net_impact(key=GWP, displace=False) # kg-CO2e / yr\n",
    "\n",
    "GWP_ethanol_energy = (\n",
    "    None * allocation_factors['Advanced ethanol'] \n",
    ") # kg-CO2e / yr\n",
    "\n",
    "ethanol_production = system.get_mass_flow(sc.ethanol) # kg-ethanol / yr\n",
    "\n",
    "GWP_ethanol_energy_per_kg = None # kg-CO2e / kg sugarcane ethanol\n",
    "\n",
    "print(\n",
    "    \"Cradle to biorefinery gate GWP of sugarcane ethanol:\\n \"\n",
    "    f\"Revenue allocation: {GWP_ethanol_energy_per_kg:.2f} [kg CO2e / kg]\\n \"\n",
    ")"
   ]
  }
 ],
 "metadata": {
  "celltoolbar": "Tags",
  "kernelspec": {
   "display_name": "Python 3 (ipykernel)",
   "language": "python",
   "name": "python3"
  },
  "language_info": {
   "codemirror_mode": {
    "name": "ipython",
    "version": 3
   },
   "file_extension": ".py",
   "mimetype": "text/x-python",
   "name": "python",
   "nbconvert_exporter": "python",
   "pygments_lexer": "ipython3",
   "version": "3.12.7"
  }
 },
 "nbformat": 4,
 "nbformat_minor": 5
}
