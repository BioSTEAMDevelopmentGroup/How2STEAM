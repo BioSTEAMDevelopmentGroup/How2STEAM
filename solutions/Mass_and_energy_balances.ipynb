{
 "cells": [
  {
   "cell_type": "markdown",
   "id": "342bf332",
   "metadata": {},
   "source": [
    " # Mass and energy balances"
   ]
  },
  {
   "cell_type": "markdown",
   "id": "554cf3b4",
   "metadata": {},
   "source": [
    "Mass and energy balances are fundamental priciples for a chemical process. In this problem set, we will employ Stream objects to perform mass and energy balances for corn ethanol production at a conventional dry-grind plant.\n",
    "\n",
    "![conventional_dry_grind.png](../images/conventional_dry_grind.png)\n",
    "\n",
    "We will only model 4 steps:\n",
    "    \n",
    "    1. Mixing milled corn with water (32 % dry solids).\n",
    "       - Find the amount of dilution water required.\n",
    "       \n",
    "    2. Cooking (mix with superheated steam to 210 degC).\n",
    "       - Find the amount of steam required.\n",
    "       \n",
    "    3. Liquefaction (Starch + H2O -> Glucose at 87 degC).\n",
    "       - Find the duty from step 2 to 3\n",
    "       \n",
    "    4. Fermentation (Glucose -> 2Ethanol + 2CO2 at 32 degC; 90 % theoretical yield).\n",
    "       - Find the duty from step 3 to 4\n"
   ]
  },
  {
   "cell_type": "markdown",
   "id": "4a1198ea",
   "metadata": {},
   "source": [
    "Here are some assumptions you will need to use later:"
   ]
  },
  {
   "cell_type": "code",
   "execution_count": 1,
   "id": "e091cfee",
   "metadata": {},
   "outputs": [],
   "source": [
    "solids_content = 0.32\n",
    "T_cooking = 210 + 273.15 # K\n",
    "T_steam = T_cooking + 10 # K\n",
    "T_liquefaction = 87 + 273.15 # K\n",
    "T_fermentation = 32 + 273.15 # K\n",
    "liquefaction_yield = 1.0 # 100 %\n",
    "fermentation_yield = 0.9 # 90 %"
   ]
  },
  {
   "cell_type": "markdown",
   "id": "e381fdf6",
   "metadata": {},
   "source": [
    "First, we need to define the chemicals. Let's assume the corn kernel is composed of starch (62%), fiber (19%), water (15%), and oil (4%). Model the missing components, streams, and reactions in the code:"
   ]
  },
  {
   "cell_type": "code",
   "execution_count": 2,
   "id": "14bed50e",
   "metadata": {},
   "outputs": [],
   "source": [
    "import biosteam as bst\n",
    "bst.nbtutorial()\n",
    "\n",
    "## Define chemicals ##\n",
    "\n",
    "Water = bst.Chemical('Water') # Hint: bst.Chemical will load any chemical by name\n",
    "Oil = bst.Chemical('Oil', search_ID='Tripalmitin', phase='l')\n",
    "Starch = bst.Chemical(\n",
    "    'Starch',\n",
    "    search_db=False, # Do not search database\n",
    "    phase='s', # Phase will not change even if stream is liquid\n",
    "    formula=\"C6H10O5\", # Glucose monomer minus water\n",
    "    Cp=1.364, # Heat capacity [J / g / K]\n",
    "    Hf=-975709, # Heat of formation [J / mol]\n",
    "    default=True, # Default the rest\n",
    ")\n",
    "Fiber = Starch.copy('Fiber') # Hint: Define fiber with the same asssumptions as starch\n",
    "Glucose = bst.Chemical('Glucose', phase='s')\n",
    "bst.settings.set_thermo([Water, Starch, Fiber, Oil, Glucose, 'Ethanol', 'CO2'])\n",
    "\n",
    "## Create streams ##\n",
    "\n",
    "steam = bst.Stream(\n",
    "    phase='g', T=508.99, P=3.11e+06,\n",
    "    Water=1, units='kmol/hr'\n",
    ")\n",
    "dilution_water = bst.Stream() # Hint: Create an empty stream, the flow rate will be adjusted later.\n",
    "corn = bst.Stream(\n",
    "    Starch=62,\n",
    "    Fiber=19,\n",
    "    Water=15,\n",
    "    Oil=4,\n",
    "    units='kg/hr'\n",
    ") # Hint: Use units='kg/hr'\n",
    "\n",
    "## Create reactions ##\n",
    "\n",
    "liquefaction = bst.Reaction(\n",
    "    'Starch + Water -> Glucose', reactant='Starch', X=liquefaction_yield\n",
    ")\n",
    "fermentation = bst.Reaction(\n",
    "    'Glucose -> 2Ethanol + 2CO2', reactant='Glucose', X=fermentation_yield\n",
    ") # Hint: Follow example above"
   ]
  },
  {
   "cell_type": "markdown",
   "id": "8a3a05bc",
   "metadata": {},
   "source": [
    "Finally we can perform the mass and energy balances for this problem:"
   ]
  },
  {
   "cell_type": "markdown",
   "id": "f9354100",
   "metadata": {},
   "source": [
    "**Step 1: Mixing mass balance**\n",
    "\n",
    "$$ F_{water} = \\frac{1 - x_{solids}}{x_{solids}} F_{solids} $$\n",
    "$$ F_{water} = F_{moisture} + F_{dilution\\ water} $$"
   ]
  },
  {
   "cell_type": "code",
   "execution_count": 3,
   "id": "1efecc0d",
   "metadata": {},
   "outputs": [],
   "source": [
    "import numpy as np\n",
    "from numpy.testing import assert_allclose\n",
    "\n",
    "# Step 1: Mixing mass balance\n",
    "F_moisture = corn.imass['Water']\n",
    "F_solids = (corn.F_mass - F_moisture) \n",
    "dilution_water.imass['Water'] = (\n",
    "    F_solids * (1 - solids_content) / solids_content - F_moisture\n",
    ") # Hint: Use `solids_content` and `solids`\n",
    "slurry = corn + dilution_water\n",
    "assert_allclose(slurry.get_mass_fraction('Water'), 1 - solids_content)"
   ]
  },
  {
   "cell_type": "markdown",
   "id": "ee5edee9",
   "metadata": {},
   "source": [
    "**Step 2: Cooking energy balance**\n",
    "\n",
    "$$ H - \\text{Enthalpy flow}\\ [kJ \\cdot hr^{-1}] $$\n",
    "$$ h - \\text{Specific enthalpy}\\ [kJ \\cdot kmol^{-1}] $$\n",
    "\n",
    "$$ H_{slurry}(T_{slurry}) + h_{steam}(T_{steam}) F_{steam} = H_{slurry}(T_{cooking}) + h_{water}(T_{cooking}) F_{steam} $$\n",
    "\n",
    "$$ F_{steam} = \\frac{H_{slurry}(T_{slurry}) - H_{slurry}(T_{cooking})}{h_{water}(T_{cooking}) - h_{steam}(T_{steam})} $$"
   ]
  },
  {
   "cell_type": "code",
   "execution_count": 4,
   "id": "258e36d7",
   "metadata": {},
   "outputs": [],
   "source": [
    "water = steam.copy()\n",
    "water.phase = 'l'\n",
    "hot_slurry = slurry.copy()\n",
    "hot_slurry.T = water.T = T_cooking\n",
    "hot_slurry.P = water.P # No back flow\n",
    "steam.imol['Water'] = (slurry.H - hot_slurry.H) / (water.h - steam.h) \n",
    "cooked_slurry = slurry + steam\n",
    "assert_allclose(cooked_slurry.T, T_cooking)"
   ]
  },
  {
   "cell_type": "markdown",
   "id": "7444b70b",
   "metadata": {},
   "source": [
    "**Step 3: Liquefaction reaction**\n",
    "\n",
    "$$ Starch + Water \\rightarrow Glucose $$"
   ]
  },
  {
   "cell_type": "code",
   "execution_count": 5,
   "id": "d9212486",
   "metadata": {},
   "outputs": [],
   "source": [
    "liquified_slurry = cooked_slurry.copy()\n",
    "liquified_slurry.T = T_liquefaction\n",
    "liquefaction(liquified_slurry) # Reaction alters stream flow rates isothermally\n",
    "assert_allclose(liquified_slurry.imol['Glucose'], cooked_slurry.imol['Starch'])"
   ]
  },
  {
   "cell_type": "markdown",
   "id": "a157cce7",
   "metadata": {},
   "source": [
    "**Step 4: Fermentation reaction**\n",
    "\n",
    "$$ Glucose \\rightarrow 2Ethanol + 2CO_2 $$"
   ]
  },
  {
   "cell_type": "code",
   "execution_count": 6,
   "id": "6edb8c66",
   "metadata": {
    "tags": [
     "nbval-ignore-output"
    ]
   },
   "outputs": [],
   "source": [
    "fermentation_broth = liquified_slurry.copy()\n",
    "fermentation(fermentation_broth) # Reaction alters stream flow rates isothermally\n",
    "assert_allclose(fermentation_broth.imol['Ethanol'], 2 * fermentation_yield * liquified_slurry.imol['Glucose'])\n",
    "fermentation_broth.vle(T=T_fermentation, P=101325)"
   ]
  },
  {
   "cell_type": "markdown",
   "id": "67096b6f",
   "metadata": {},
   "source": [
    "Let's compute our answers:"
   ]
  },
  {
   "cell_type": "code",
   "execution_count": 7,
   "id": "08e18f9e",
   "metadata": {
    "tags": [
     "nbval-ignore-output"
    ]
   },
   "outputs": [
    {
     "name": "stdout",
     "output_type": "stream",
     "text": [
      "Amount of dilution water required: 1.66 kg\n",
      "Amount of steam required: 0.809 kg\n",
      "Duty from step 2 to 3: -1.55e+03 kJ\n",
      "Duty from step 3 to 4: -655 kJ\n"
     ]
    }
   ],
   "source": [
    "print(f'Amount of dilution water required: {dilution_water.F_mass / corn.F_mass:.3g} kg')\n",
    "print(f'Amount of steam required: {steam.F_mass / corn.F_mass:.3g} kg')\n",
    "print(f'Duty from step 2 to 3: {(liquified_slurry.H - cooked_slurry.H) / corn.F_mass:.3g} kJ')\n",
    "print(f'Duty from step 3 to 4: {(fermentation_broth.H - liquified_slurry.H) / corn.F_mass: .3g} kJ')"
   ]
  }
 ],
 "metadata": {
  "celltoolbar": "Tags",
  "kernelspec": {
   "display_name": "Python 3 (ipykernel)",
   "language": "python",
   "name": "python3"
  },
  "language_info": {
   "codemirror_mode": {
    "name": "ipython",
    "version": 3
   },
   "file_extension": ".py",
   "mimetype": "text/x-python",
   "name": "python",
   "nbconvert_exporter": "python",
   "pygments_lexer": "ipython3",
   "version": "3.12.7"
  }
 },
 "nbformat": 4,
 "nbformat_minor": 5
}
