{
 "cells": [
  {
   "cell_type": "markdown",
   "id": "b97d8613-a87c-40df-8169-0e602fa94ea0",
   "metadata": {},
   "source": [
    "# Carbon-negative oleochemical production through green hydrogen\n"
   ]
  },
  {
   "cell_type": "markdown",
   "id": "5e5e934a-e377-4db3-9fdd-76d8bdd70550",
   "metadata": {},
   "source": [
    "![flowsheet](H2_CO2_to_oleochemicals.svg)"
   ]
  },
  {
   "cell_type": "markdown",
   "id": "c36eb61b-5479-43fa-bc9c-87ad0ecb47aa",
   "metadata": {},
   "source": [
    "The open-source biorefineries library includes over 20 biorefinery configurations. These are packaged as ProcessModel or Biorefinery objects, from which you can access every component of the model. "
   ]
  },
  {
   "cell_type": "code",
   "execution_count": null,
   "id": "d528c0f7-2b1d-4200-9a24-e8745da0ea12",
   "metadata": {},
   "outputs": [],
   "source": [
    "import biosteam as bst\n",
    "from biorefineries.gas_fermentation import Biorefinery\n",
    "bst.nbtutorial()\n",
    "br = Biorefinery()\n",
    "br"
   ]
  },
  {
   "cell_type": "markdown",
   "id": "d51e4e5f-c201-416a-ba45-db933faf4d65",
   "metadata": {},
   "source": [
    "Let's have a look at the diagram."
   ]
  },
  {
   "cell_type": "code",
   "execution_count": null,
   "id": "5070b801-f50f-47a2-9d49-404aa2c1a9fd",
   "metadata": {},
   "outputs": [],
   "source": [
    "br.system.show()"
   ]
  },
  {
   "cell_type": "code",
   "execution_count": null,
   "id": "8064b897-67af-40ea-a298-e96778b08e5c",
   "metadata": {},
   "outputs": [],
   "source": [
    "br.system.diagram(format='png', kind='cluster', number=True, facilities=False)"
   ]
  },
  {
   "cell_type": "markdown",
   "id": "f05f25f8-d260-4ae7-9d86-92216dbec1b8",
   "metadata": {},
   "source": [
    "Every unit operation and stream are available as attributes in the model:"
   ]
  },
  {
   "cell_type": "code",
   "execution_count": null,
   "id": "8b8778af-d464-44ad-8504-1d9ba31ffc77",
   "metadata": {},
   "outputs": [],
   "source": [
    "br.oleochemical_production.show()"
   ]
  },
  {
   "cell_type": "code",
   "execution_count": null,
   "id": "9d95d055-735f-4e63-ad8c-23a6cb1e6b56",
   "metadata": {},
   "outputs": [],
   "source": [
    "br.oleochemical_production.results(include_installed_cost=True, basis='SI')"
   ]
  },
  {
   "cell_type": "markdown",
   "id": "a2c2d93b-b3d0-439b-9931-99c754029ea3",
   "metadata": {},
   "source": [
    "The process model streamlines simulation, TEA, and LCA through parameters you can modify and system-wide metrics you can compute."
   ]
  },
  {
   "cell_type": "code",
   "execution_count": null,
   "id": "d60b3d3a-82bc-4ed2-8f04-e633aa6d2127",
   "metadata": {},
   "outputs": [],
   "source": [
    "br.model"
   ]
  },
  {
   "cell_type": "code",
   "execution_count": null,
   "id": "1c352e01-cd26-4faf-853f-b672c4255d24",
   "metadata": {},
   "outputs": [],
   "source": [
    "assumptions, outcomes = br.baseline()\n",
    "assumptions"
   ]
  },
  {
   "cell_type": "code",
   "execution_count": null,
   "id": "becf0916-c3f1-4c29-9f29-a912d15f0821",
   "metadata": {},
   "outputs": [],
   "source": [
    "outcomes"
   ]
  },
  {
   "cell_type": "markdown",
   "id": "45dc584d-5ebc-49ca-ba3c-3fa019626168",
   "metadata": {},
   "source": [
    "Get more detailed TEA information from the TEA object."
   ]
  },
  {
   "cell_type": "code",
   "execution_count": null,
   "id": "ae83ebde-5cbd-401c-b932-c0f43f9734e3",
   "metadata": {},
   "outputs": [],
   "source": [
    "br.tea.CAPEX_table() # Capital expenditures"
   ]
  },
  {
   "cell_type": "code",
   "execution_count": null,
   "id": "d53610f6-ddf8-450c-a809-ce446fc77c8a",
   "metadata": {},
   "outputs": [],
   "source": [
    "br.tea.VOC_table(br.product) # Variable operating costs"
   ]
  },
  {
   "cell_type": "code",
   "execution_count": null,
   "id": "491fc76f-594e-40f7-88de-2edffa9d06b1",
   "metadata": {},
   "outputs": [],
   "source": [
    "br.tea.FOC_table() # Fixed operating costs"
   ]
  },
  {
   "cell_type": "markdown",
   "id": "94b109a1-6af7-442d-8b39-053d9ae29b8a",
   "metadata": {},
   "source": [
    "Get more detailed LCA information from the system object."
   ]
  },
  {
   "cell_type": "code",
   "execution_count": null,
   "id": "15808ef9-5e05-4200-804f-6276d2392c1d",
   "metadata": {},
   "outputs": [],
   "source": [
    "br.system.displacement_allocation_table('GWP', br.product)"
   ]
  }
 ],
 "metadata": {
  "kernelspec": {
   "display_name": "Python 3 (ipykernel)",
   "language": "python",
   "name": "python3"
  },
  "language_info": {
   "codemirror_mode": {
    "name": "ipython",
    "version": 3
   },
   "file_extension": ".py",
   "mimetype": "text/x-python",
   "name": "python",
   "nbconvert_exporter": "python",
   "pygments_lexer": "ipython3",
   "version": "3.12.7"
  }
 },
 "nbformat": 4,
 "nbformat_minor": 5
}
