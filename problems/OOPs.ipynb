{
 "cells": [
  {
   "cell_type": "markdown",
   "id": "8dd1099e-00d4-432f-9a06-7afd8af6f106",
   "metadata": {},
   "source": [
    "# Object-oriented programing"
   ]
  },
  {
   "cell_type": "markdown",
   "id": "f4c07aa5-d746-48b0-b38c-4eede846a2c6",
   "metadata": {},
   "source": [
    "**Object-oriented programing** abstracts data (**attributes**) with algorithms (**methods**). "
   ]
  },
  {
   "cell_type": "markdown",
   "id": "4d844cd1-3f67-4d7e-8a45-6d45b2cd4f65",
   "metadata": {},
   "source": [
    "![DoggyWoggy](../images/doggywoggy.jpg)"
   ]
  },
  {
   "cell_type": "code",
   "execution_count": null,
   "id": "861efcc0-3adb-46ad-aa9e-ec3fa73de130",
   "metadata": {},
   "outputs": [],
   "source": [
    "class DoggyWoggy:\n",
    "\n",
    "    # Magic method - Initialization\n",
    "    def __init__(self, name, age):\n",
    "        # Set attributes\n",
    "        self.name = name # Dog's name\n",
    "        self.age = age # Years\n",
    "\n",
    "    # Method\n",
    "    def happy_birthday(self):\n",
    "        self.age = self.age + 1\n",
    "\n",
    "    def bark(self):\n",
    "        print('woof woof!')\n",
    "\n",
    "    # Magic method - Representation\n",
    "    def __repr__(self): \n",
    "        return f\"DoggyWoggy(name={self.name!r}, age={self.age})\"\n",
    "\n",
    "doggy = DoggyWoggy(\n",
    "    name='Rene', \n",
    "    age=2 \n",
    ")\n",
    "print(doggy)"
   ]
  },
  {
   "cell_type": "code",
   "execution_count": null,
   "id": "9f72cb42-1aa2-447c-9dd7-2497b0e219b8",
   "metadata": {},
   "outputs": [],
   "source": [
    "doggy.happy_birthday()"
   ]
  },
  {
   "cell_type": "code",
   "execution_count": null,
   "id": "4dd77953-0ddf-44f1-a71b-ca91791d9412",
   "metadata": {},
   "outputs": [],
   "source": [
    "print(doggy)"
   ]
  },
  {
   "cell_type": "code",
   "execution_count": null,
   "id": "8d63cc1b-baf2-4afe-8791-2cd3bd93fe8f",
   "metadata": {},
   "outputs": [],
   "source": [
    "doggy.bark()"
   ]
  },
  {
   "cell_type": "markdown",
   "id": "e57a709d-28ce-41cd-81e4-b8fe30c3710e",
   "metadata": {},
   "source": [
    "## Problem\n",
    "Model a surge tank mass balance in Python."
   ]
  },
  {
   "cell_type": "markdown",
   "id": "dbc4437a-9f99-4940-b8a2-894113d4a97b",
   "metadata": {},
   "source": [
    "![SurgeTank](../images/surge_tank.png)"
   ]
  },
  {
   "cell_type": "code",
   "execution_count": null,
   "id": "2c28fecc-0c4a-47fb-a978-ef0ba10cd925",
   "metadata": {},
   "outputs": [],
   "source": [
    "class Stream:\n",
    "\n",
    "    def __init__(self, ID, water):\n",
    "        pass\n",
    "\n",
    "    def copy_like(self, other):\n",
    "        pass # Copy flow rate\n",
    "\n",
    "inlet = Stream(\n",
    "    ID='inlet', # Name for flowsheet\n",
    "    water=2, # Molar flow rate [kg /hr]\n",
    ")\n",
    "outlet = Stream(\n",
    "    ID='outlet', # Name for flowsheet\n",
    ")\n",
    "outlet.copy(inlet)\n",
    "assert inlet.water == outlet.water"
   ]
  },
  {
   "cell_type": "markdown",
   "id": "0eb8e580-a1d7-4c31-8955-1b5f4b98608a",
   "metadata": {},
   "source": [
    "Now model it in BioSTEAM."
   ]
  },
  {
   "cell_type": "code",
   "execution_count": null,
   "id": "92be6acf-04ad-4f15-92d5-14478c4a79bd",
   "metadata": {},
   "outputs": [],
   "source": [
    "import biosteam as bst\n",
    "bst.nbtutorial()\n",
    "bst.settings.set_thermo(['Water'])\n",
    "inlet = bst.Stream('inlet', Water=2)\n",
    "outlet = bst.Stream('outlet')\n",
    "tank =bst.StorageTank('tank', ins=inlet, outs=outlet)\n",
    "tank.simulate()\n",
    "tank.diagram()"
   ]
  },
  {
   "cell_type": "code",
   "execution_count": null,
   "id": "361ed5ec-254d-4a20-ad57-85605f21f579",
   "metadata": {},
   "outputs": [],
   "source": []
  }
 ],
 "metadata": {
  "kernelspec": {
   "display_name": "Python 3 (ipykernel)",
   "language": "python",
   "name": "python3"
  },
  "language_info": {
   "codemirror_mode": {
    "name": "ipython",
    "version": 3
   },
   "file_extension": ".py",
   "mimetype": "text/x-python",
   "name": "python",
   "nbconvert_exporter": "python",
   "pygments_lexer": "ipython3",
   "version": "3.12.7"
  }
 },
 "nbformat": 4,
 "nbformat_minor": 5
}
