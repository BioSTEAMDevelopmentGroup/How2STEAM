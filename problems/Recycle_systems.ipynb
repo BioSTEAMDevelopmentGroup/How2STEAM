{
 "cells": [
  {
   "cell_type": "markdown",
   "id": "cd1354cf",
   "metadata": {},
   "source": [
    "# Recycle systems\n",
    "\n",
    "## Example"
   ]
  },
  {
   "cell_type": "markdown",
   "id": "3733f555-fed0-41a3-b3f5-bed984447c21",
   "metadata": {},
   "source": [
    "![BuOH_separation](../images/BuOH_separation.png)"
   ]
  },
  {
   "cell_type": "markdown",
   "id": "f55fccf5",
   "metadata": {},
   "source": [
    "Recycle systems in BioSTEAM are solved through accelerated fixed-point iteration (just like in Aspen Plus and SuperPro). Let's create an industry-relevant system for the purification of butanol from fermentation broth in 2 steps:\n",
    "\n",
    "1. Create and solve the network of unit operations. \n",
    "\n",
    "2. Visualize the recycle system.\n"
   ]
  },
  {
   "cell_type": "markdown",
   "id": "3d1c2593",
   "metadata": {},
   "source": [
    "**Step 1: Build the system**"
   ]
  },
  {
   "cell_type": "code",
   "execution_count": null,
   "id": "d3c196c6-2b29-400a-8e98-5ab4ab4b145e",
   "metadata": {},
   "outputs": [],
   "source": [
    "import biosteam as bst\n",
    "bst.nbtutorial()\n",
    "bst.settings.set_thermo(['Water', 'Butanol'], cache=True)\n",
    "with bst.System() as sys:\n",
    "    feed = bst.Stream(\n",
    "        'feed', \n",
    "        phase='l', \n",
    "        Water=900,\n",
    "        Butanol=100,\n",
    "        units='kmol/hr',\n",
    "    )\n",
    "    water_rich = bst.Stream('water_rich')\n",
    "    distillate_0 = bst.Stream('distillate_0')\n",
    "    distillate_1 = bst.Stream('distillate_1')\n",
    "    \n",
    "    # Dewater\n",
    "    water_distiller = bst.BinaryDistillation(\n",
    "        ins=(feed, water_rich), outs=(distillate_0, 'water'),\n",
    "        x_bot=0.0001, y_top=0.2, k=1.2, Rmin=0.01,\n",
    "        LHK=('Butanol', 'Water'),\n",
    "        partial_condenser=False,\n",
    "    )\n",
    "    \n",
    "    # Decanter\n",
    "    mixer = bst.Mixer('mixer', ins=(distillate_0, distillate_1))\n",
    "    settler = bst.StageEquilibrium(\n",
    "        'settler',\n",
    "        ins=mixer-0, \n",
    "        outs=('butanol_rich', water_rich),\n",
    "        phases=('L', 'l'),\n",
    "        top_chemical='Butanol',\n",
    "        T=310,\n",
    "    )\n",
    "    \n",
    "    # Butanol purification\n",
    "    butanol_distiller = bst.BinaryDistillation(\n",
    "        ins=settler-0,\n",
    "        outs=(distillate_1, 'butanol'),\n",
    "        x_bot=0.0001, y_top=0.6, \n",
    "        k=1.2, Rmin=0.01,\n",
    "        LHK=('Water', 'Butanol'),\n",
    "        partial_condenser=False,\n",
    "    )\n",
    "sys.simulate()\n",
    "sys.show()"
   ]
  },
  {
   "cell_type": "markdown",
   "id": "7e5451f9",
   "metadata": {},
   "source": [
    "**Step 2: Visualize the system**"
   ]
  },
  {
   "cell_type": "markdown",
   "id": "cbf831ca",
   "metadata": {},
   "source": [
    "Pass `number=True` to label the simulation order in the diagram:"
   ]
  },
  {
   "cell_type": "code",
   "execution_count": null,
   "id": "8cb76193",
   "metadata": {
    "tags": [
     "nbval-ignore-output"
    ]
   },
   "outputs": [],
   "source": [
    "sys.diagram(number=True, format='svg')"
   ]
  },
  {
   "cell_type": "markdown",
   "id": "53e616ae",
   "metadata": {},
   "source": [
    "This topography shows a flat system without explicit recycle loops. To view the nested system, pass `kind='cluster'`:"
   ]
  },
  {
   "cell_type": "code",
   "execution_count": null,
   "id": "7265d4e9",
   "metadata": {
    "tags": [
     "nbval-ignore-output"
    ]
   },
   "outputs": [],
   "source": [
    "sys.diagram(number=True, kind='cluster', format='svg')"
   ]
  },
  {
   "cell_type": "markdown",
   "id": "9b9f11d9",
   "metadata": {},
   "source": [
    "Some unit operations are composed of multiple unit operations that are solved internally with specialized algorithms. To view the first layer of these auxiliary units, pass `auxiliaries=1`:"
   ]
  },
  {
   "cell_type": "code",
   "execution_count": null,
   "id": "45f25579",
   "metadata": {
    "tags": [
     "nbval-ignore-output"
    ]
   },
   "outputs": [],
   "source": [
    "sys.diagram(auxiliaries=1, format='svg')"
   ]
  },
  {
   "cell_type": "markdown",
   "id": "0b0701df-f2e4-4126-8e17-1ef571c0c0d1",
   "metadata": {},
   "source": [
    "## Problem"
   ]
  },
  {
   "cell_type": "markdown",
   "id": "95c8775b-b35a-4e0f-bafc-a1c34cb0c5bd",
   "metadata": {},
   "source": [
    "As an excericise, let's look model a common configuration for distillation with heat integration. We will create and analyse a beer column with heat integration for the separation of ethanol from fermentation broth. \n",
    "\n",
    "**Instructions:** Replace all `None`s with the correct values."
   ]
  },
  {
   "cell_type": "code",
   "execution_count": null,
   "id": "22f04aee",
   "metadata": {
    "tags": [
     "nbval-ignore-output"
    ]
   },
   "outputs": [],
   "source": [
    "import biosteam as bst\n",
    "bst.nbtutorial()\n",
    "bst.settings.set_thermo(['Water', 'Ethanol'])\n",
    "with bst.System() as sys:\n",
    "    feed = bst.Stream(\n",
    "        'feed',\n",
    "        Ethanol=12,\n",
    "        Water=88,\n",
    "        total_flow=1.5e5,\n",
    "        units='kg/hr',\n",
    "    )\n",
    "    pump = bst.Pump(ins=None, P=6 * 101325)\n",
    "    recycle = bst.Stream('recycle')\n",
    "    heat_exchanger = bst.HXprocess(\n",
    "        ins=(None, None), \n",
    "        outs=('hot_feed', 'cooled_bottoms_product'),\n",
    "    )\n",
    "    beer_column = bst.BinaryDistillation(# ShortcutColumn for 3+ components\n",
    "        ins=None,\n",
    "        outs=('distillate', 'bottoms_product'), \n",
    "        LHK=('Ethanol', 'Water'), # Light and heavy key\n",
    "        P=2.1 * 101325, # Operating pressure [Pa]\n",
    "        y_top=0.35, # Distillate light-key fraction\n",
    "        x_bot=1e-5, # Bottoms heavy-key fraction\n",
    "        k=1.1, # Actual reflux over minimum reflux ratio\n",
    "    )\n",
    "    pump = bst.Pump(\n",
    "        ins=None, \n",
    "        outs=None, # Outlet goes to heat exchanger\n",
    "        P=4 * 101325\n",
    "    )\n",
    "sys.simulate()\n",
    "sys.show()"
   ]
  },
  {
   "cell_type": "code",
   "execution_count": null,
   "id": "13bee1e5-e178-48c0-9c4b-c2c9249aa4a8",
   "metadata": {},
   "outputs": [],
   "source": [
    "sys.diagram(number=True, kind='cluster', format='svg')"
   ]
  }
 ],
 "metadata": {
  "celltoolbar": "Tags",
  "kernelspec": {
   "display_name": "Python 3 (ipykernel)",
   "language": "python",
   "name": "python3"
  },
  "language_info": {
   "codemirror_mode": {
    "name": "ipython",
    "version": 3
   },
   "file_extension": ".py",
   "mimetype": "text/x-python",
   "name": "python",
   "nbconvert_exporter": "python",
   "pygments_lexer": "ipython3",
   "version": "3.12.7"
  }
 },
 "nbformat": 4,
 "nbformat_minor": 5
}
