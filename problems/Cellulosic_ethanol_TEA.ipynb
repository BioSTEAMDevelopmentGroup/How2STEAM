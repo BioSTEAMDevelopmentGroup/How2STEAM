{
 "cells": [
  {
   "cell_type": "markdown",
   "id": "e1f24f0b-5cf7-470f-af06-4c59f7dfaeef",
   "metadata": {},
   "source": [
    "# Cellulosic Ethanol TEA"
   ]
  },
  {
   "cell_type": "markdown",
   "id": "5d7f165d-31c9-4767-ba29-44443b929a42",
   "metadata": {},
   "source": [
    "TEA objects can perform cashflow analysis by using data from a System object. Additional arguments include operating days, lang factor, and income tax, as well as arguments for taking into account startup operation, construction schedule, and capital cost financing. Let's leverage the cellulosic ethanol TEA to retrive detailed TEA results."
   ]
  },
  {
   "cell_type": "code",
   "execution_count": null,
   "id": "f596200f-af68-4aa1-8957-0e186faa58a4",
   "metadata": {},
   "outputs": [],
   "source": [
    "import biosteam as bst\n",
    "from biorefineries import cellulosic\n",
    "bst.nbtutorial()\n",
    "cornstover_br = cellulosic.Biorefinery()\n",
    "cornstover_br.system.diagram(format='png', facilities=False)"
   ]
  },
  {
   "cell_type": "code",
   "execution_count": null,
   "id": "f6b564ed-9bb7-49f5-93e9-bee28a03ec7b",
   "metadata": {},
   "outputs": [],
   "source": [
    "cornstover_br.tea"
   ]
  },
  {
   "cell_type": "code",
   "execution_count": null,
   "id": "f769b9d0-179a-44fa-aaad-807b5eb82ea4",
   "metadata": {},
   "outputs": [],
   "source": [
    "cornstover_br.tea.VOC_table(products=[cornstover_br.ethanol])"
   ]
  },
  {
   "cell_type": "code",
   "execution_count": null,
   "id": "1614b1ba-7627-4df5-9322-33f38ae5bd73",
   "metadata": {},
   "outputs": [],
   "source": [
    "cornstover_br.tea.FOC_table()"
   ]
  },
  {
   "cell_type": "code",
   "execution_count": null,
   "id": "b28b741f-684c-4e74-a3f7-b9df81275680",
   "metadata": {},
   "outputs": [],
   "source": [
    "cornstover_br.tea.CAPEX_table()"
   ]
  },
  {
   "cell_type": "code",
   "execution_count": null,
   "id": "d7005b08-f78d-4dfb-bdfb-17a53e3cf899",
   "metadata": {},
   "outputs": [],
   "source": [
    "cornstover_br.tea.get_cashflow_table()"
   ]
  },
  {
   "cell_type": "markdown",
   "id": "98d1cac4-7468-4cd1-9d55-17292ba0c7f7",
   "metadata": {},
   "source": [
    "### Example\n",
    "Solve for the IRR at an ethanol price for 0.7"
   ]
  },
  {
   "cell_type": "code",
   "execution_count": null,
   "id": "cfb77218-2403-449e-8cde-baf2a940247b",
   "metadata": {},
   "outputs": [],
   "source": [
    "cornstover_br.ethanol.price = 0.7\n",
    "IRR = cornstover_br.tea.solve_IRR()\n",
    "IRR"
   ]
  },
  {
   "cell_type": "markdown",
   "id": "f2042969-3ad7-49f8-8eb4-f112ac094b51",
   "metadata": {},
   "source": [
    "Solve for the ethanol price at an IRR of 10%"
   ]
  },
  {
   "cell_type": "code",
   "execution_count": null,
   "id": "6f30bdd3-e7b6-4601-b0f7-37bc27943e70",
   "metadata": {},
   "outputs": [],
   "source": [
    "cornstover_br.tea.IRR = 0.10\n",
    "cornstover_br.tea.solve_price(cornstover_br.ethanol)"
   ]
  },
  {
   "cell_type": "markdown",
   "id": "c5fdae00-b1c4-439e-ad18-5b1f1441c173",
   "metadata": {},
   "source": [
    "### Problem\n",
    "Solve for the IRR at an ethanol price of 80 cents per kg."
   ]
  },
  {
   "cell_type": "code",
   "execution_count": null,
   "id": "28c1717c-2cec-41c3-b501-2845f96770a4",
   "metadata": {},
   "outputs": [],
   "source": [
    "pass"
   ]
  },
  {
   "cell_type": "markdown",
   "id": "07ae7ee7-1cdf-4956-adf7-84caeeb51efb",
   "metadata": {},
   "source": [
    "Solve for the ethanol price at an IRR of 5%."
   ]
  },
  {
   "cell_type": "code",
   "execution_count": null,
   "id": "c0149f83-e2b5-4e4c-a12e-d5028754ef38",
   "metadata": {},
   "outputs": [],
   "source": [
    "pass"
   ]
  }
 ],
 "metadata": {
  "kernelspec": {
   "display_name": "Python 3 (ipykernel)",
   "language": "python",
   "name": "python3"
  },
  "language_info": {
   "codemirror_mode": {
    "name": "ipython",
    "version": 3
   },
   "file_extension": ".py",
   "mimetype": "text/x-python",
   "name": "python",
   "nbconvert_exporter": "python",
   "pygments_lexer": "ipython3",
   "version": "3.12.7"
  }
 },
 "nbformat": 4,
 "nbformat_minor": 5
}
