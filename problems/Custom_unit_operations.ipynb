{
 "cells": [
  {
   "cell_type": "markdown",
   "id": "097aa32c",
   "metadata": {},
   "source": [
    "# Custom unit operations"
   ]
  },
  {
   "cell_type": "markdown",
   "id": "447dbd20",
   "metadata": {},
   "source": [
    "New and emerging processing technologies often require custom tailored unit operations. In this problem set, we will leverage BioSTEAM's extendable framework to model fermentation for ethanol production. Mainly, we will:\n",
    "\n",
    "1. Inherit design and costing algorithms from the abstract StirredTankReactor class and specify the mass and energy balance.\n",
    "2. Test our results."
   ]
  },
  {
   "cell_type": "markdown",
   "id": "8137fc22",
   "metadata": {},
   "source": [
    "**Step 1: Inherit from the StirredTankReactor class**\n",
    "\n",
    "* Two outlets: vent, broth\n",
    "\n",
    "* Operating temperature and pressure: 32 degC and 1 atm.\n",
    "\n",
    "* Reaction time: 60 hr.\n",
    "\n",
    "* Ethanol yield: 90 % theoretical.\n",
    "\n",
    "* Cell growth: 70 % of remaining glucose by weight.\n"
   ]
  },
  {
   "cell_type": "code",
   "execution_count": null,
   "id": "c788d428",
   "metadata": {},
   "outputs": [],
   "source": [
    "import biosteam as bst\n",
    "class Fermentation(bst.StirredTankReactor):\n",
    "    _N_ins = 1 # Number of inlets\n",
    "    _N_outs = None # Number of outlets\n",
    "    T_default = None # Operating temperature [K]\n",
    "    P_default = 101325. # Pressure[Pa]\n",
    "    tau_default = None # Reaction time [hr]\n",
    "    auxiliary_units = (\n",
    "        'preheater', \n",
    "        *bst.StirredTankReactor.auxiliary_units\n",
    "    )\n",
    "\n",
    "    def _run(self):\n",
    "        fermentation = None # Define reaction with bst.Reaction\n",
    "        cell_growth = bst.Reaction('Glucose -> Yeast', 'Glucose', 0.70, basis='wt')\n",
    "        \n",
    "        feed, = self.ins # Get inlets \n",
    "        vent, effluent = None # Get outlets\n",
    "        \n",
    "        self.auxiliary(\n",
    "            'preheater', bst.HXutility, \n",
    "            ins=feed, # Feed from parent \n",
    "            T=None # Outlet temperature\n",
    "        )\n",
    "        heated_feed = self.preheater.outs[0]\n",
    "        effluent.copy_like(heated_feed)\n",
    "        \n",
    "        # Isothermally react effluent\n",
    "        fermentation(effluent)\n",
    "        cell_growth(effluent)\n",
    "        \n",
    "        # Perform vapor-liquid equilibrium to find vent\n",
    "        effluent.vle(T=None, P=None)\n",
    "        vent.copy_like(effluent['g'])\n",
    "        effluent['g'].empty()\n"
   ]
  },
  {
   "cell_type": "markdown",
   "id": "ad24c43e",
   "metadata": {},
   "source": [
    "**Step 2: Test results**\n",
    "\n",
    "* Check diagram\n",
    "* Check streams\n",
    "* Check design and cost"
   ]
  },
  {
   "cell_type": "code",
   "execution_count": null,
   "id": "f19ddfab",
   "metadata": {},
   "outputs": [],
   "source": [
    "from biorefineries.corn import create_chemicals\n",
    "chemicals = create_chemicals()\n",
    "bst.settings.set_thermo(chemicals)\n",
    "slurry = bst.Stream(\n",
    "    'slurry', \n",
    "    Water=71.24, \n",
    "    Glucose=20.66, \n",
    "    TriOlein=1.153, \n",
    "    Fiber=3.646, \n",
    "    SolubleProtein=1.248,\n",
    "    InsolubleProtein=1.523, \n",
    "    Ash=0.4254, \n",
    "    Yeast=0.01096, \n",
    "    CaO=0.003109, \n",
    "    H2SO4=0.0313,\n",
    "    NH3=0.05181,\n",
    "    units='kg/hr'\n",
    ")\n",
    "R1 = Fermentation(\n",
    "    ins=None, \n",
    "    outs=('CO2', 'product')\n",
    ")\n",
    "R1.simulate()\n",
    "R1.diagram()\n",
    "R1.show()\n",
    "R1.results()"
   ]
  }
 ],
 "metadata": {
  "kernelspec": {
   "display_name": "Python 3 (ipykernel)",
   "language": "python",
   "name": "python3"
  },
  "language_info": {
   "codemirror_mode": {
    "name": "ipython",
    "version": 3
   },
   "file_extension": ".py",
   "mimetype": "text/x-python",
   "name": "python",
   "nbconvert_exporter": "python",
   "pygments_lexer": "ipython3",
   "version": "3.11.4"
  }
 },
 "nbformat": 4,
 "nbformat_minor": 5
}
